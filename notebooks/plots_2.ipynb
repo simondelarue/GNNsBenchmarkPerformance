{
 "cells": [
  {
   "attachments": {},
   "cell_type": "markdown",
   "metadata": {},
   "source": [
    "# Wikivitals datasets"
   ]
  },
  {
   "cell_type": "code",
   "execution_count": 1,
   "metadata": {},
   "outputs": [],
   "source": [
    "import os\n",
    "import pandas as pd\n",
    "import pickle\n",
    "import plotly.express as px\n",
    "import plotly.graph_objs as go"
   ]
  },
  {
   "cell_type": "code",
   "execution_count": 30,
   "metadata": {},
   "outputs": [],
   "source": [
    "def load_dict(path: str, filename: str) -> dict:\n",
    "    \"\"\"Load dictionary.\"\"\"\n",
    "    with open(f'{os.path.join(path, filename)}', 'rb') as f:\n",
    "        data = pickle.load(f)\n",
    "    return data\n",
    "\n",
    "def data2df(path: str, **kwargs):\n",
    "    \"\"\"Load data and save it to DataFrame.\"\"\"\n",
    "    # Initialize DataFrame\n",
    "    df = pd.DataFrame(columns=['dataset', 'model', 'k', 'train_acc', 'test_acc', 'computation_time'])\n",
    "    n_params = len(kwargs.keys())\n",
    "\n",
    "    print(kwargs.items())\n",
    "    # Load data\n",
    "    for i, file in enumerate(os.listdir(path)):\n",
    "        cpt = 0\n",
    "        for key_elem, value in kwargs.items():\n",
    "            if str(key_elem) == 'use_features' and str(value).lower() == 'false':\n",
    "                if 'use_featurestrue' in file:\n",
    "                    cpt += 1\n",
    "            elif (str(key_elem) + str(value).lower()) not in file:\n",
    "                cpt += 1\n",
    "        \n",
    "        if cpt == 0:\n",
    "            # Load data\n",
    "            data = load_dict(path, file)\n",
    "            k = data.get('meta').k\n",
    "            try:\n",
    "                if data.get('meta').embedding_method is not None:\n",
    "                    model = data.get('meta').model + '_embedding_method' + data.get('meta').embedding_method\n",
    "                else:\n",
    "                    model = data.get('meta').model\n",
    "            except:\n",
    "                model = data.get('meta').model\n",
    "            mydf = pd.DataFrame({'dataset': [data.get('meta').dataset] * k,\n",
    "                        'model': [model] * k,\n",
    "                        'k': [k] * k,\n",
    "                        'train_size': [1 - (2 * (1 / k))] * k,\n",
    "                        'test_size': [2 * (1 / k)] * k, # test + val\n",
    "                        'train_acc': data.get('results').get('train acc'),\n",
    "                        'test_acc': data.get('results').get('test acc'),\n",
    "                        'computation_time': data.get('results').get('elapsed_time')})\n",
    "            df = pd.concat([df, mydf.sort_values('test_size')], ignore_index=True)\n",
    "        \n",
    "    return df\n",
    "\n",
    "# From StackOverflow\n",
    "def line(error_y_mode=None, **kwargs):\n",
    "    \"\"\"Extension of `plotly.express.line` to use error bands.\"\"\"\n",
    "    ERROR_MODES = {'bar','band','bars','bands',None}\n",
    "    if error_y_mode not in ERROR_MODES:\n",
    "        raise ValueError(f\"'error_y_mode' must be one of {ERROR_MODES}, received {repr(error_y_mode)}.\")\n",
    "    if error_y_mode in {'bar','bars',None}:\n",
    "        fig = px.line(**kwargs)\n",
    "    elif error_y_mode in {'band','bands'}:\n",
    "        if 'error_y' not in kwargs:\n",
    "            raise ValueError(f\"If you provide argument 'error_y_mode' you must also provide 'error_y'.\")\n",
    "        figure_with_error_bars = px.line(**kwargs)\n",
    "        fig = px.line(**{arg: val for arg,val in kwargs.items() if arg != 'error_y'})\n",
    "        for data in figure_with_error_bars.data:\n",
    "            x = list(data['x'])\n",
    "            y_upper = list(data['y'] + data['error_y']['array'])\n",
    "            y_lower = list(data['y'] - data['error_y']['array'] if data['error_y']['arrayminus'] is None else data['y'] - data['error_y']['arrayminus'])\n",
    "            color = f\"rgba({tuple(int(data['line']['color'].lstrip('#')[i:i+2], 16) for i in (0, 2, 4))},.3)\".replace('((','(').replace('),',',').replace(' ','')\n",
    "            fig.add_trace(\n",
    "                go.Scatter(\n",
    "                    x = x+x[::-1],\n",
    "                    y = y_upper+y_lower[::-1],\n",
    "                    fill = 'toself',\n",
    "                    fillcolor = color,\n",
    "                    line = dict(\n",
    "                        color = 'rgba(255,255,255,0)'\n",
    "                    ),\n",
    "                    hoverinfo = \"skip\",\n",
    "                    showlegend = False,\n",
    "                    legendgroup = data['legendgroup'],\n",
    "                    xaxis = data['xaxis'],\n",
    "                    yaxis = data['yaxis'],\n",
    "                )\n",
    "            )\n",
    "        # Reorder data as said here: https://stackoverflow.com/a/66854398/8849755\n",
    "        reordered_data = []\n",
    "        for i in range(int(len(fig.data)/2)):\n",
    "            reordered_data.append(fig.data[i+int(len(fig.data)/2)])\n",
    "            reordered_data.append(fig.data[i])\n",
    "        fig.data = tuple(reordered_data)\n",
    "    return fig"
   ]
  },
  {
   "attachments": {},
   "cell_type": "markdown",
   "metadata": {},
   "source": [
    "## 1. Graph structure only for baselines"
   ]
  },
  {
   "cell_type": "code",
   "execution_count": 26,
   "metadata": {},
   "outputs": [
    {
     "name": "stdout",
     "output_type": "stream",
     "text": [
      "dict_items([('undirected', False), ('penalized', True), ('use_features', False)])\n",
      "(959, 8)\n"
     ]
    }
   ],
   "source": [
    "RUNPATH = os.path.join(os.path.dirname(os.getcwd()), 'runs')\n",
    "\n",
    "# Store data into DataFrame\n",
    "df = data2df(RUNPATH, undirected=False, penalized=True, use_features=False)\n",
    "print(df.shape)"
   ]
  },
  {
   "cell_type": "code",
   "execution_count": 27,
   "metadata": {},
   "outputs": [
    {
     "data": {
      "text/html": [
       "<div>\n",
       "<style scoped>\n",
       "    .dataframe tbody tr th:only-of-type {\n",
       "        vertical-align: middle;\n",
       "    }\n",
       "\n",
       "    .dataframe tbody tr th {\n",
       "        vertical-align: top;\n",
       "    }\n",
       "\n",
       "    .dataframe thead th {\n",
       "        text-align: right;\n",
       "    }\n",
       "</style>\n",
       "<table border=\"1\" class=\"dataframe\">\n",
       "  <thead>\n",
       "    <tr style=\"text-align: right;\">\n",
       "      <th></th>\n",
       "      <th>dataset</th>\n",
       "      <th>model</th>\n",
       "      <th>k</th>\n",
       "      <th>train_acc</th>\n",
       "      <th>test_acc</th>\n",
       "      <th>computation_time</th>\n",
       "      <th>train_size</th>\n",
       "      <th>test_size</th>\n",
       "    </tr>\n",
       "  </thead>\n",
       "  <tbody>\n",
       "    <tr>\n",
       "      <th>729</th>\n",
       "      <td>wikivitals</td>\n",
       "      <td>Diffusion</td>\n",
       "      <td>3</td>\n",
       "      <td>1.0</td>\n",
       "      <td>0.683099</td>\n",
       "      <td>0.067102</td>\n",
       "      <td>0.333333</td>\n",
       "      <td>0.666667</td>\n",
       "    </tr>\n",
       "    <tr>\n",
       "      <th>730</th>\n",
       "      <td>wikivitals</td>\n",
       "      <td>Diffusion</td>\n",
       "      <td>3</td>\n",
       "      <td>1.0</td>\n",
       "      <td>0.697782</td>\n",
       "      <td>0.066515</td>\n",
       "      <td>0.333333</td>\n",
       "      <td>0.666667</td>\n",
       "    </tr>\n",
       "    <tr>\n",
       "      <th>731</th>\n",
       "      <td>wikivitals</td>\n",
       "      <td>Diffusion</td>\n",
       "      <td>3</td>\n",
       "      <td>1.0</td>\n",
       "      <td>0.693587</td>\n",
       "      <td>0.066292</td>\n",
       "      <td>0.333333</td>\n",
       "      <td>0.666667</td>\n",
       "    </tr>\n",
       "  </tbody>\n",
       "</table>\n",
       "</div>"
      ],
      "text/plain": [
       "        dataset      model  k  train_acc  test_acc  computation_time   \n",
       "729  wikivitals  Diffusion  3        1.0  0.683099          0.067102  \\\n",
       "730  wikivitals  Diffusion  3        1.0  0.697782          0.066515   \n",
       "731  wikivitals  Diffusion  3        1.0  0.693587          0.066292   \n",
       "\n",
       "     train_size  test_size  \n",
       "729    0.333333   0.666667  \n",
       "730    0.333333   0.666667  \n",
       "731    0.333333   0.666667  "
      ]
     },
     "execution_count": 27,
     "metadata": {},
     "output_type": "execute_result"
    }
   ],
   "source": [
    "df[(df['dataset']=='wikivitals') & (df['model']=='Diffusion') & (df['k']==3)]"
   ]
  },
  {
   "cell_type": "code",
   "execution_count": 28,
   "metadata": {},
   "outputs": [
    {
     "data": {
      "text/plain": [
       "(array(['wikivitals-fr', 'wikivitals', 'wikischools'], dtype=object),\n",
       " array(['KNN_embedding_methodtrue', 'LabelPropagation', 'GAT', 'KNN',\n",
       "        'Diffusion', 'PageRank', 'SGC', 'GCN', 'GraphSage'], dtype=object))"
      ]
     },
     "execution_count": 28,
     "metadata": {},
     "output_type": "execute_result"
    }
   ],
   "source": [
    "df.dataset.unique(), df.model.unique()"
   ]
  },
  {
   "attachments": {},
   "cell_type": "markdown",
   "metadata": {},
   "source": [
    "`Wikivitals`"
   ]
  },
  {
   "cell_type": "code",
   "execution_count": 33,
   "metadata": {},
   "outputs": [
    {
     "data": {
      "application/vnd.plotly.v1+json": {
       "config": {
        "plotlyServerURL": "https://plot.ly"
       },
       "data": [
        {
         "fill": "toself",
         "fillcolor": "rgba(99,110,250,.3)",
         "hoverinfo": "skip",
         "legendgroup": "Diffusion",
         "line": {
          "color": "rgba(255,255,255,0)"
         },
         "showlegend": false,
         "type": "scatter",
         "x": [
          0.6666666666666666,
          0.5,
          0.4,
          0.3333333333333333,
          0.2857142857142857,
          0.25,
          0.2222222222222222,
          0.2,
          0.2,
          0.2222222222222222,
          0.25,
          0.2857142857142857,
          0.3333333333333333,
          0.4,
          0.5,
          0.6666666666666666
         ],
         "xaxis": "x",
         "y": [
          0.6990526997087947,
          0.7079290316428432,
          0.711289616732192,
          0.7141963305006593,
          0.7147632433080817,
          0.7157933082744748,
          0.7158669061384231,
          0.7193546913774268,
          0.706378886078567,
          0.7078676274195028,
          0.7055436870213861,
          0.7032777859178478,
          0.7028440509079483,
          0.7016565382364348,
          0.6998218870349632,
          0.6839260236954605
         ],
         "yaxis": "y"
        },
        {
         "hovertemplate": "model=Diffusion<br>test_size=%{x}<br>test_acc_avg=%{y}<extra></extra>",
         "legendgroup": "Diffusion",
         "line": {
          "color": "#636efa",
          "dash": "solid"
         },
         "marker": {
          "symbol": "circle"
         },
         "mode": "markers+lines",
         "name": "Diffusion",
         "orientation": "v",
         "showlegend": true,
         "type": "scatter",
         "x": [
          0.6666666666666666,
          0.5,
          0.4,
          0.3333333333333333,
          0.2857142857142857,
          0.25,
          0.2222222222222222,
          0.2
         ],
         "xaxis": "x",
         "y": [
          0.6914893617021276,
          0.7038754593389032,
          0.7064730774843134,
          0.7085201907043038,
          0.7090205146129648,
          0.7106684976479305,
          0.711867266778963,
          0.7128667887279969
         ],
         "yaxis": "y"
        },
        {
         "fill": "toself",
         "fillcolor": "rgba(239,85,59,.3)",
         "hoverinfo": "skip",
         "legendgroup": "GAT",
         "line": {
          "color": "rgba(255,255,255,0)"
         },
         "showlegend": false,
         "type": "scatter",
         "x": [
          0.6666666666666666,
          0.5,
          0.4,
          0.3333333333333333,
          0.2857142857142857,
          0.25,
          0.2222222222222222,
          0.2,
          0.2,
          0.2222222222222222,
          0.25,
          0.2857142857142857,
          0.3333333333333333,
          0.4,
          0.5,
          0.6666666666666666
         ],
         "xaxis": "x",
         "y": [
          0.7771793147577089,
          0.7509070926192326,
          0.7681467702226163,
          0.7864383483812106,
          0.7670310976407992,
          0.7213588322093026,
          0.783641189423862,
          0.7642795842809887,
          0.653756731209146,
          0.6966268624863063,
          0.6364902034792407,
          0.6684565301921623,
          0.6936929283353833,
          0.5716507938446107,
          0.7082183604335076,
          0.5899168794286862
         ],
         "yaxis": "y"
        },
        {
         "hovertemplate": "model=GAT<br>test_size=%{x}<br>test_acc_avg=%{y}<extra></extra>",
         "legendgroup": "GAT",
         "line": {
          "color": "#EF553B",
          "dash": "solid"
         },
         "marker": {
          "symbol": "circle"
         },
         "mode": "markers+lines",
         "name": "GAT",
         "orientation": "v",
         "showlegend": true,
         "type": "scatter",
         "x": [
          0.6666666666666666,
          0.5,
          0.4,
          0.3333333333333333,
          0.2857142857142857,
          0.25,
          0.2222222222222222,
          0.2
         ],
         "xaxis": "x",
         "y": [
          0.6835480970931975,
          0.7295627265263701,
          0.6698987820336135,
          0.740065638358297,
          0.7177438139164808,
          0.6789245178442717,
          0.7401340259550842,
          0.7090181577450674
         ],
         "yaxis": "y"
        },
        {
         "fill": "toself",
         "fillcolor": "rgba(0,204,150,.3)",
         "hoverinfo": "skip",
         "legendgroup": "GCN",
         "line": {
          "color": "rgba(255,255,255,0)"
         },
         "showlegend": false,
         "type": "scatter",
         "x": [
          0.6666666666666666,
          0.5,
          0.4,
          0.3333333333333333,
          0.2857142857142857,
          0.25,
          0.2222222222222222,
          0.2,
          0.2,
          0.2222222222222222,
          0.25,
          0.2857142857142857,
          0.3333333333333333,
          0.4,
          0.5,
          0.6666666666666666
         ],
         "xaxis": "x",
         "y": [
          0.790020565783664,
          0.7894904609696255,
          0.8061217192267113,
          0.8058340173660545,
          0.8010209730967056,
          0.8017802957878316,
          0.8000597640333239,
          0.8070331421067506,
          0.7919085884875013,
          0.7822629714432218,
          0.7793769198359152,
          0.7842336185192981,
          0.7914090807218845,
          0.7871926152112186,
          0.7815151148901255,
          0.7703630122804656
         ],
         "yaxis": "y"
        },
        {
         "hovertemplate": "model=GCN<br>test_size=%{x}<br>test_acc_avg=%{y}<extra></extra>",
         "legendgroup": "GCN",
         "line": {
          "color": "#00cc96",
          "dash": "solid"
         },
         "marker": {
          "symbol": "circle"
         },
         "mode": "markers+lines",
         "name": "GCN",
         "orientation": "v",
         "showlegend": true,
         "type": "scatter",
         "x": [
          0.6666666666666666,
          0.5,
          0.4,
          0.3333333333333333,
          0.2857142857142857,
          0.25,
          0.2222222222222222,
          0.2
         ],
         "xaxis": "x",
         "y": [
          0.7801917890320648,
          0.7855027879298755,
          0.796657167218965,
          0.7986215490439695,
          0.7926272958080018,
          0.7905786078118734,
          0.7911613677382728,
          0.799470865297126
         ],
         "yaxis": "y"
        },
        {
         "fill": "toself",
         "fillcolor": "rgba(171,99,250,.3)",
         "hoverinfo": "skip",
         "legendgroup": "KNN",
         "line": {
          "color": "rgba(255,255,255,0)"
         },
         "showlegend": false,
         "type": "scatter",
         "x": [
          0.6666666666666666,
          0.5,
          0.4,
          0.3333333333333333,
          0.2857142857142857,
          0.25,
          0.2222222222222222,
          0.2,
          0.2,
          0.2222222222222222,
          0.25,
          0.2857142857142857,
          0.3333333333333333,
          0.4,
          0.5,
          0.6666666666666666
         ],
         "xaxis": "x",
         "y": [
          0.77418668221226,
          0.8250218703519385,
          0.8067705950736147,
          0.7941694467656012,
          0.7751873767005918,
          0.7594651701493067,
          0.7428482038363482,
          0.7275407894122647,
          0.4753555154810445,
          0.48366497043298295,
          0.49490341028512463,
          0.5115019214182762,
          0.5371154504887802,
          0.5822176950382708,
          0.5496788983160694,
          0.7093813929051108
         ],
         "yaxis": "y"
        },
        {
         "hovertemplate": "model=KNN<br>test_size=%{x}<br>test_acc_avg=%{y}<extra></extra>",
         "legendgroup": "KNN",
         "line": {
          "color": "#ab63fa",
          "dash": "solid"
         },
         "marker": {
          "symbol": "circle"
         },
         "mode": "markers+lines",
         "name": "KNN",
         "orientation": "v",
         "showlegend": true,
         "type": "scatter",
         "x": [
          0.6666666666666666,
          0.5,
          0.4,
          0.3333333333333333,
          0.2857142857142857,
          0.25,
          0.2222222222222222,
          0.2
         ],
         "xaxis": "x",
         "y": [
          0.7417840375586854,
          0.687350384334004,
          0.6944941450559428,
          0.6656424486271907,
          0.643344649059434,
          0.6271842902172157,
          0.6132565871346656,
          0.6014481524466546
         ],
         "yaxis": "y"
        },
        {
         "fill": "toself",
         "fillcolor": "rgba(255,161,90,.3)",
         "hoverinfo": "skip",
         "legendgroup": "KNN_embedding_methodtrue",
         "line": {
          "color": "rgba(255,255,255,0)"
         },
         "showlegend": false,
         "type": "scatter",
         "x": [
          0.6666666666666666,
          0.5,
          0.4,
          0.3333333333333333,
          0.2857142857142857,
          0.25,
          0.2222222222222222,
          0.2,
          0.2,
          0.2222222222222222,
          0.25,
          0.2857142857142857,
          0.3333333333333333,
          0.4,
          0.5,
          0.6666666666666666
         ],
         "xaxis": "x",
         "y": [
          0.6196509289601992,
          0.6283842876126431,
          0.6282998117331173,
          0.6292646446678039,
          0.6296506188214015,
          0.6334092578428785,
          0.6328577947220494,
          0.6326839763191441,
          0.6210356440505012,
          0.6217596584932658,
          0.6195095630869956,
          0.6195743610222431,
          0.6215589251932028,
          0.6186275181155607,
          0.6169463904986983,
          0.609796678671406
         ],
         "yaxis": "y"
        },
        {
         "hovertemplate": "model=KNN_embedding_methodtrue<br>test_size=%{x}<br>test_acc_avg=%{y}<extra></extra>",
         "legendgroup": "KNN_embedding_methodtrue",
         "line": {
          "color": "#FFA15A",
          "dash": "solid"
         },
         "marker": {
          "symbol": "circle"
         },
         "mode": "markers+lines",
         "name": "KNN_embedding_methodtrue",
         "orientation": "v",
         "showlegend": true,
         "type": "scatter",
         "x": [
          0.6666666666666666,
          0.5,
          0.4,
          0.3333333333333333,
          0.2857142857142857,
          0.25,
          0.2222222222222222,
          0.2
         ],
         "xaxis": "x",
         "y": [
          0.6147238038158026,
          0.6226653390556707,
          0.623463664924339,
          0.6254117849305033,
          0.6246124899218223,
          0.626459410464937,
          0.6273087266076576,
          0.6268598101848226
         ],
         "yaxis": "y"
        },
        {
         "fill": "toself",
         "fillcolor": "rgba(25,211,243,.3)",
         "hoverinfo": "skip",
         "legendgroup": "LabelPropagation",
         "line": {
          "color": "rgba(255,255,255,0)"
         },
         "showlegend": false,
         "type": "scatter",
         "x": [
          0.6666666666666666,
          0.5,
          0.4,
          0.3333333333333333,
          0.2857142857142857,
          0.25,
          0.2222222222222222,
          0.2,
          0.2,
          0.2222222222222222,
          0.25,
          0.2857142857142857,
          0.3333333333333333,
          0.4,
          0.5,
          0.6666666666666666
         ],
         "xaxis": "x",
         "y": [
          0.4386529441627611,
          0.5947931100022269,
          0.6507867488270498,
          0.672916778461402,
          0.6876310763895871,
          0.6956623268238062,
          0.6987875256235814,
          0.7004906613259944,
          0.6919772801184821,
          0.6864896347210907,
          0.6801252468255401,
          0.673072183999098,
          0.6623149960253049,
          0.6352999235517576,
          0.5853083706186305,
          0.4250969309745879
         ],
         "yaxis": "y"
        },
        {
         "hovertemplate": "model=LabelPropagation<br>test_size=%{x}<br>test_acc_avg=%{y}<extra></extra>",
         "legendgroup": "LabelPropagation",
         "line": {
          "color": "#19d3f3",
          "dash": "solid"
         },
         "marker": {
          "symbol": "circle"
         },
         "mode": "markers+lines",
         "name": "LabelPropagation",
         "orientation": "v",
         "showlegend": true,
         "type": "scatter",
         "x": [
          0.6666666666666666,
          0.5,
          0.4,
          0.3333333333333333,
          0.2857142857142857,
          0.25,
          0.2222222222222222,
          0.2
         ],
         "xaxis": "x",
         "y": [
          0.4318749375686745,
          0.5900507403104287,
          0.6430433361894037,
          0.6676158872433534,
          0.6803516301943425,
          0.6878937868246732,
          0.692638580172336,
          0.6962339707222382
         ],
         "yaxis": "y"
        },
        {
         "fill": "toself",
         "fillcolor": "rgba(255,102,146,.3)",
         "hoverinfo": "skip",
         "legendgroup": "PageRank",
         "line": {
          "color": "rgba(255,255,255,0)"
         },
         "showlegend": false,
         "type": "scatter",
         "x": [
          0.6666666666666666,
          0.5,
          0.4,
          0.3333333333333333,
          0.2857142857142857,
          0.25,
          0.2222222222222222,
          0.2,
          0.2,
          0.2222222222222222,
          0.25,
          0.2857142857142857,
          0.3333333333333333,
          0.4,
          0.5,
          0.6666666666666666
         ],
         "xaxis": "x",
         "y": [
          0.6709547987473417,
          0.6842969238331945,
          0.6882748855133516,
          0.6920520389628071,
          0.6921574480321416,
          0.6962277434437244,
          0.698361045878907,
          0.6960518778046403,
          0.676641330135697,
          0.6762302346688404,
          0.677564302697112,
          0.6768382888419596,
          0.6746471613233065,
          0.6726297529193765,
          0.6751080339736809,
          0.6646760073659339
         ],
         "yaxis": "y"
        },
        {
         "hovertemplate": "model=PageRank<br>test_size=%{x}<br>test_acc_avg=%{y}<extra></extra>",
         "legendgroup": "PageRank",
         "line": {
          "color": "#FF6692",
          "dash": "solid"
         },
         "marker": {
          "symbol": "circle"
         },
         "mode": "markers+lines",
         "name": "PageRank",
         "orientation": "v",
         "showlegend": true,
         "type": "scatter",
         "x": [
          0.6666666666666666,
          0.5,
          0.4,
          0.3333333333333333,
          0.2857142857142857,
          0.25,
          0.2222222222222222,
          0.2
         ],
         "xaxis": "x",
         "y": [
          0.6678154030566378,
          0.6797024789034377,
          0.6804523192163641,
          0.6833496001430568,
          0.6844978684370506,
          0.6868960230704182,
          0.6872956402738737,
          0.6863466039701687
         ],
         "yaxis": "y"
        }
       ],
       "layout": {
        "legend": {
         "title": {
          "text": "model"
         },
         "tracegroupgap": 0
        },
        "template": {
         "data": {
          "bar": [
           {
            "error_x": {
             "color": "#2a3f5f"
            },
            "error_y": {
             "color": "#2a3f5f"
            },
            "marker": {
             "line": {
              "color": "#E5ECF6",
              "width": 0.5
             },
             "pattern": {
              "fillmode": "overlay",
              "size": 10,
              "solidity": 0.2
             }
            },
            "type": "bar"
           }
          ],
          "barpolar": [
           {
            "marker": {
             "line": {
              "color": "#E5ECF6",
              "width": 0.5
             },
             "pattern": {
              "fillmode": "overlay",
              "size": 10,
              "solidity": 0.2
             }
            },
            "type": "barpolar"
           }
          ],
          "carpet": [
           {
            "aaxis": {
             "endlinecolor": "#2a3f5f",
             "gridcolor": "white",
             "linecolor": "white",
             "minorgridcolor": "white",
             "startlinecolor": "#2a3f5f"
            },
            "baxis": {
             "endlinecolor": "#2a3f5f",
             "gridcolor": "white",
             "linecolor": "white",
             "minorgridcolor": "white",
             "startlinecolor": "#2a3f5f"
            },
            "type": "carpet"
           }
          ],
          "choropleth": [
           {
            "colorbar": {
             "outlinewidth": 0,
             "ticks": ""
            },
            "type": "choropleth"
           }
          ],
          "contour": [
           {
            "colorbar": {
             "outlinewidth": 0,
             "ticks": ""
            },
            "colorscale": [
             [
              0,
              "#0d0887"
             ],
             [
              0.1111111111111111,
              "#46039f"
             ],
             [
              0.2222222222222222,
              "#7201a8"
             ],
             [
              0.3333333333333333,
              "#9c179e"
             ],
             [
              0.4444444444444444,
              "#bd3786"
             ],
             [
              0.5555555555555556,
              "#d8576b"
             ],
             [
              0.6666666666666666,
              "#ed7953"
             ],
             [
              0.7777777777777778,
              "#fb9f3a"
             ],
             [
              0.8888888888888888,
              "#fdca26"
             ],
             [
              1,
              "#f0f921"
             ]
            ],
            "type": "contour"
           }
          ],
          "contourcarpet": [
           {
            "colorbar": {
             "outlinewidth": 0,
             "ticks": ""
            },
            "type": "contourcarpet"
           }
          ],
          "heatmap": [
           {
            "colorbar": {
             "outlinewidth": 0,
             "ticks": ""
            },
            "colorscale": [
             [
              0,
              "#0d0887"
             ],
             [
              0.1111111111111111,
              "#46039f"
             ],
             [
              0.2222222222222222,
              "#7201a8"
             ],
             [
              0.3333333333333333,
              "#9c179e"
             ],
             [
              0.4444444444444444,
              "#bd3786"
             ],
             [
              0.5555555555555556,
              "#d8576b"
             ],
             [
              0.6666666666666666,
              "#ed7953"
             ],
             [
              0.7777777777777778,
              "#fb9f3a"
             ],
             [
              0.8888888888888888,
              "#fdca26"
             ],
             [
              1,
              "#f0f921"
             ]
            ],
            "type": "heatmap"
           }
          ],
          "heatmapgl": [
           {
            "colorbar": {
             "outlinewidth": 0,
             "ticks": ""
            },
            "colorscale": [
             [
              0,
              "#0d0887"
             ],
             [
              0.1111111111111111,
              "#46039f"
             ],
             [
              0.2222222222222222,
              "#7201a8"
             ],
             [
              0.3333333333333333,
              "#9c179e"
             ],
             [
              0.4444444444444444,
              "#bd3786"
             ],
             [
              0.5555555555555556,
              "#d8576b"
             ],
             [
              0.6666666666666666,
              "#ed7953"
             ],
             [
              0.7777777777777778,
              "#fb9f3a"
             ],
             [
              0.8888888888888888,
              "#fdca26"
             ],
             [
              1,
              "#f0f921"
             ]
            ],
            "type": "heatmapgl"
           }
          ],
          "histogram": [
           {
            "marker": {
             "pattern": {
              "fillmode": "overlay",
              "size": 10,
              "solidity": 0.2
             }
            },
            "type": "histogram"
           }
          ],
          "histogram2d": [
           {
            "colorbar": {
             "outlinewidth": 0,
             "ticks": ""
            },
            "colorscale": [
             [
              0,
              "#0d0887"
             ],
             [
              0.1111111111111111,
              "#46039f"
             ],
             [
              0.2222222222222222,
              "#7201a8"
             ],
             [
              0.3333333333333333,
              "#9c179e"
             ],
             [
              0.4444444444444444,
              "#bd3786"
             ],
             [
              0.5555555555555556,
              "#d8576b"
             ],
             [
              0.6666666666666666,
              "#ed7953"
             ],
             [
              0.7777777777777778,
              "#fb9f3a"
             ],
             [
              0.8888888888888888,
              "#fdca26"
             ],
             [
              1,
              "#f0f921"
             ]
            ],
            "type": "histogram2d"
           }
          ],
          "histogram2dcontour": [
           {
            "colorbar": {
             "outlinewidth": 0,
             "ticks": ""
            },
            "colorscale": [
             [
              0,
              "#0d0887"
             ],
             [
              0.1111111111111111,
              "#46039f"
             ],
             [
              0.2222222222222222,
              "#7201a8"
             ],
             [
              0.3333333333333333,
              "#9c179e"
             ],
             [
              0.4444444444444444,
              "#bd3786"
             ],
             [
              0.5555555555555556,
              "#d8576b"
             ],
             [
              0.6666666666666666,
              "#ed7953"
             ],
             [
              0.7777777777777778,
              "#fb9f3a"
             ],
             [
              0.8888888888888888,
              "#fdca26"
             ],
             [
              1,
              "#f0f921"
             ]
            ],
            "type": "histogram2dcontour"
           }
          ],
          "mesh3d": [
           {
            "colorbar": {
             "outlinewidth": 0,
             "ticks": ""
            },
            "type": "mesh3d"
           }
          ],
          "parcoords": [
           {
            "line": {
             "colorbar": {
              "outlinewidth": 0,
              "ticks": ""
             }
            },
            "type": "parcoords"
           }
          ],
          "pie": [
           {
            "automargin": true,
            "type": "pie"
           }
          ],
          "scatter": [
           {
            "fillpattern": {
             "fillmode": "overlay",
             "size": 10,
             "solidity": 0.2
            },
            "type": "scatter"
           }
          ],
          "scatter3d": [
           {
            "line": {
             "colorbar": {
              "outlinewidth": 0,
              "ticks": ""
             }
            },
            "marker": {
             "colorbar": {
              "outlinewidth": 0,
              "ticks": ""
             }
            },
            "type": "scatter3d"
           }
          ],
          "scattercarpet": [
           {
            "marker": {
             "colorbar": {
              "outlinewidth": 0,
              "ticks": ""
             }
            },
            "type": "scattercarpet"
           }
          ],
          "scattergeo": [
           {
            "marker": {
             "colorbar": {
              "outlinewidth": 0,
              "ticks": ""
             }
            },
            "type": "scattergeo"
           }
          ],
          "scattergl": [
           {
            "marker": {
             "colorbar": {
              "outlinewidth": 0,
              "ticks": ""
             }
            },
            "type": "scattergl"
           }
          ],
          "scattermapbox": [
           {
            "marker": {
             "colorbar": {
              "outlinewidth": 0,
              "ticks": ""
             }
            },
            "type": "scattermapbox"
           }
          ],
          "scatterpolar": [
           {
            "marker": {
             "colorbar": {
              "outlinewidth": 0,
              "ticks": ""
             }
            },
            "type": "scatterpolar"
           }
          ],
          "scatterpolargl": [
           {
            "marker": {
             "colorbar": {
              "outlinewidth": 0,
              "ticks": ""
             }
            },
            "type": "scatterpolargl"
           }
          ],
          "scatterternary": [
           {
            "marker": {
             "colorbar": {
              "outlinewidth": 0,
              "ticks": ""
             }
            },
            "type": "scatterternary"
           }
          ],
          "surface": [
           {
            "colorbar": {
             "outlinewidth": 0,
             "ticks": ""
            },
            "colorscale": [
             [
              0,
              "#0d0887"
             ],
             [
              0.1111111111111111,
              "#46039f"
             ],
             [
              0.2222222222222222,
              "#7201a8"
             ],
             [
              0.3333333333333333,
              "#9c179e"
             ],
             [
              0.4444444444444444,
              "#bd3786"
             ],
             [
              0.5555555555555556,
              "#d8576b"
             ],
             [
              0.6666666666666666,
              "#ed7953"
             ],
             [
              0.7777777777777778,
              "#fb9f3a"
             ],
             [
              0.8888888888888888,
              "#fdca26"
             ],
             [
              1,
              "#f0f921"
             ]
            ],
            "type": "surface"
           }
          ],
          "table": [
           {
            "cells": {
             "fill": {
              "color": "#EBF0F8"
             },
             "line": {
              "color": "white"
             }
            },
            "header": {
             "fill": {
              "color": "#C8D4E3"
             },
             "line": {
              "color": "white"
             }
            },
            "type": "table"
           }
          ]
         },
         "layout": {
          "annotationdefaults": {
           "arrowcolor": "#2a3f5f",
           "arrowhead": 0,
           "arrowwidth": 1
          },
          "autotypenumbers": "strict",
          "coloraxis": {
           "colorbar": {
            "outlinewidth": 0,
            "ticks": ""
           }
          },
          "colorscale": {
           "diverging": [
            [
             0,
             "#8e0152"
            ],
            [
             0.1,
             "#c51b7d"
            ],
            [
             0.2,
             "#de77ae"
            ],
            [
             0.3,
             "#f1b6da"
            ],
            [
             0.4,
             "#fde0ef"
            ],
            [
             0.5,
             "#f7f7f7"
            ],
            [
             0.6,
             "#e6f5d0"
            ],
            [
             0.7,
             "#b8e186"
            ],
            [
             0.8,
             "#7fbc41"
            ],
            [
             0.9,
             "#4d9221"
            ],
            [
             1,
             "#276419"
            ]
           ],
           "sequential": [
            [
             0,
             "#0d0887"
            ],
            [
             0.1111111111111111,
             "#46039f"
            ],
            [
             0.2222222222222222,
             "#7201a8"
            ],
            [
             0.3333333333333333,
             "#9c179e"
            ],
            [
             0.4444444444444444,
             "#bd3786"
            ],
            [
             0.5555555555555556,
             "#d8576b"
            ],
            [
             0.6666666666666666,
             "#ed7953"
            ],
            [
             0.7777777777777778,
             "#fb9f3a"
            ],
            [
             0.8888888888888888,
             "#fdca26"
            ],
            [
             1,
             "#f0f921"
            ]
           ],
           "sequentialminus": [
            [
             0,
             "#0d0887"
            ],
            [
             0.1111111111111111,
             "#46039f"
            ],
            [
             0.2222222222222222,
             "#7201a8"
            ],
            [
             0.3333333333333333,
             "#9c179e"
            ],
            [
             0.4444444444444444,
             "#bd3786"
            ],
            [
             0.5555555555555556,
             "#d8576b"
            ],
            [
             0.6666666666666666,
             "#ed7953"
            ],
            [
             0.7777777777777778,
             "#fb9f3a"
            ],
            [
             0.8888888888888888,
             "#fdca26"
            ],
            [
             1,
             "#f0f921"
            ]
           ]
          },
          "colorway": [
           "#636efa",
           "#EF553B",
           "#00cc96",
           "#ab63fa",
           "#FFA15A",
           "#19d3f3",
           "#FF6692",
           "#B6E880",
           "#FF97FF",
           "#FECB52"
          ],
          "font": {
           "color": "#2a3f5f"
          },
          "geo": {
           "bgcolor": "white",
           "lakecolor": "white",
           "landcolor": "#E5ECF6",
           "showlakes": true,
           "showland": true,
           "subunitcolor": "white"
          },
          "hoverlabel": {
           "align": "left"
          },
          "hovermode": "closest",
          "mapbox": {
           "style": "light"
          },
          "paper_bgcolor": "white",
          "plot_bgcolor": "#E5ECF6",
          "polar": {
           "angularaxis": {
            "gridcolor": "white",
            "linecolor": "white",
            "ticks": ""
           },
           "bgcolor": "#E5ECF6",
           "radialaxis": {
            "gridcolor": "white",
            "linecolor": "white",
            "ticks": ""
           }
          },
          "scene": {
           "xaxis": {
            "backgroundcolor": "#E5ECF6",
            "gridcolor": "white",
            "gridwidth": 2,
            "linecolor": "white",
            "showbackground": true,
            "ticks": "",
            "zerolinecolor": "white"
           },
           "yaxis": {
            "backgroundcolor": "#E5ECF6",
            "gridcolor": "white",
            "gridwidth": 2,
            "linecolor": "white",
            "showbackground": true,
            "ticks": "",
            "zerolinecolor": "white"
           },
           "zaxis": {
            "backgroundcolor": "#E5ECF6",
            "gridcolor": "white",
            "gridwidth": 2,
            "linecolor": "white",
            "showbackground": true,
            "ticks": "",
            "zerolinecolor": "white"
           }
          },
          "shapedefaults": {
           "line": {
            "color": "#2a3f5f"
           }
          },
          "ternary": {
           "aaxis": {
            "gridcolor": "white",
            "linecolor": "white",
            "ticks": ""
           },
           "baxis": {
            "gridcolor": "white",
            "linecolor": "white",
            "ticks": ""
           },
           "bgcolor": "#E5ECF6",
           "caxis": {
            "gridcolor": "white",
            "linecolor": "white",
            "ticks": ""
           }
          },
          "title": {
           "x": 0.05
          },
          "xaxis": {
           "automargin": true,
           "gridcolor": "white",
           "linecolor": "white",
           "ticks": "",
           "title": {
            "standoff": 15
           },
           "zerolinecolor": "white",
           "zerolinewidth": 2
          },
          "yaxis": {
           "automargin": true,
           "gridcolor": "white",
           "linecolor": "white",
           "ticks": "",
           "title": {
            "standoff": 15
           },
           "zerolinecolor": "white",
           "zerolinewidth": 2
          }
         }
        },
        "title": {
         "text": "Test accuracy"
        },
        "xaxis": {
         "anchor": "y",
         "domain": [
          0,
          1
         ],
         "title": {
          "text": "test_size"
         }
        },
        "yaxis": {
         "anchor": "x",
         "domain": [
          0,
          1
         ],
         "title": {
          "text": "test_acc_avg"
         }
        }
       }
      }
     },
     "metadata": {},
     "output_type": "display_data"
    }
   ],
   "source": [
    "# Compute average and standard deviation according to values of k\n",
    "grouped = df.groupby(['dataset', 'model', 'k', 'train_size', 'test_size'])[['train_acc', 'test_acc']].agg({'train_acc': ['mean', 'std'], 'test_acc': ['mean', 'std']}).reset_index()\n",
    "grouped.columns = ['dataset', 'model', 'k', 'train_size', 'test_size', 'train_acc_avg', 'train_acc_std', 'test_acc_avg', 'test_acc_std', ]\n",
    "grouped\n",
    "\n",
    "# Test split\n",
    "for error_y_mode in {'band'}:\n",
    "    fig = line(\n",
    "        data_frame = grouped[grouped['dataset']=='wikivitals'],\n",
    "        x = 'test_size',\n",
    "        y = 'test_acc_avg',\n",
    "        error_y = 'test_acc_std',\n",
    "        error_y_mode = error_y_mode,\n",
    "        color = 'model',\n",
    "        title = f'Test accuracy',\n",
    "        markers = '.',\n",
    "    )\n",
    "    fig.show()"
   ]
  },
  {
   "cell_type": "markdown",
   "metadata": {},
   "source": [
    "`Wikivitals-fr`"
   ]
  },
  {
   "cell_type": "code",
   "execution_count": 35,
   "metadata": {},
   "outputs": [
    {
     "data": {
      "application/vnd.plotly.v1+json": {
       "config": {
        "plotlyServerURL": "https://plot.ly"
       },
       "data": [
        {
         "fill": "toself",
         "fillcolor": "rgba(99,110,250,.3)",
         "hoverinfo": "skip",
         "legendgroup": "Diffusion",
         "line": {
          "color": "rgba(255,255,255,0)"
         },
         "showlegend": false,
         "type": "scatter",
         "x": [
          0.6666666666666666,
          0.5,
          0.4,
          0.3333333333333333,
          0.2857142857142857,
          0.25,
          0.2222222222222222,
          0.2,
          0.2,
          0.2222222222222222,
          0.25,
          0.2857142857142857,
          0.3333333333333333,
          0.4,
          0.5,
          0.6666666666666666
         ],
         "xaxis": "x",
         "y": [
          0.6141823060928264,
          0.6181967890105298,
          0.6253675611279536,
          0.6279438455894194,
          0.628993373018366,
          0.6309285112883108,
          0.6320592207078762,
          0.6333077330606443,
          0.6170661555258066,
          0.6185189592820685,
          0.6180406658422614,
          0.6172600364079149,
          0.613683369174009,
          0.6160602920646056,
          0.612874082998399,
          0.5989901423737398
         ],
         "yaxis": "y"
        },
        {
         "hovertemplate": "model=Diffusion<br>test_size=%{x}<br>test_acc_avg=%{y}<extra></extra>",
         "legendgroup": "Diffusion",
         "line": {
          "color": "#636efa",
          "dash": "solid"
         },
         "marker": {
          "symbol": "circle"
         },
         "mode": "markers+lines",
         "name": "Diffusion",
         "orientation": "v",
         "showlegend": true,
         "type": "scatter",
         "x": [
          0.6666666666666666,
          0.5,
          0.4,
          0.3333333333333333,
          0.2857142857142857,
          0.25,
          0.2222222222222222,
          0.2
         ],
         "xaxis": "x",
         "y": [
          0.6065862242332831,
          0.6155354360044644,
          0.6207139265962796,
          0.6208136073817142,
          0.6231267047131405,
          0.6244845885652861,
          0.6252890899949723,
          0.6251869442932254
         ],
         "yaxis": "y"
        },
        {
         "fill": "toself",
         "fillcolor": "rgba(239,85,59,.3)",
         "hoverinfo": "skip",
         "legendgroup": "GAT",
         "line": {
          "color": "rgba(255,255,255,0)"
         },
         "showlegend": false,
         "type": "scatter",
         "x": [
          0.2222222222222222,
          0.2222222222222222
         ],
         "xaxis": "x",
         "y": [
          0.7288996329414893,
          0.7094110759574549
         ],
         "yaxis": "y"
        },
        {
         "hovertemplate": "model=GAT<br>test_size=%{x}<br>test_acc_avg=%{y}<extra></extra>",
         "legendgroup": "GAT",
         "line": {
          "color": "#EF553B",
          "dash": "solid"
         },
         "marker": {
          "symbol": "circle"
         },
         "mode": "markers+lines",
         "name": "GAT",
         "orientation": "v",
         "showlegend": true,
         "type": "scatter",
         "x": [
          0.2222222222222222
         ],
         "xaxis": "x",
         "y": [
          0.7191553544494721
         ],
         "yaxis": "y"
        },
        {
         "fill": "toself",
         "fillcolor": "rgba(0,204,150,.3)",
         "hoverinfo": "skip",
         "legendgroup": "GCN",
         "line": {
          "color": "rgba(255,255,255,0)"
         },
         "showlegend": false,
         "type": "scatter",
         "x": [
          0.6666666666666666,
          0.2222222222222222,
          0.2222222222222222,
          0.6666666666666666
         ],
         "xaxis": "x",
         "y": [
          0.7259856164864629,
          0.7519369168760753,
          0.7146962321100147,
          0.7135652465938123
         ],
         "yaxis": "y"
        },
        {
         "hovertemplate": "model=GCN<br>test_size=%{x}<br>test_acc_avg=%{y}<extra></extra>",
         "legendgroup": "GCN",
         "line": {
          "color": "#00cc96",
          "dash": "solid"
         },
         "marker": {
          "symbol": "circle"
         },
         "mode": "markers+lines",
         "name": "GCN",
         "orientation": "v",
         "showlegend": true,
         "type": "scatter",
         "x": [
          0.6666666666666666,
          0.2222222222222222
         ],
         "xaxis": "x",
         "y": [
          0.7197754315401376,
          0.733316574493045
         ],
         "yaxis": "y"
        },
        {
         "fill": "toself",
         "fillcolor": "rgba(171,99,250,.3)",
         "hoverinfo": "skip",
         "legendgroup": "GraphSage",
         "line": {
          "color": "rgba(255,255,255,0)"
         },
         "showlegend": false,
         "type": "scatter",
         "x": [
          0.2222222222222222,
          0.2222222222222222
         ],
         "xaxis": "x",
         "y": [
          0.5849137426352485,
          0.49532758466490223
         ],
         "yaxis": "y"
        },
        {
         "hovertemplate": "model=GraphSage<br>test_size=%{x}<br>test_acc_avg=%{y}<extra></extra>",
         "legendgroup": "GraphSage",
         "line": {
          "color": "#ab63fa",
          "dash": "solid"
         },
         "marker": {
          "symbol": "circle"
         },
         "mode": "markers+lines",
         "name": "GraphSage",
         "orientation": "v",
         "showlegend": true,
         "type": "scatter",
         "x": [
          0.2222222222222222
         ],
         "xaxis": "x",
         "y": [
          0.5401206636500754
         ],
         "yaxis": "y"
        },
        {
         "fill": "toself",
         "fillcolor": "rgba(255,161,90,.3)",
         "hoverinfo": "skip",
         "legendgroup": "KNN",
         "line": {
          "color": "rgba(255,255,255,0)"
         },
         "showlegend": false,
         "type": "scatter",
         "x": [
          0.6666666666666666,
          0.5,
          0.4,
          0.3333333333333333,
          0.2857142857142857,
          0.25,
          0.2222222222222222,
          0.2,
          0.2,
          0.2222222222222222,
          0.25,
          0.2857142857142857,
          0.3333333333333333,
          0.4,
          0.5,
          0.6666666666666666
         ],
         "xaxis": "x",
         "y": [
          0.3604088085142778,
          0.32220703257053435,
          0.3203455735855568,
          0.32509879208713915,
          0.3291689739282934,
          0.3262166472921992,
          0.33154184389326685,
          0.3311537225887422,
          0.3157044293877105,
          0.3192374421801368,
          0.311994407392483,
          0.31246001727624056,
          0.3085883349764918,
          0.29896061042650957,
          0.2673398148544746,
          0.262517285000051
         ],
         "yaxis": "y"
        },
        {
         "hovertemplate": "model=KNN<br>test_size=%{x}<br>test_acc_avg=%{y}<extra></extra>",
         "legendgroup": "KNN",
         "line": {
          "color": "#FFA15A",
          "dash": "solid"
         },
         "marker": {
          "symbol": "circle"
         },
         "mode": "markers+lines",
         "name": "KNN",
         "orientation": "v",
         "showlegend": true,
         "type": "scatter",
         "x": [
          0.6666666666666666,
          0.5,
          0.4,
          0.3333333333333333,
          0.2857142857142857,
          0.25,
          0.2222222222222222,
          0.2
         ],
         "xaxis": "x",
         "y": [
          0.3114630467571644,
          0.2947734237125045,
          0.3096530920060332,
          0.3168435635318155,
          0.320814495602267,
          0.3191055273423411,
          0.3253896430367018,
          0.32342907598822634
         ],
         "yaxis": "y"
        },
        {
         "fill": "toself",
         "fillcolor": "rgba(25,211,243,.3)",
         "hoverinfo": "skip",
         "legendgroup": "KNN_embedding_methodtrue",
         "line": {
          "color": "rgba(255,255,255,0)"
         },
         "showlegend": false,
         "type": "scatter",
         "x": [
          0.6666666666666666,
          0.5,
          0.4,
          0.3333333333333333,
          0.2857142857142857,
          0.25,
          0.2222222222222222,
          0.2,
          0.2,
          0.2222222222222222,
          0.25,
          0.2857142857142857,
          0.3333333333333333,
          0.4,
          0.5,
          0.6666666666666666
         ],
         "xaxis": "x",
         "y": [
          0.6944109518518772,
          0.7073517634418387,
          0.7167077708746526,
          0.719251258295865,
          0.721667696946588,
          0.7236227820328411,
          0.7261074625844905,
          0.7276440499610138,
          0.7044940834926866,
          0.702851813433609,
          0.7048328622975644,
          0.7067891068977368,
          0.7029684009695016,
          0.698643326829386,
          0.695194647407372,
          0.6860147226914443
         ],
         "yaxis": "y"
        },
        {
         "hovertemplate": "model=KNN_embedding_methodtrue<br>test_size=%{x}<br>test_acc_avg=%{y}<extra></extra>",
         "legendgroup": "KNN_embedding_methodtrue",
         "line": {
          "color": "#19d3f3",
          "dash": "solid"
         },
         "marker": {
          "symbol": "circle"
         },
         "mode": "markers+lines",
         "name": "KNN_embedding_methodtrue",
         "orientation": "v",
         "showlegend": true,
         "type": "scatter",
         "x": [
          0.6666666666666666,
          0.5,
          0.4,
          0.3333333333333333,
          0.2857142857142857,
          0.25,
          0.2222222222222222,
          0.2
         ],
         "xaxis": "x",
         "y": [
          0.6902128372716607,
          0.7012732054246054,
          0.7076755488520193,
          0.7111098296326833,
          0.7142284019221624,
          0.7142278221652028,
          0.7144796380090498,
          0.7160690667268502
         ],
         "yaxis": "y"
        },
        {
         "fill": "toself",
         "fillcolor": "rgba(255,102,146,.3)",
         "hoverinfo": "skip",
         "legendgroup": "LabelPropagation",
         "line": {
          "color": "rgba(255,255,255,0)"
         },
         "showlegend": false,
         "type": "scatter",
         "x": [
          0.6666666666666666,
          0.5,
          0.4,
          0.3333333333333333,
          0.2857142857142857,
          0.25,
          0.2222222222222222,
          0.2,
          0.2,
          0.2222222222222222,
          0.25,
          0.2857142857142857,
          0.3333333333333333,
          0.4,
          0.5,
          0.6666666666666666
         ],
         "xaxis": "x",
         "y": [
          0.3586141471025437,
          0.4442617926008868,
          0.5125519027791308,
          0.5506212054615659,
          0.5636347944510954,
          0.5833356989782011,
          0.5962405895337317,
          0.5973736653414888,
          0.5801026919775368,
          0.5731912857804966,
          0.5629706289228619,
          0.551397442925435,
          0.5258985121586591,
          0.49217409018215624,
          0.4297443247449287,
          0.3347996286641731
         ],
         "yaxis": "y"
        },
        {
         "hovertemplate": "model=LabelPropagation<br>test_size=%{x}<br>test_acc_avg=%{y}<extra></extra>",
         "legendgroup": "LabelPropagation",
         "line": {
          "color": "#FF6692",
          "dash": "solid"
         },
         "marker": {
          "symbol": "circle"
         },
         "mode": "markers+lines",
         "name": "LabelPropagation",
         "orientation": "v",
         "showlegend": true,
         "type": "scatter",
         "x": [
          0.6666666666666666,
          0.5,
          0.4,
          0.3333333333333333,
          0.2857142857142857,
          0.25,
          0.2222222222222222,
          0.2
         ],
         "xaxis": "x",
         "y": [
          0.3467068878833584,
          0.43700305867290773,
          0.5023629964806435,
          0.5382598588101125,
          0.5575161186882652,
          0.5731531639505315,
          0.5847159376571142,
          0.5887381786595128
         ],
         "yaxis": "y"
        },
        {
         "fill": "toself",
         "fillcolor": "rgba(182,232,128,.3)",
         "hoverinfo": "skip",
         "legendgroup": "PageRank",
         "line": {
          "color": "rgba(255,255,255,0)"
         },
         "showlegend": false,
         "type": "scatter",
         "x": [
          0.6666666666666666,
          0.5,
          0.4,
          0.3333333333333333,
          0.2857142857142857,
          0.25,
          0.2222222222222222,
          0.2,
          0.2,
          0.2222222222222222,
          0.25,
          0.2857142857142857,
          0.3333333333333333,
          0.4,
          0.5,
          0.6666666666666666
         ],
         "xaxis": "x",
         "y": [
          0.6260467625423078,
          0.6323732608743897,
          0.6386993932043123,
          0.6449679694992398,
          0.6458126371973052,
          0.648991839423486,
          0.648011817208809,
          0.6528676221381835,
          0.6267668022383026,
          0.6276040701717842,
          0.6261189862667241,
          0.6272885570581925,
          0.6268250375500788,
          0.625352894377387,
          0.6225279239468147,
          0.6095490142299396
         ],
         "yaxis": "y"
        },
        {
         "hovertemplate": "model=PageRank<br>test_size=%{x}<br>test_acc_avg=%{y}<extra></extra>",
         "legendgroup": "PageRank",
         "line": {
          "color": "#B6E880",
          "dash": "solid"
         },
         "marker": {
          "symbol": "circle"
         },
         "mode": "markers+lines",
         "name": "PageRank",
         "orientation": "v",
         "showlegend": true,
         "type": "scatter",
         "x": [
          0.6666666666666666,
          0.5,
          0.4,
          0.3333333333333333,
          0.2857142857142857,
          0.25,
          0.2222222222222222,
          0.2
         ],
         "xaxis": "x",
         "y": [
          0.6177978883861237,
          0.6274505924106022,
          0.6320261437908496,
          0.6358965035246593,
          0.6365505971277489,
          0.6375554128451051,
          0.6378079436902966,
          0.6398172121882431
         ],
         "yaxis": "y"
        },
        {
         "fill": "toself",
         "fillcolor": "rgba(255,151,255,.3)",
         "hoverinfo": "skip",
         "legendgroup": "SGC",
         "line": {
          "color": "rgba(255,255,255,0)"
         },
         "showlegend": false,
         "type": "scatter",
         "x": [
          0.2222222222222222,
          0.2222222222222222
         ],
         "xaxis": "x",
         "y": [
          0.5535551915593463,
          0.4742309656385756
         ],
         "yaxis": "y"
        },
        {
         "hovertemplate": "model=SGC<br>test_size=%{x}<br>test_acc_avg=%{y}<extra></extra>",
         "legendgroup": "SGC",
         "line": {
          "color": "#FF97FF",
          "dash": "solid"
         },
         "marker": {
          "symbol": "circle"
         },
         "mode": "markers+lines",
         "name": "SGC",
         "orientation": "v",
         "showlegend": true,
         "type": "scatter",
         "x": [
          0.2222222222222222
         ],
         "xaxis": "x",
         "y": [
          0.5138930785989609
         ],
         "yaxis": "y"
        }
       ],
       "layout": {
        "legend": {
         "title": {
          "text": "model"
         },
         "tracegroupgap": 0
        },
        "template": {
         "data": {
          "bar": [
           {
            "error_x": {
             "color": "#2a3f5f"
            },
            "error_y": {
             "color": "#2a3f5f"
            },
            "marker": {
             "line": {
              "color": "#E5ECF6",
              "width": 0.5
             },
             "pattern": {
              "fillmode": "overlay",
              "size": 10,
              "solidity": 0.2
             }
            },
            "type": "bar"
           }
          ],
          "barpolar": [
           {
            "marker": {
             "line": {
              "color": "#E5ECF6",
              "width": 0.5
             },
             "pattern": {
              "fillmode": "overlay",
              "size": 10,
              "solidity": 0.2
             }
            },
            "type": "barpolar"
           }
          ],
          "carpet": [
           {
            "aaxis": {
             "endlinecolor": "#2a3f5f",
             "gridcolor": "white",
             "linecolor": "white",
             "minorgridcolor": "white",
             "startlinecolor": "#2a3f5f"
            },
            "baxis": {
             "endlinecolor": "#2a3f5f",
             "gridcolor": "white",
             "linecolor": "white",
             "minorgridcolor": "white",
             "startlinecolor": "#2a3f5f"
            },
            "type": "carpet"
           }
          ],
          "choropleth": [
           {
            "colorbar": {
             "outlinewidth": 0,
             "ticks": ""
            },
            "type": "choropleth"
           }
          ],
          "contour": [
           {
            "colorbar": {
             "outlinewidth": 0,
             "ticks": ""
            },
            "colorscale": [
             [
              0,
              "#0d0887"
             ],
             [
              0.1111111111111111,
              "#46039f"
             ],
             [
              0.2222222222222222,
              "#7201a8"
             ],
             [
              0.3333333333333333,
              "#9c179e"
             ],
             [
              0.4444444444444444,
              "#bd3786"
             ],
             [
              0.5555555555555556,
              "#d8576b"
             ],
             [
              0.6666666666666666,
              "#ed7953"
             ],
             [
              0.7777777777777778,
              "#fb9f3a"
             ],
             [
              0.8888888888888888,
              "#fdca26"
             ],
             [
              1,
              "#f0f921"
             ]
            ],
            "type": "contour"
           }
          ],
          "contourcarpet": [
           {
            "colorbar": {
             "outlinewidth": 0,
             "ticks": ""
            },
            "type": "contourcarpet"
           }
          ],
          "heatmap": [
           {
            "colorbar": {
             "outlinewidth": 0,
             "ticks": ""
            },
            "colorscale": [
             [
              0,
              "#0d0887"
             ],
             [
              0.1111111111111111,
              "#46039f"
             ],
             [
              0.2222222222222222,
              "#7201a8"
             ],
             [
              0.3333333333333333,
              "#9c179e"
             ],
             [
              0.4444444444444444,
              "#bd3786"
             ],
             [
              0.5555555555555556,
              "#d8576b"
             ],
             [
              0.6666666666666666,
              "#ed7953"
             ],
             [
              0.7777777777777778,
              "#fb9f3a"
             ],
             [
              0.8888888888888888,
              "#fdca26"
             ],
             [
              1,
              "#f0f921"
             ]
            ],
            "type": "heatmap"
           }
          ],
          "heatmapgl": [
           {
            "colorbar": {
             "outlinewidth": 0,
             "ticks": ""
            },
            "colorscale": [
             [
              0,
              "#0d0887"
             ],
             [
              0.1111111111111111,
              "#46039f"
             ],
             [
              0.2222222222222222,
              "#7201a8"
             ],
             [
              0.3333333333333333,
              "#9c179e"
             ],
             [
              0.4444444444444444,
              "#bd3786"
             ],
             [
              0.5555555555555556,
              "#d8576b"
             ],
             [
              0.6666666666666666,
              "#ed7953"
             ],
             [
              0.7777777777777778,
              "#fb9f3a"
             ],
             [
              0.8888888888888888,
              "#fdca26"
             ],
             [
              1,
              "#f0f921"
             ]
            ],
            "type": "heatmapgl"
           }
          ],
          "histogram": [
           {
            "marker": {
             "pattern": {
              "fillmode": "overlay",
              "size": 10,
              "solidity": 0.2
             }
            },
            "type": "histogram"
           }
          ],
          "histogram2d": [
           {
            "colorbar": {
             "outlinewidth": 0,
             "ticks": ""
            },
            "colorscale": [
             [
              0,
              "#0d0887"
             ],
             [
              0.1111111111111111,
              "#46039f"
             ],
             [
              0.2222222222222222,
              "#7201a8"
             ],
             [
              0.3333333333333333,
              "#9c179e"
             ],
             [
              0.4444444444444444,
              "#bd3786"
             ],
             [
              0.5555555555555556,
              "#d8576b"
             ],
             [
              0.6666666666666666,
              "#ed7953"
             ],
             [
              0.7777777777777778,
              "#fb9f3a"
             ],
             [
              0.8888888888888888,
              "#fdca26"
             ],
             [
              1,
              "#f0f921"
             ]
            ],
            "type": "histogram2d"
           }
          ],
          "histogram2dcontour": [
           {
            "colorbar": {
             "outlinewidth": 0,
             "ticks": ""
            },
            "colorscale": [
             [
              0,
              "#0d0887"
             ],
             [
              0.1111111111111111,
              "#46039f"
             ],
             [
              0.2222222222222222,
              "#7201a8"
             ],
             [
              0.3333333333333333,
              "#9c179e"
             ],
             [
              0.4444444444444444,
              "#bd3786"
             ],
             [
              0.5555555555555556,
              "#d8576b"
             ],
             [
              0.6666666666666666,
              "#ed7953"
             ],
             [
              0.7777777777777778,
              "#fb9f3a"
             ],
             [
              0.8888888888888888,
              "#fdca26"
             ],
             [
              1,
              "#f0f921"
             ]
            ],
            "type": "histogram2dcontour"
           }
          ],
          "mesh3d": [
           {
            "colorbar": {
             "outlinewidth": 0,
             "ticks": ""
            },
            "type": "mesh3d"
           }
          ],
          "parcoords": [
           {
            "line": {
             "colorbar": {
              "outlinewidth": 0,
              "ticks": ""
             }
            },
            "type": "parcoords"
           }
          ],
          "pie": [
           {
            "automargin": true,
            "type": "pie"
           }
          ],
          "scatter": [
           {
            "fillpattern": {
             "fillmode": "overlay",
             "size": 10,
             "solidity": 0.2
            },
            "type": "scatter"
           }
          ],
          "scatter3d": [
           {
            "line": {
             "colorbar": {
              "outlinewidth": 0,
              "ticks": ""
             }
            },
            "marker": {
             "colorbar": {
              "outlinewidth": 0,
              "ticks": ""
             }
            },
            "type": "scatter3d"
           }
          ],
          "scattercarpet": [
           {
            "marker": {
             "colorbar": {
              "outlinewidth": 0,
              "ticks": ""
             }
            },
            "type": "scattercarpet"
           }
          ],
          "scattergeo": [
           {
            "marker": {
             "colorbar": {
              "outlinewidth": 0,
              "ticks": ""
             }
            },
            "type": "scattergeo"
           }
          ],
          "scattergl": [
           {
            "marker": {
             "colorbar": {
              "outlinewidth": 0,
              "ticks": ""
             }
            },
            "type": "scattergl"
           }
          ],
          "scattermapbox": [
           {
            "marker": {
             "colorbar": {
              "outlinewidth": 0,
              "ticks": ""
             }
            },
            "type": "scattermapbox"
           }
          ],
          "scatterpolar": [
           {
            "marker": {
             "colorbar": {
              "outlinewidth": 0,
              "ticks": ""
             }
            },
            "type": "scatterpolar"
           }
          ],
          "scatterpolargl": [
           {
            "marker": {
             "colorbar": {
              "outlinewidth": 0,
              "ticks": ""
             }
            },
            "type": "scatterpolargl"
           }
          ],
          "scatterternary": [
           {
            "marker": {
             "colorbar": {
              "outlinewidth": 0,
              "ticks": ""
             }
            },
            "type": "scatterternary"
           }
          ],
          "surface": [
           {
            "colorbar": {
             "outlinewidth": 0,
             "ticks": ""
            },
            "colorscale": [
             [
              0,
              "#0d0887"
             ],
             [
              0.1111111111111111,
              "#46039f"
             ],
             [
              0.2222222222222222,
              "#7201a8"
             ],
             [
              0.3333333333333333,
              "#9c179e"
             ],
             [
              0.4444444444444444,
              "#bd3786"
             ],
             [
              0.5555555555555556,
              "#d8576b"
             ],
             [
              0.6666666666666666,
              "#ed7953"
             ],
             [
              0.7777777777777778,
              "#fb9f3a"
             ],
             [
              0.8888888888888888,
              "#fdca26"
             ],
             [
              1,
              "#f0f921"
             ]
            ],
            "type": "surface"
           }
          ],
          "table": [
           {
            "cells": {
             "fill": {
              "color": "#EBF0F8"
             },
             "line": {
              "color": "white"
             }
            },
            "header": {
             "fill": {
              "color": "#C8D4E3"
             },
             "line": {
              "color": "white"
             }
            },
            "type": "table"
           }
          ]
         },
         "layout": {
          "annotationdefaults": {
           "arrowcolor": "#2a3f5f",
           "arrowhead": 0,
           "arrowwidth": 1
          },
          "autotypenumbers": "strict",
          "coloraxis": {
           "colorbar": {
            "outlinewidth": 0,
            "ticks": ""
           }
          },
          "colorscale": {
           "diverging": [
            [
             0,
             "#8e0152"
            ],
            [
             0.1,
             "#c51b7d"
            ],
            [
             0.2,
             "#de77ae"
            ],
            [
             0.3,
             "#f1b6da"
            ],
            [
             0.4,
             "#fde0ef"
            ],
            [
             0.5,
             "#f7f7f7"
            ],
            [
             0.6,
             "#e6f5d0"
            ],
            [
             0.7,
             "#b8e186"
            ],
            [
             0.8,
             "#7fbc41"
            ],
            [
             0.9,
             "#4d9221"
            ],
            [
             1,
             "#276419"
            ]
           ],
           "sequential": [
            [
             0,
             "#0d0887"
            ],
            [
             0.1111111111111111,
             "#46039f"
            ],
            [
             0.2222222222222222,
             "#7201a8"
            ],
            [
             0.3333333333333333,
             "#9c179e"
            ],
            [
             0.4444444444444444,
             "#bd3786"
            ],
            [
             0.5555555555555556,
             "#d8576b"
            ],
            [
             0.6666666666666666,
             "#ed7953"
            ],
            [
             0.7777777777777778,
             "#fb9f3a"
            ],
            [
             0.8888888888888888,
             "#fdca26"
            ],
            [
             1,
             "#f0f921"
            ]
           ],
           "sequentialminus": [
            [
             0,
             "#0d0887"
            ],
            [
             0.1111111111111111,
             "#46039f"
            ],
            [
             0.2222222222222222,
             "#7201a8"
            ],
            [
             0.3333333333333333,
             "#9c179e"
            ],
            [
             0.4444444444444444,
             "#bd3786"
            ],
            [
             0.5555555555555556,
             "#d8576b"
            ],
            [
             0.6666666666666666,
             "#ed7953"
            ],
            [
             0.7777777777777778,
             "#fb9f3a"
            ],
            [
             0.8888888888888888,
             "#fdca26"
            ],
            [
             1,
             "#f0f921"
            ]
           ]
          },
          "colorway": [
           "#636efa",
           "#EF553B",
           "#00cc96",
           "#ab63fa",
           "#FFA15A",
           "#19d3f3",
           "#FF6692",
           "#B6E880",
           "#FF97FF",
           "#FECB52"
          ],
          "font": {
           "color": "#2a3f5f"
          },
          "geo": {
           "bgcolor": "white",
           "lakecolor": "white",
           "landcolor": "#E5ECF6",
           "showlakes": true,
           "showland": true,
           "subunitcolor": "white"
          },
          "hoverlabel": {
           "align": "left"
          },
          "hovermode": "closest",
          "mapbox": {
           "style": "light"
          },
          "paper_bgcolor": "white",
          "plot_bgcolor": "#E5ECF6",
          "polar": {
           "angularaxis": {
            "gridcolor": "white",
            "linecolor": "white",
            "ticks": ""
           },
           "bgcolor": "#E5ECF6",
           "radialaxis": {
            "gridcolor": "white",
            "linecolor": "white",
            "ticks": ""
           }
          },
          "scene": {
           "xaxis": {
            "backgroundcolor": "#E5ECF6",
            "gridcolor": "white",
            "gridwidth": 2,
            "linecolor": "white",
            "showbackground": true,
            "ticks": "",
            "zerolinecolor": "white"
           },
           "yaxis": {
            "backgroundcolor": "#E5ECF6",
            "gridcolor": "white",
            "gridwidth": 2,
            "linecolor": "white",
            "showbackground": true,
            "ticks": "",
            "zerolinecolor": "white"
           },
           "zaxis": {
            "backgroundcolor": "#E5ECF6",
            "gridcolor": "white",
            "gridwidth": 2,
            "linecolor": "white",
            "showbackground": true,
            "ticks": "",
            "zerolinecolor": "white"
           }
          },
          "shapedefaults": {
           "line": {
            "color": "#2a3f5f"
           }
          },
          "ternary": {
           "aaxis": {
            "gridcolor": "white",
            "linecolor": "white",
            "ticks": ""
           },
           "baxis": {
            "gridcolor": "white",
            "linecolor": "white",
            "ticks": ""
           },
           "bgcolor": "#E5ECF6",
           "caxis": {
            "gridcolor": "white",
            "linecolor": "white",
            "ticks": ""
           }
          },
          "title": {
           "x": 0.05
          },
          "xaxis": {
           "automargin": true,
           "gridcolor": "white",
           "linecolor": "white",
           "ticks": "",
           "title": {
            "standoff": 15
           },
           "zerolinecolor": "white",
           "zerolinewidth": 2
          },
          "yaxis": {
           "automargin": true,
           "gridcolor": "white",
           "linecolor": "white",
           "ticks": "",
           "title": {
            "standoff": 15
           },
           "zerolinecolor": "white",
           "zerolinewidth": 2
          }
         }
        },
        "title": {
         "text": "Test accuracy"
        },
        "xaxis": {
         "anchor": "y",
         "domain": [
          0,
          1
         ],
         "title": {
          "text": "test_size"
         }
        },
        "yaxis": {
         "anchor": "x",
         "domain": [
          0,
          1
         ],
         "title": {
          "text": "test_acc_avg"
         }
        }
       }
      }
     },
     "metadata": {},
     "output_type": "display_data"
    }
   ],
   "source": [
    "# Compute average and standard deviation according to values of k\n",
    "grouped = df.groupby(['dataset', 'model', 'k', 'train_size', 'test_size'])[['train_acc', 'test_acc']].agg({'train_acc': ['mean', 'std'], 'test_acc': ['mean', 'std']}).reset_index()\n",
    "grouped.columns = ['dataset', 'model', 'k', 'train_size', 'test_size', 'train_acc_avg', 'train_acc_std', 'test_acc_avg', 'test_acc_std', ]\n",
    "grouped\n",
    "\n",
    "# Test split\n",
    "for error_y_mode in {'band'}:\n",
    "    fig = line(\n",
    "        data_frame = grouped[grouped['dataset']=='wikivitals-fr'],\n",
    "        x = 'test_size',\n",
    "        y = 'test_acc_avg',\n",
    "        error_y = 'test_acc_std',\n",
    "        error_y_mode = error_y_mode,\n",
    "        color = 'model',\n",
    "        title = f'Test accuracy',\n",
    "        markers = '.',\n",
    "    )\n",
    "    fig.show()"
   ]
  },
  {
   "attachments": {},
   "cell_type": "markdown",
   "metadata": {},
   "source": [
    "`Wikischools`"
   ]
  },
  {
   "cell_type": "code",
   "execution_count": 37,
   "metadata": {},
   "outputs": [
    {
     "data": {
      "application/vnd.plotly.v1+json": {
       "config": {
        "plotlyServerURL": "https://plot.ly"
       },
       "data": [
        {
         "fill": "toself",
         "fillcolor": "rgba(99,110,250,.3)",
         "hoverinfo": "skip",
         "legendgroup": "Diffusion",
         "line": {
          "color": "rgba(255,255,255,0)"
         },
         "showlegend": false,
         "type": "scatter",
         "x": [
          0.6666666666666666,
          0.5,
          0.4,
          0.3333333333333333,
          0.2857142857142857,
          0.25,
          0.2222222222222222,
          0.2,
          0.2,
          0.2222222222222222,
          0.25,
          0.2857142857142857,
          0.3333333333333333,
          0.4,
          0.5,
          0.6666666666666666
         ],
         "xaxis": "x",
         "y": [
          0.5848775520428035,
          0.5998610954158509,
          0.6071040573066593,
          0.610078356173973,
          0.6152493407207633,
          0.6122579731843095,
          0.6179656611810861,
          0.6195076755366681,
          0.5998838888832733,
          0.5953049317357858,
          0.5980573200477884,
          0.5950618107668586,
          0.5956875181907212,
          0.5952536458046593,
          0.5877360086995685,
          0.5602477560633475
         ],
         "yaxis": "y"
        },
        {
         "hovertemplate": "model=Diffusion<br>test_size=%{x}<br>test_acc_avg=%{y}<extra></extra>",
         "legendgroup": "Diffusion",
         "line": {
          "color": "#636efa",
          "dash": "solid"
         },
         "marker": {
          "symbol": "circle"
         },
         "mode": "markers+lines",
         "name": "Diffusion",
         "orientation": "v",
         "showlegend": true,
         "type": "scatter",
         "x": [
          0.6666666666666666,
          0.5,
          0.4,
          0.3333333333333333,
          0.2857142857142857,
          0.25,
          0.2222222222222222,
          0.2
         ],
         "xaxis": "x",
         "y": [
          0.5725626540530755,
          0.5937985520577097,
          0.6011788515556593,
          0.6028829371823471,
          0.605155575743811,
          0.605157646616049,
          0.606635296458436,
          0.6096957822099707
         ],
         "yaxis": "y"
        },
        {
         "fill": "toself",
         "fillcolor": "rgba(239,85,59,.3)",
         "hoverinfo": "skip",
         "legendgroup": "GAT",
         "line": {
          "color": "rgba(255,255,255,0)"
         },
         "showlegend": false,
         "type": "scatter",
         "x": [
          0.2222222222222222,
          0.2222222222222222
         ],
         "xaxis": "x",
         "y": [
          0.7425193329671579,
          0.7214089011301571
         ],
         "yaxis": "y"
        },
        {
         "hovertemplate": "model=GAT<br>test_size=%{x}<br>test_acc_avg=%{y}<extra></extra>",
         "legendgroup": "GAT",
         "line": {
          "color": "#EF553B",
          "dash": "solid"
         },
         "marker": {
          "symbol": "circle"
         },
         "mode": "markers+lines",
         "name": "GAT",
         "orientation": "v",
         "showlegend": true,
         "type": "scatter",
         "x": [
          0.2222222222222222
         ],
         "xaxis": "x",
         "y": [
          0.7319641170486575
         ],
         "yaxis": "y"
        },
        {
         "fill": "toself",
         "fillcolor": "rgba(0,204,150,.3)",
         "hoverinfo": "skip",
         "legendgroup": "GCN",
         "line": {
          "color": "rgba(255,255,255,0)"
         },
         "showlegend": false,
         "type": "scatter",
         "x": [
          0.2222222222222222,
          0.2222222222222222
         ],
         "xaxis": "x",
         "y": [
          0.7247378344469957,
          0.7052738731079011
         ],
         "yaxis": "y"
        },
        {
         "hovertemplate": "model=GCN<br>test_size=%{x}<br>test_acc_avg=%{y}<extra></extra>",
         "legendgroup": "GCN",
         "line": {
          "color": "#00cc96",
          "dash": "solid"
         },
         "marker": {
          "symbol": "circle"
         },
         "mode": "markers+lines",
         "name": "GCN",
         "orientation": "v",
         "showlegend": true,
         "type": "scatter",
         "x": [
          0.2222222222222222
         ],
         "xaxis": "x",
         "y": [
          0.7150058537774484
         ],
         "yaxis": "y"
        },
        {
         "fill": "toself",
         "fillcolor": "rgba(171,99,250,.3)",
         "hoverinfo": "skip",
         "legendgroup": "GraphSage",
         "line": {
          "color": "rgba(255,255,255,0)"
         },
         "showlegend": false,
         "type": "scatter",
         "x": [
          0.2222222222222222,
          0.2222222222222222
         ],
         "xaxis": "x",
         "y": [
          0.6429015631625029,
          0.5998114525953812
         ],
         "yaxis": "y"
        },
        {
         "hovertemplate": "model=GraphSage<br>test_size=%{x}<br>test_acc_avg=%{y}<extra></extra>",
         "legendgroup": "GraphSage",
         "line": {
          "color": "#ab63fa",
          "dash": "solid"
         },
         "marker": {
          "symbol": "circle"
         },
         "mode": "markers+lines",
         "name": "GraphSage",
         "orientation": "v",
         "showlegend": true,
         "type": "scatter",
         "x": [
          0.2222222222222222
         ],
         "xaxis": "x",
         "y": [
          0.621356507878942
         ],
         "yaxis": "y"
        },
        {
         "fill": "toself",
         "fillcolor": "rgba(255,161,90,.3)",
         "hoverinfo": "skip",
         "legendgroup": "KNN",
         "line": {
          "color": "rgba(255,255,255,0)"
         },
         "showlegend": false,
         "type": "scatter",
         "x": [
          0.6666666666666666,
          0.5,
          0.4,
          0.3333333333333333,
          0.2857142857142857,
          0.25,
          0.2222222222222222,
          0.2,
          0.2,
          0.2222222222222222,
          0.25,
          0.2857142857142857,
          0.3333333333333333,
          0.4,
          0.5,
          0.6666666666666666
         ],
         "xaxis": "x",
         "y": [
          0.6947442524586209,
          0.6451467012878588,
          0.5989006775653808,
          0.5562616411947747,
          0.5255414724480296,
          0.4805000232197676,
          0.47073385185426087,
          0.45027133426193056,
          0.10990584406305057,
          0.1087255012178309,
          0.11104832133538398,
          0.10811739650495689,
          0.11458059988617855,
          0.12305644253369896,
          0.14681919564364074,
          0.21256449736924202
         ],
         "yaxis": "y"
        },
        {
         "hovertemplate": "model=KNN<br>test_size=%{x}<br>test_acc_avg=%{y}<extra></extra>",
         "legendgroup": "KNN",
         "line": {
          "color": "#FFA15A",
          "dash": "solid"
         },
         "marker": {
          "symbol": "circle"
         },
         "mode": "markers+lines",
         "name": "KNN",
         "orientation": "v",
         "showlegend": true,
         "type": "scatter",
         "x": [
          0.6666666666666666,
          0.5,
          0.4,
          0.3333333333333333,
          0.2857142857142857,
          0.25,
          0.2222222222222222,
          0.2
         ],
         "xaxis": "x",
         "y": [
          0.45365437491393146,
          0.3959829484657498,
          0.3609785600495399,
          0.3354211205404766,
          0.31682943447649325,
          0.2957741722775758,
          0.28972967653604587,
          0.2800885891624906
         ],
         "yaxis": "y"
        },
        {
         "fill": "toself",
         "fillcolor": "rgba(25,211,243,.3)",
         "hoverinfo": "skip",
         "legendgroup": "KNN_embedding_methodtrue",
         "line": {
          "color": "rgba(255,255,255,0)"
         },
         "showlegend": false,
         "type": "scatter",
         "x": [
          0.6666666666666666,
          0.5,
          0.4,
          0.3333333333333333,
          0.2857142857142857,
          0.25,
          0.2222222222222222,
          0.2,
          0.2,
          0.2222222222222222,
          0.25,
          0.2857142857142857,
          0.3333333333333333,
          0.4,
          0.5,
          0.6666666666666666
         ],
         "xaxis": "x",
         "y": [
          0.5019984427700608,
          0.5016710038673742,
          0.502713114297932,
          0.5054809978989081,
          0.5089680010933245,
          0.5070372598988684,
          0.5094615925487235,
          0.5119353879599553,
          0.48556692968708426,
          0.491224011589401,
          0.48842367533107733,
          0.4898964095357919,
          0.4865715267007153,
          0.48683595301784377,
          0.48735120179341657,
          0.480969650352654
         ],
         "yaxis": "y"
        },
        {
         "hovertemplate": "model=KNN_embedding_methodtrue<br>test_size=%{x}<br>test_acc_avg=%{y}<extra></extra>",
         "legendgroup": "KNN_embedding_methodtrue",
         "line": {
          "color": "#19d3f3",
          "dash": "solid"
         },
         "marker": {
          "symbol": "circle"
         },
         "mode": "markers+lines",
         "name": "KNN_embedding_methodtrue",
         "orientation": "v",
         "showlegend": true,
         "type": "scatter",
         "x": [
          0.6666666666666666,
          0.5,
          0.4,
          0.3333333333333333,
          0.2857142857142857,
          0.25,
          0.2222222222222222,
          0.2
         ],
         "xaxis": "x",
         "y": [
          0.4914840465613574,
          0.4945111028303954,
          0.49477453365788787,
          0.4960262622998117,
          0.49943220531455823,
          0.49773046761497286,
          0.5003428020690622,
          0.4987511588235198
         ],
         "yaxis": "y"
        },
        {
         "fill": "toself",
         "fillcolor": "rgba(255,102,146,.3)",
         "hoverinfo": "skip",
         "legendgroup": "LabelPropagation",
         "line": {
          "color": "rgba(255,255,255,0)"
         },
         "showlegend": false,
         "type": "scatter",
         "x": [
          0.6666666666666666,
          0.5,
          0.4,
          0.3333333333333333,
          0.2857142857142857,
          0.25,
          0.2222222222222222,
          0.2,
          0.2,
          0.2222222222222222,
          0.25,
          0.2857142857142857,
          0.3333333333333333,
          0.4,
          0.5,
          0.6666666666666666
         ],
         "xaxis": "x",
         "y": [
          0.2663827359642173,
          0.4068496986578376,
          0.4372397360153708,
          0.46616291351619116,
          0.4749911867897657,
          0.49661649423398363,
          0.5073220084577467,
          0.5113559436742292,
          0.4981905410015728,
          0.48269673255706524,
          0.46751443674460363,
          0.45755480457975506,
          0.4361756681908397,
          0.41559564500371815,
          0.3812541109803378,
          0.24758520707037887
         ],
         "yaxis": "y"
        },
        {
         "hovertemplate": "model=LabelPropagation<br>test_size=%{x}<br>test_acc_avg=%{y}<extra></extra>",
         "legendgroup": "LabelPropagation",
         "line": {
          "color": "#FF6692",
          "dash": "solid"
         },
         "marker": {
          "symbol": "circle"
         },
         "mode": "markers+lines",
         "name": "LabelPropagation",
         "orientation": "v",
         "showlegend": true,
         "type": "scatter",
         "x": [
          0.6666666666666666,
          0.5,
          0.4,
          0.3333333333333333,
          0.2857142857142857,
          0.25,
          0.2222222222222222,
          0.2
         ],
         "xaxis": "x",
         "y": [
          0.25698397151729807,
          0.3940519048190877,
          0.4264176905095445,
          0.4511692908535154,
          0.4662729956847604,
          0.48206546548929363,
          0.49500937050740595,
          0.504773242337901
         ],
         "yaxis": "y"
        },
        {
         "fill": "toself",
         "fillcolor": "rgba(182,232,128,.3)",
         "hoverinfo": "skip",
         "legendgroup": "PageRank",
         "line": {
          "color": "rgba(255,255,255,0)"
         },
         "showlegend": false,
         "type": "scatter",
         "x": [
          0.6666666666666666,
          0.5,
          0.4,
          0.3333333333333333,
          0.2857142857142857,
          0.25,
          0.2222222222222222,
          0.2,
          0.2,
          0.2222222222222222,
          0.25,
          0.2857142857142857,
          0.3333333333333333,
          0.4,
          0.5,
          0.6666666666666666
         ],
         "xaxis": "x",
         "y": [
          0.48172408046449755,
          0.4945015470133608,
          0.5106879695912563,
          0.5144263173203641,
          0.5122962882855007,
          0.5174483987603469,
          0.5143349527555703,
          0.5215875958366595,
          0.48725464938186247,
          0.49269683907469336,
          0.4839001761504038,
          0.4808901754891985,
          0.48217186726364475,
          0.47431783791286397,
          0.46893056480436224,
          0.44877397999471025
         ],
         "yaxis": "y"
        },
        {
         "hovertemplate": "model=PageRank<br>test_size=%{x}<br>test_acc_avg=%{y}<extra></extra>",
         "legendgroup": "PageRank",
         "line": {
          "color": "#B6E880",
          "dash": "solid"
         },
         "marker": {
          "symbol": "circle"
         },
         "mode": "markers+lines",
         "name": "PageRank",
         "orientation": "v",
         "showlegend": true,
         "type": "scatter",
         "x": [
          0.6666666666666666,
          0.5,
          0.4,
          0.3333333333333333,
          0.2857142857142857,
          0.25,
          0.2222222222222222,
          0.2
         ],
         "xaxis": "x",
         "y": [
          0.4652490302296039,
          0.4817160559088615,
          0.49250290375206013,
          0.4982990922920045,
          0.49659323188734955,
          0.5006742874553753,
          0.5035158959151318,
          0.504421122609261
         ],
         "yaxis": "y"
        },
        {
         "fill": "toself",
         "fillcolor": "rgba(255,151,255,.3)",
         "hoverinfo": "skip",
         "legendgroup": "SGC",
         "line": {
          "color": "rgba(255,255,255,0)"
         },
         "showlegend": false,
         "type": "scatter",
         "x": [
          0.2222222222222222,
          0.2222222222222222
         ],
         "xaxis": "x",
         "y": [
          0.6346173840363302,
          0.591736656427155
         ],
         "yaxis": "y"
        },
        {
         "hovertemplate": "model=SGC<br>test_size=%{x}<br>test_acc_avg=%{y}<extra></extra>",
         "legendgroup": "SGC",
         "line": {
          "color": "#FF97FF",
          "dash": "solid"
         },
         "marker": {
          "symbol": "circle"
         },
         "mode": "markers+lines",
         "name": "SGC",
         "orientation": "v",
         "showlegend": true,
         "type": "scatter",
         "x": [
          0.2222222222222222
         ],
         "xaxis": "x",
         "y": [
          0.6131770202317426
         ],
         "yaxis": "y"
        }
       ],
       "layout": {
        "legend": {
         "title": {
          "text": "model"
         },
         "tracegroupgap": 0
        },
        "template": {
         "data": {
          "bar": [
           {
            "error_x": {
             "color": "#2a3f5f"
            },
            "error_y": {
             "color": "#2a3f5f"
            },
            "marker": {
             "line": {
              "color": "#E5ECF6",
              "width": 0.5
             },
             "pattern": {
              "fillmode": "overlay",
              "size": 10,
              "solidity": 0.2
             }
            },
            "type": "bar"
           }
          ],
          "barpolar": [
           {
            "marker": {
             "line": {
              "color": "#E5ECF6",
              "width": 0.5
             },
             "pattern": {
              "fillmode": "overlay",
              "size": 10,
              "solidity": 0.2
             }
            },
            "type": "barpolar"
           }
          ],
          "carpet": [
           {
            "aaxis": {
             "endlinecolor": "#2a3f5f",
             "gridcolor": "white",
             "linecolor": "white",
             "minorgridcolor": "white",
             "startlinecolor": "#2a3f5f"
            },
            "baxis": {
             "endlinecolor": "#2a3f5f",
             "gridcolor": "white",
             "linecolor": "white",
             "minorgridcolor": "white",
             "startlinecolor": "#2a3f5f"
            },
            "type": "carpet"
           }
          ],
          "choropleth": [
           {
            "colorbar": {
             "outlinewidth": 0,
             "ticks": ""
            },
            "type": "choropleth"
           }
          ],
          "contour": [
           {
            "colorbar": {
             "outlinewidth": 0,
             "ticks": ""
            },
            "colorscale": [
             [
              0,
              "#0d0887"
             ],
             [
              0.1111111111111111,
              "#46039f"
             ],
             [
              0.2222222222222222,
              "#7201a8"
             ],
             [
              0.3333333333333333,
              "#9c179e"
             ],
             [
              0.4444444444444444,
              "#bd3786"
             ],
             [
              0.5555555555555556,
              "#d8576b"
             ],
             [
              0.6666666666666666,
              "#ed7953"
             ],
             [
              0.7777777777777778,
              "#fb9f3a"
             ],
             [
              0.8888888888888888,
              "#fdca26"
             ],
             [
              1,
              "#f0f921"
             ]
            ],
            "type": "contour"
           }
          ],
          "contourcarpet": [
           {
            "colorbar": {
             "outlinewidth": 0,
             "ticks": ""
            },
            "type": "contourcarpet"
           }
          ],
          "heatmap": [
           {
            "colorbar": {
             "outlinewidth": 0,
             "ticks": ""
            },
            "colorscale": [
             [
              0,
              "#0d0887"
             ],
             [
              0.1111111111111111,
              "#46039f"
             ],
             [
              0.2222222222222222,
              "#7201a8"
             ],
             [
              0.3333333333333333,
              "#9c179e"
             ],
             [
              0.4444444444444444,
              "#bd3786"
             ],
             [
              0.5555555555555556,
              "#d8576b"
             ],
             [
              0.6666666666666666,
              "#ed7953"
             ],
             [
              0.7777777777777778,
              "#fb9f3a"
             ],
             [
              0.8888888888888888,
              "#fdca26"
             ],
             [
              1,
              "#f0f921"
             ]
            ],
            "type": "heatmap"
           }
          ],
          "heatmapgl": [
           {
            "colorbar": {
             "outlinewidth": 0,
             "ticks": ""
            },
            "colorscale": [
             [
              0,
              "#0d0887"
             ],
             [
              0.1111111111111111,
              "#46039f"
             ],
             [
              0.2222222222222222,
              "#7201a8"
             ],
             [
              0.3333333333333333,
              "#9c179e"
             ],
             [
              0.4444444444444444,
              "#bd3786"
             ],
             [
              0.5555555555555556,
              "#d8576b"
             ],
             [
              0.6666666666666666,
              "#ed7953"
             ],
             [
              0.7777777777777778,
              "#fb9f3a"
             ],
             [
              0.8888888888888888,
              "#fdca26"
             ],
             [
              1,
              "#f0f921"
             ]
            ],
            "type": "heatmapgl"
           }
          ],
          "histogram": [
           {
            "marker": {
             "pattern": {
              "fillmode": "overlay",
              "size": 10,
              "solidity": 0.2
             }
            },
            "type": "histogram"
           }
          ],
          "histogram2d": [
           {
            "colorbar": {
             "outlinewidth": 0,
             "ticks": ""
            },
            "colorscale": [
             [
              0,
              "#0d0887"
             ],
             [
              0.1111111111111111,
              "#46039f"
             ],
             [
              0.2222222222222222,
              "#7201a8"
             ],
             [
              0.3333333333333333,
              "#9c179e"
             ],
             [
              0.4444444444444444,
              "#bd3786"
             ],
             [
              0.5555555555555556,
              "#d8576b"
             ],
             [
              0.6666666666666666,
              "#ed7953"
             ],
             [
              0.7777777777777778,
              "#fb9f3a"
             ],
             [
              0.8888888888888888,
              "#fdca26"
             ],
             [
              1,
              "#f0f921"
             ]
            ],
            "type": "histogram2d"
           }
          ],
          "histogram2dcontour": [
           {
            "colorbar": {
             "outlinewidth": 0,
             "ticks": ""
            },
            "colorscale": [
             [
              0,
              "#0d0887"
             ],
             [
              0.1111111111111111,
              "#46039f"
             ],
             [
              0.2222222222222222,
              "#7201a8"
             ],
             [
              0.3333333333333333,
              "#9c179e"
             ],
             [
              0.4444444444444444,
              "#bd3786"
             ],
             [
              0.5555555555555556,
              "#d8576b"
             ],
             [
              0.6666666666666666,
              "#ed7953"
             ],
             [
              0.7777777777777778,
              "#fb9f3a"
             ],
             [
              0.8888888888888888,
              "#fdca26"
             ],
             [
              1,
              "#f0f921"
             ]
            ],
            "type": "histogram2dcontour"
           }
          ],
          "mesh3d": [
           {
            "colorbar": {
             "outlinewidth": 0,
             "ticks": ""
            },
            "type": "mesh3d"
           }
          ],
          "parcoords": [
           {
            "line": {
             "colorbar": {
              "outlinewidth": 0,
              "ticks": ""
             }
            },
            "type": "parcoords"
           }
          ],
          "pie": [
           {
            "automargin": true,
            "type": "pie"
           }
          ],
          "scatter": [
           {
            "fillpattern": {
             "fillmode": "overlay",
             "size": 10,
             "solidity": 0.2
            },
            "type": "scatter"
           }
          ],
          "scatter3d": [
           {
            "line": {
             "colorbar": {
              "outlinewidth": 0,
              "ticks": ""
             }
            },
            "marker": {
             "colorbar": {
              "outlinewidth": 0,
              "ticks": ""
             }
            },
            "type": "scatter3d"
           }
          ],
          "scattercarpet": [
           {
            "marker": {
             "colorbar": {
              "outlinewidth": 0,
              "ticks": ""
             }
            },
            "type": "scattercarpet"
           }
          ],
          "scattergeo": [
           {
            "marker": {
             "colorbar": {
              "outlinewidth": 0,
              "ticks": ""
             }
            },
            "type": "scattergeo"
           }
          ],
          "scattergl": [
           {
            "marker": {
             "colorbar": {
              "outlinewidth": 0,
              "ticks": ""
             }
            },
            "type": "scattergl"
           }
          ],
          "scattermapbox": [
           {
            "marker": {
             "colorbar": {
              "outlinewidth": 0,
              "ticks": ""
             }
            },
            "type": "scattermapbox"
           }
          ],
          "scatterpolar": [
           {
            "marker": {
             "colorbar": {
              "outlinewidth": 0,
              "ticks": ""
             }
            },
            "type": "scatterpolar"
           }
          ],
          "scatterpolargl": [
           {
            "marker": {
             "colorbar": {
              "outlinewidth": 0,
              "ticks": ""
             }
            },
            "type": "scatterpolargl"
           }
          ],
          "scatterternary": [
           {
            "marker": {
             "colorbar": {
              "outlinewidth": 0,
              "ticks": ""
             }
            },
            "type": "scatterternary"
           }
          ],
          "surface": [
           {
            "colorbar": {
             "outlinewidth": 0,
             "ticks": ""
            },
            "colorscale": [
             [
              0,
              "#0d0887"
             ],
             [
              0.1111111111111111,
              "#46039f"
             ],
             [
              0.2222222222222222,
              "#7201a8"
             ],
             [
              0.3333333333333333,
              "#9c179e"
             ],
             [
              0.4444444444444444,
              "#bd3786"
             ],
             [
              0.5555555555555556,
              "#d8576b"
             ],
             [
              0.6666666666666666,
              "#ed7953"
             ],
             [
              0.7777777777777778,
              "#fb9f3a"
             ],
             [
              0.8888888888888888,
              "#fdca26"
             ],
             [
              1,
              "#f0f921"
             ]
            ],
            "type": "surface"
           }
          ],
          "table": [
           {
            "cells": {
             "fill": {
              "color": "#EBF0F8"
             },
             "line": {
              "color": "white"
             }
            },
            "header": {
             "fill": {
              "color": "#C8D4E3"
             },
             "line": {
              "color": "white"
             }
            },
            "type": "table"
           }
          ]
         },
         "layout": {
          "annotationdefaults": {
           "arrowcolor": "#2a3f5f",
           "arrowhead": 0,
           "arrowwidth": 1
          },
          "autotypenumbers": "strict",
          "coloraxis": {
           "colorbar": {
            "outlinewidth": 0,
            "ticks": ""
           }
          },
          "colorscale": {
           "diverging": [
            [
             0,
             "#8e0152"
            ],
            [
             0.1,
             "#c51b7d"
            ],
            [
             0.2,
             "#de77ae"
            ],
            [
             0.3,
             "#f1b6da"
            ],
            [
             0.4,
             "#fde0ef"
            ],
            [
             0.5,
             "#f7f7f7"
            ],
            [
             0.6,
             "#e6f5d0"
            ],
            [
             0.7,
             "#b8e186"
            ],
            [
             0.8,
             "#7fbc41"
            ],
            [
             0.9,
             "#4d9221"
            ],
            [
             1,
             "#276419"
            ]
           ],
           "sequential": [
            [
             0,
             "#0d0887"
            ],
            [
             0.1111111111111111,
             "#46039f"
            ],
            [
             0.2222222222222222,
             "#7201a8"
            ],
            [
             0.3333333333333333,
             "#9c179e"
            ],
            [
             0.4444444444444444,
             "#bd3786"
            ],
            [
             0.5555555555555556,
             "#d8576b"
            ],
            [
             0.6666666666666666,
             "#ed7953"
            ],
            [
             0.7777777777777778,
             "#fb9f3a"
            ],
            [
             0.8888888888888888,
             "#fdca26"
            ],
            [
             1,
             "#f0f921"
            ]
           ],
           "sequentialminus": [
            [
             0,
             "#0d0887"
            ],
            [
             0.1111111111111111,
             "#46039f"
            ],
            [
             0.2222222222222222,
             "#7201a8"
            ],
            [
             0.3333333333333333,
             "#9c179e"
            ],
            [
             0.4444444444444444,
             "#bd3786"
            ],
            [
             0.5555555555555556,
             "#d8576b"
            ],
            [
             0.6666666666666666,
             "#ed7953"
            ],
            [
             0.7777777777777778,
             "#fb9f3a"
            ],
            [
             0.8888888888888888,
             "#fdca26"
            ],
            [
             1,
             "#f0f921"
            ]
           ]
          },
          "colorway": [
           "#636efa",
           "#EF553B",
           "#00cc96",
           "#ab63fa",
           "#FFA15A",
           "#19d3f3",
           "#FF6692",
           "#B6E880",
           "#FF97FF",
           "#FECB52"
          ],
          "font": {
           "color": "#2a3f5f"
          },
          "geo": {
           "bgcolor": "white",
           "lakecolor": "white",
           "landcolor": "#E5ECF6",
           "showlakes": true,
           "showland": true,
           "subunitcolor": "white"
          },
          "hoverlabel": {
           "align": "left"
          },
          "hovermode": "closest",
          "mapbox": {
           "style": "light"
          },
          "paper_bgcolor": "white",
          "plot_bgcolor": "#E5ECF6",
          "polar": {
           "angularaxis": {
            "gridcolor": "white",
            "linecolor": "white",
            "ticks": ""
           },
           "bgcolor": "#E5ECF6",
           "radialaxis": {
            "gridcolor": "white",
            "linecolor": "white",
            "ticks": ""
           }
          },
          "scene": {
           "xaxis": {
            "backgroundcolor": "#E5ECF6",
            "gridcolor": "white",
            "gridwidth": 2,
            "linecolor": "white",
            "showbackground": true,
            "ticks": "",
            "zerolinecolor": "white"
           },
           "yaxis": {
            "backgroundcolor": "#E5ECF6",
            "gridcolor": "white",
            "gridwidth": 2,
            "linecolor": "white",
            "showbackground": true,
            "ticks": "",
            "zerolinecolor": "white"
           },
           "zaxis": {
            "backgroundcolor": "#E5ECF6",
            "gridcolor": "white",
            "gridwidth": 2,
            "linecolor": "white",
            "showbackground": true,
            "ticks": "",
            "zerolinecolor": "white"
           }
          },
          "shapedefaults": {
           "line": {
            "color": "#2a3f5f"
           }
          },
          "ternary": {
           "aaxis": {
            "gridcolor": "white",
            "linecolor": "white",
            "ticks": ""
           },
           "baxis": {
            "gridcolor": "white",
            "linecolor": "white",
            "ticks": ""
           },
           "bgcolor": "#E5ECF6",
           "caxis": {
            "gridcolor": "white",
            "linecolor": "white",
            "ticks": ""
           }
          },
          "title": {
           "x": 0.05
          },
          "xaxis": {
           "automargin": true,
           "gridcolor": "white",
           "linecolor": "white",
           "ticks": "",
           "title": {
            "standoff": 15
           },
           "zerolinecolor": "white",
           "zerolinewidth": 2
          },
          "yaxis": {
           "automargin": true,
           "gridcolor": "white",
           "linecolor": "white",
           "ticks": "",
           "title": {
            "standoff": 15
           },
           "zerolinecolor": "white",
           "zerolinewidth": 2
          }
         }
        },
        "title": {
         "text": "Test accuracy"
        },
        "xaxis": {
         "anchor": "y",
         "domain": [
          0,
          1
         ],
         "title": {
          "text": "test_size"
         }
        },
        "yaxis": {
         "anchor": "x",
         "domain": [
          0,
          1
         ],
         "title": {
          "text": "test_acc_avg"
         }
        }
       }
      }
     },
     "metadata": {},
     "output_type": "display_data"
    }
   ],
   "source": [
    "# Compute average and standard deviation according to values of k\n",
    "grouped = df.groupby(['dataset', 'model', 'k', 'train_size', 'test_size'])[['train_acc', 'test_acc']].agg({'train_acc': ['mean', 'std'], 'test_acc': ['mean', 'std']}).reset_index()\n",
    "grouped.columns = ['dataset', 'model', 'k', 'train_size', 'test_size', 'train_acc_avg', 'train_acc_std', 'test_acc_avg', 'test_acc_std', ]\n",
    "grouped\n",
    "\n",
    "# Test split\n",
    "for error_y_mode in {'band'}:\n",
    "    fig = line(\n",
    "        data_frame = grouped[grouped['dataset']=='wikischools'],\n",
    "        x = 'test_size',\n",
    "        y = 'test_acc_avg',\n",
    "        error_y = 'test_acc_std',\n",
    "        error_y_mode = error_y_mode,\n",
    "        color = 'model',\n",
    "        title = f'Test accuracy',\n",
    "        markers = '.',\n",
    "    )\n",
    "    fig.show()"
   ]
  },
  {
   "cell_type": "code",
   "execution_count": 38,
   "metadata": {},
   "outputs": [
    {
     "data": {
      "text/html": [
       "<div>\n",
       "<style scoped>\n",
       "    .dataframe tbody tr th:only-of-type {\n",
       "        vertical-align: middle;\n",
       "    }\n",
       "\n",
       "    .dataframe tbody tr th {\n",
       "        vertical-align: top;\n",
       "    }\n",
       "\n",
       "    .dataframe thead th {\n",
       "        text-align: right;\n",
       "    }\n",
       "</style>\n",
       "<table border=\"1\" class=\"dataframe\">\n",
       "  <thead>\n",
       "    <tr style=\"text-align: right;\">\n",
       "      <th></th>\n",
       "      <th>dataset</th>\n",
       "      <th>model</th>\n",
       "      <th>k</th>\n",
       "      <th>train_acc</th>\n",
       "      <th>test_acc</th>\n",
       "      <th>computation_time</th>\n",
       "      <th>train_size</th>\n",
       "      <th>test_size</th>\n",
       "    </tr>\n",
       "  </thead>\n",
       "  <tbody>\n",
       "    <tr>\n",
       "      <th>573</th>\n",
       "      <td>wikischools</td>\n",
       "      <td>SGC</td>\n",
       "      <td>9</td>\n",
       "      <td>0.665693</td>\n",
       "      <td>0.620020</td>\n",
       "      <td>7.033724</td>\n",
       "      <td>0.777778</td>\n",
       "      <td>0.222222</td>\n",
       "    </tr>\n",
       "    <tr>\n",
       "      <th>574</th>\n",
       "      <td>wikischools</td>\n",
       "      <td>SGC</td>\n",
       "      <td>9</td>\n",
       "      <td>0.706301</td>\n",
       "      <td>0.632653</td>\n",
       "      <td>6.843435</td>\n",
       "      <td>0.777778</td>\n",
       "      <td>0.222222</td>\n",
       "    </tr>\n",
       "    <tr>\n",
       "      <th>575</th>\n",
       "      <td>wikischools</td>\n",
       "      <td>SGC</td>\n",
       "      <td>9</td>\n",
       "      <td>0.647975</td>\n",
       "      <td>0.597208</td>\n",
       "      <td>7.037248</td>\n",
       "      <td>0.777778</td>\n",
       "      <td>0.222222</td>\n",
       "    </tr>\n",
       "    <tr>\n",
       "      <th>576</th>\n",
       "      <td>wikischools</td>\n",
       "      <td>SGC</td>\n",
       "      <td>9</td>\n",
       "      <td>0.663358</td>\n",
       "      <td>0.612815</td>\n",
       "      <td>6.818525</td>\n",
       "      <td>0.777778</td>\n",
       "      <td>0.222222</td>\n",
       "    </tr>\n",
       "    <tr>\n",
       "      <th>577</th>\n",
       "      <td>wikischools</td>\n",
       "      <td>SGC</td>\n",
       "      <td>9</td>\n",
       "      <td>0.694891</td>\n",
       "      <td>0.640082</td>\n",
       "      <td>6.819979</td>\n",
       "      <td>0.777778</td>\n",
       "      <td>0.222222</td>\n",
       "    </tr>\n",
       "    <tr>\n",
       "      <th>578</th>\n",
       "      <td>wikischools</td>\n",
       "      <td>SGC</td>\n",
       "      <td>9</td>\n",
       "      <td>0.653236</td>\n",
       "      <td>0.590320</td>\n",
       "      <td>6.848935</td>\n",
       "      <td>0.777778</td>\n",
       "      <td>0.222222</td>\n",
       "    </tr>\n",
       "    <tr>\n",
       "      <th>579</th>\n",
       "      <td>wikischools</td>\n",
       "      <td>SGC</td>\n",
       "      <td>9</td>\n",
       "      <td>0.685061</td>\n",
       "      <td>0.620995</td>\n",
       "      <td>6.868691</td>\n",
       "      <td>0.777778</td>\n",
       "      <td>0.222222</td>\n",
       "    </tr>\n",
       "    <tr>\n",
       "      <th>580</th>\n",
       "      <td>wikischools</td>\n",
       "      <td>SGC</td>\n",
       "      <td>9</td>\n",
       "      <td>0.663844</td>\n",
       "      <td>0.575324</td>\n",
       "      <td>6.728025</td>\n",
       "      <td>0.777778</td>\n",
       "      <td>0.222222</td>\n",
       "    </tr>\n",
       "    <tr>\n",
       "      <th>581</th>\n",
       "      <td>wikischools</td>\n",
       "      <td>SGC</td>\n",
       "      <td>9</td>\n",
       "      <td>0.715036</td>\n",
       "      <td>0.629175</td>\n",
       "      <td>6.756609</td>\n",
       "      <td>0.777778</td>\n",
       "      <td>0.222222</td>\n",
       "    </tr>\n",
       "  </tbody>\n",
       "</table>\n",
       "</div>"
      ],
      "text/plain": [
       "         dataset model  k  train_acc  test_acc  computation_time  train_size   \n",
       "573  wikischools   SGC  9   0.665693  0.620020          7.033724    0.777778  \\\n",
       "574  wikischools   SGC  9   0.706301  0.632653          6.843435    0.777778   \n",
       "575  wikischools   SGC  9   0.647975  0.597208          7.037248    0.777778   \n",
       "576  wikischools   SGC  9   0.663358  0.612815          6.818525    0.777778   \n",
       "577  wikischools   SGC  9   0.694891  0.640082          6.819979    0.777778   \n",
       "578  wikischools   SGC  9   0.653236  0.590320          6.848935    0.777778   \n",
       "579  wikischools   SGC  9   0.685061  0.620995          6.868691    0.777778   \n",
       "580  wikischools   SGC  9   0.663844  0.575324          6.728025    0.777778   \n",
       "581  wikischools   SGC  9   0.715036  0.629175          6.756609    0.777778   \n",
       "\n",
       "     test_size  \n",
       "573   0.222222  \n",
       "574   0.222222  \n",
       "575   0.222222  \n",
       "576   0.222222  \n",
       "577   0.222222  \n",
       "578   0.222222  \n",
       "579   0.222222  \n",
       "580   0.222222  \n",
       "581   0.222222  "
      ]
     },
     "execution_count": 38,
     "metadata": {},
     "output_type": "execute_result"
    }
   ],
   "source": [
    "df[(df['dataset']=='wikischools') & (df['model']=='SGC')]"
   ]
  },
  {
   "attachments": {},
   "cell_type": "markdown",
   "metadata": {},
   "source": [
    "## 2. Features for baselines"
   ]
  },
  {
   "cell_type": "code",
   "execution_count": 42,
   "metadata": {},
   "outputs": [
    {
     "name": "stdout",
     "output_type": "stream",
     "text": [
      "dict_items([('undirected', False), ('penalized', True), ('use_features', True)])\n",
      "dict_items([('undirected', False), ('penalized', True), ('use_features', False)])\n",
      "(780, 8) (188, 8)\n"
     ]
    }
   ],
   "source": [
    "RUNPATH = os.path.join(os.path.dirname(os.getcwd()), 'runs')\n",
    "\n",
    "# Store data into DataFrame\n",
    "df = data2df(RUNPATH, undirected=False, penalized=True, use_features=True)\n",
    "\n",
    "# Load performances with GNN (no need to use the use_features parameter)\n",
    "df_gnns = data2df(RUNPATH, undirected=False, penalized=True, use_features=False)\n",
    "df_gnns = df_gnns[(df_gnns['model'] == 'GCN') | (df_gnns['model'] == 'GAT') | (df_gnns['model'] == 'GraphSage') | (df_gnns['model'] == 'SGC')]\n",
    "\n",
    "print(df.shape, df_gnns.shape)"
   ]
  },
  {
   "cell_type": "code",
   "execution_count": 43,
   "metadata": {},
   "outputs": [
    {
     "data": {
      "text/plain": [
       "(array(['KNN', 'PageRank', 'KNN_embedding_methodtrue', 'Diffusion',\n",
       "        'LabelPropagation'], dtype=object),\n",
       " array(['GAT', 'GraphSage', 'SGC', 'GCN'], dtype=object))"
      ]
     },
     "execution_count": 43,
     "metadata": {},
     "output_type": "execute_result"
    }
   ],
   "source": [
    "df.model.unique(), df_gnns.model.unique()"
   ]
  },
  {
   "cell_type": "code",
   "execution_count": 45,
   "metadata": {},
   "outputs": [],
   "source": [
    "# Concatenate results for baselines and GNNs\n",
    "df_tot = pd.concat([df, df_gnns])"
   ]
  },
  {
   "cell_type": "code",
   "execution_count": 47,
   "metadata": {},
   "outputs": [
    {
     "data": {
      "text/html": [
       "<div>\n",
       "<style scoped>\n",
       "    .dataframe tbody tr th:only-of-type {\n",
       "        vertical-align: middle;\n",
       "    }\n",
       "\n",
       "    .dataframe tbody tr th {\n",
       "        vertical-align: top;\n",
       "    }\n",
       "\n",
       "    .dataframe thead th {\n",
       "        text-align: right;\n",
       "    }\n",
       "</style>\n",
       "<table border=\"1\" class=\"dataframe\">\n",
       "  <thead>\n",
       "    <tr style=\"text-align: right;\">\n",
       "      <th></th>\n",
       "      <th>dataset</th>\n",
       "      <th>model</th>\n",
       "      <th>k</th>\n",
       "      <th>train_acc</th>\n",
       "      <th>test_acc</th>\n",
       "      <th>computation_time</th>\n",
       "      <th>train_size</th>\n",
       "      <th>test_size</th>\n",
       "    </tr>\n",
       "  </thead>\n",
       "  <tbody>\n",
       "    <tr>\n",
       "      <th>227</th>\n",
       "      <td>wikivitals</td>\n",
       "      <td>LabelPropagation</td>\n",
       "      <td>3</td>\n",
       "      <td>1.000000</td>\n",
       "      <td>0.198981</td>\n",
       "      <td>0.206391</td>\n",
       "      <td>0.333333</td>\n",
       "      <td>0.666667</td>\n",
       "    </tr>\n",
       "    <tr>\n",
       "      <th>228</th>\n",
       "      <td>wikivitals</td>\n",
       "      <td>LabelPropagation</td>\n",
       "      <td>3</td>\n",
       "      <td>1.000000</td>\n",
       "      <td>0.198831</td>\n",
       "      <td>0.203279</td>\n",
       "      <td>0.333333</td>\n",
       "      <td>0.666667</td>\n",
       "    </tr>\n",
       "    <tr>\n",
       "      <th>229</th>\n",
       "      <td>wikivitals</td>\n",
       "      <td>LabelPropagation</td>\n",
       "      <td>3</td>\n",
       "      <td>1.000000</td>\n",
       "      <td>0.198831</td>\n",
       "      <td>0.197615</td>\n",
       "      <td>0.333333</td>\n",
       "      <td>0.666667</td>\n",
       "    </tr>\n",
       "    <tr>\n",
       "      <th>257</th>\n",
       "      <td>wikivitals</td>\n",
       "      <td>PageRank</td>\n",
       "      <td>3</td>\n",
       "      <td>1.000000</td>\n",
       "      <td>0.781840</td>\n",
       "      <td>2.071895</td>\n",
       "      <td>0.333333</td>\n",
       "      <td>0.666667</td>\n",
       "    </tr>\n",
       "    <tr>\n",
       "      <th>258</th>\n",
       "      <td>wikivitals</td>\n",
       "      <td>PageRank</td>\n",
       "      <td>3</td>\n",
       "      <td>1.000000</td>\n",
       "      <td>0.779293</td>\n",
       "      <td>2.055171</td>\n",
       "      <td>0.333333</td>\n",
       "      <td>0.666667</td>\n",
       "    </tr>\n",
       "    <tr>\n",
       "      <th>259</th>\n",
       "      <td>wikivitals</td>\n",
       "      <td>PageRank</td>\n",
       "      <td>3</td>\n",
       "      <td>1.000000</td>\n",
       "      <td>0.781990</td>\n",
       "      <td>2.070127</td>\n",
       "      <td>0.333333</td>\n",
       "      <td>0.666667</td>\n",
       "    </tr>\n",
       "    <tr>\n",
       "      <th>592</th>\n",
       "      <td>wikivitals</td>\n",
       "      <td>KNN_embedding_methodtrue</td>\n",
       "      <td>3</td>\n",
       "      <td>1.000000</td>\n",
       "      <td>0.813156</td>\n",
       "      <td>10.592218</td>\n",
       "      <td>0.333333</td>\n",
       "      <td>0.666667</td>\n",
       "    </tr>\n",
       "    <tr>\n",
       "      <th>593</th>\n",
       "      <td>wikivitals</td>\n",
       "      <td>KNN_embedding_methodtrue</td>\n",
       "      <td>3</td>\n",
       "      <td>1.000000</td>\n",
       "      <td>0.810009</td>\n",
       "      <td>10.646292</td>\n",
       "      <td>0.333333</td>\n",
       "      <td>0.666667</td>\n",
       "    </tr>\n",
       "    <tr>\n",
       "      <th>594</th>\n",
       "      <td>wikivitals</td>\n",
       "      <td>KNN_embedding_methodtrue</td>\n",
       "      <td>3</td>\n",
       "      <td>1.000000</td>\n",
       "      <td>0.814804</td>\n",
       "      <td>10.663012</td>\n",
       "      <td>0.333333</td>\n",
       "      <td>0.666667</td>\n",
       "    </tr>\n",
       "    <tr>\n",
       "      <th>653</th>\n",
       "      <td>wikivitals</td>\n",
       "      <td>KNN</td>\n",
       "      <td>3</td>\n",
       "      <td>1.000000</td>\n",
       "      <td>0.596794</td>\n",
       "      <td>45.833864</td>\n",
       "      <td>0.333333</td>\n",
       "      <td>0.666667</td>\n",
       "    </tr>\n",
       "    <tr>\n",
       "      <th>654</th>\n",
       "      <td>wikivitals</td>\n",
       "      <td>KNN</td>\n",
       "      <td>3</td>\n",
       "      <td>1.000000</td>\n",
       "      <td>0.609380</td>\n",
       "      <td>47.256891</td>\n",
       "      <td>0.333333</td>\n",
       "      <td>0.666667</td>\n",
       "    </tr>\n",
       "    <tr>\n",
       "      <th>655</th>\n",
       "      <td>wikivitals</td>\n",
       "      <td>KNN</td>\n",
       "      <td>3</td>\n",
       "      <td>1.000000</td>\n",
       "      <td>0.594096</td>\n",
       "      <td>47.838663</td>\n",
       "      <td>0.333333</td>\n",
       "      <td>0.666667</td>\n",
       "    </tr>\n",
       "    <tr>\n",
       "      <th>723</th>\n",
       "      <td>wikivitals</td>\n",
       "      <td>Diffusion</td>\n",
       "      <td>3</td>\n",
       "      <td>1.000000</td>\n",
       "      <td>0.785736</td>\n",
       "      <td>0.250250</td>\n",
       "      <td>0.333333</td>\n",
       "      <td>0.666667</td>\n",
       "    </tr>\n",
       "    <tr>\n",
       "      <th>724</th>\n",
       "      <td>wikivitals</td>\n",
       "      <td>Diffusion</td>\n",
       "      <td>3</td>\n",
       "      <td>1.000000</td>\n",
       "      <td>0.791729</td>\n",
       "      <td>0.247991</td>\n",
       "      <td>0.333333</td>\n",
       "      <td>0.666667</td>\n",
       "    </tr>\n",
       "    <tr>\n",
       "      <th>725</th>\n",
       "      <td>wikivitals</td>\n",
       "      <td>Diffusion</td>\n",
       "      <td>3</td>\n",
       "      <td>1.000000</td>\n",
       "      <td>0.797273</td>\n",
       "      <td>0.248423</td>\n",
       "      <td>0.333333</td>\n",
       "      <td>0.666667</td>\n",
       "    </tr>\n",
       "    <tr>\n",
       "      <th>24</th>\n",
       "      <td>wikivitals</td>\n",
       "      <td>GAT</td>\n",
       "      <td>3</td>\n",
       "      <td>0.791230</td>\n",
       "      <td>0.753221</td>\n",
       "      <td>108.711966</td>\n",
       "      <td>0.333333</td>\n",
       "      <td>0.666667</td>\n",
       "    </tr>\n",
       "    <tr>\n",
       "      <th>25</th>\n",
       "      <td>wikivitals</td>\n",
       "      <td>GAT</td>\n",
       "      <td>3</td>\n",
       "      <td>0.775946</td>\n",
       "      <td>0.577115</td>\n",
       "      <td>108.128247</td>\n",
       "      <td>0.333333</td>\n",
       "      <td>0.666667</td>\n",
       "    </tr>\n",
       "    <tr>\n",
       "      <th>26</th>\n",
       "      <td>wikivitals</td>\n",
       "      <td>GAT</td>\n",
       "      <td>3</td>\n",
       "      <td>0.788732</td>\n",
       "      <td>0.720308</td>\n",
       "      <td>107.707576</td>\n",
       "      <td>0.333333</td>\n",
       "      <td>0.666667</td>\n",
       "    </tr>\n",
       "    <tr>\n",
       "      <th>949</th>\n",
       "      <td>wikivitals</td>\n",
       "      <td>GCN</td>\n",
       "      <td>3</td>\n",
       "      <td>0.795924</td>\n",
       "      <td>0.787833</td>\n",
       "      <td>79.637242</td>\n",
       "      <td>0.333333</td>\n",
       "      <td>0.666667</td>\n",
       "    </tr>\n",
       "    <tr>\n",
       "      <th>950</th>\n",
       "      <td>wikivitals</td>\n",
       "      <td>GCN</td>\n",
       "      <td>3</td>\n",
       "      <td>0.765758</td>\n",
       "      <td>0.769104</td>\n",
       "      <td>79.997269</td>\n",
       "      <td>0.333333</td>\n",
       "      <td>0.666667</td>\n",
       "    </tr>\n",
       "    <tr>\n",
       "      <th>951</th>\n",
       "      <td>wikivitals</td>\n",
       "      <td>GCN</td>\n",
       "      <td>3</td>\n",
       "      <td>0.772650</td>\n",
       "      <td>0.783638</td>\n",
       "      <td>80.678140</td>\n",
       "      <td>0.333333</td>\n",
       "      <td>0.666667</td>\n",
       "    </tr>\n",
       "  </tbody>\n",
       "</table>\n",
       "</div>"
      ],
      "text/plain": [
       "        dataset                     model  k  train_acc  test_acc   \n",
       "227  wikivitals          LabelPropagation  3   1.000000  0.198981  \\\n",
       "228  wikivitals          LabelPropagation  3   1.000000  0.198831   \n",
       "229  wikivitals          LabelPropagation  3   1.000000  0.198831   \n",
       "257  wikivitals                  PageRank  3   1.000000  0.781840   \n",
       "258  wikivitals                  PageRank  3   1.000000  0.779293   \n",
       "259  wikivitals                  PageRank  3   1.000000  0.781990   \n",
       "592  wikivitals  KNN_embedding_methodtrue  3   1.000000  0.813156   \n",
       "593  wikivitals  KNN_embedding_methodtrue  3   1.000000  0.810009   \n",
       "594  wikivitals  KNN_embedding_methodtrue  3   1.000000  0.814804   \n",
       "653  wikivitals                       KNN  3   1.000000  0.596794   \n",
       "654  wikivitals                       KNN  3   1.000000  0.609380   \n",
       "655  wikivitals                       KNN  3   1.000000  0.594096   \n",
       "723  wikivitals                 Diffusion  3   1.000000  0.785736   \n",
       "724  wikivitals                 Diffusion  3   1.000000  0.791729   \n",
       "725  wikivitals                 Diffusion  3   1.000000  0.797273   \n",
       "24   wikivitals                       GAT  3   0.791230  0.753221   \n",
       "25   wikivitals                       GAT  3   0.775946  0.577115   \n",
       "26   wikivitals                       GAT  3   0.788732  0.720308   \n",
       "949  wikivitals                       GCN  3   0.795924  0.787833   \n",
       "950  wikivitals                       GCN  3   0.765758  0.769104   \n",
       "951  wikivitals                       GCN  3   0.772650  0.783638   \n",
       "\n",
       "     computation_time  train_size  test_size  \n",
       "227          0.206391    0.333333   0.666667  \n",
       "228          0.203279    0.333333   0.666667  \n",
       "229          0.197615    0.333333   0.666667  \n",
       "257          2.071895    0.333333   0.666667  \n",
       "258          2.055171    0.333333   0.666667  \n",
       "259          2.070127    0.333333   0.666667  \n",
       "592         10.592218    0.333333   0.666667  \n",
       "593         10.646292    0.333333   0.666667  \n",
       "594         10.663012    0.333333   0.666667  \n",
       "653         45.833864    0.333333   0.666667  \n",
       "654         47.256891    0.333333   0.666667  \n",
       "655         47.838663    0.333333   0.666667  \n",
       "723          0.250250    0.333333   0.666667  \n",
       "724          0.247991    0.333333   0.666667  \n",
       "725          0.248423    0.333333   0.666667  \n",
       "24         108.711966    0.333333   0.666667  \n",
       "25         108.128247    0.333333   0.666667  \n",
       "26         107.707576    0.333333   0.666667  \n",
       "949         79.637242    0.333333   0.666667  \n",
       "950         79.997269    0.333333   0.666667  \n",
       "951         80.678140    0.333333   0.666667  "
      ]
     },
     "execution_count": 47,
     "metadata": {},
     "output_type": "execute_result"
    }
   ],
   "source": [
    "df_tot[(df_tot['dataset']=='wikivitals') & (df_tot['k']==3)]"
   ]
  },
  {
   "attachments": {},
   "cell_type": "markdown",
   "metadata": {},
   "source": [
    "`Wikivitals`"
   ]
  },
  {
   "cell_type": "code",
   "execution_count": 48,
   "metadata": {},
   "outputs": [
    {
     "data": {
      "application/vnd.plotly.v1+json": {
       "config": {
        "plotlyServerURL": "https://plot.ly"
       },
       "data": [
        {
         "fill": "toself",
         "fillcolor": "rgba(99,110,250,.3)",
         "hoverinfo": "skip",
         "legendgroup": "Diffusion",
         "line": {
          "color": "rgba(255,255,255,0)"
         },
         "showlegend": false,
         "type": "scatter",
         "x": [
          0.6666666666666666,
          0.5,
          0.4,
          0.3333333333333333,
          0.2857142857142857,
          0.25,
          0.2222222222222222,
          0.2,
          0.2,
          0.2222222222222222,
          0.25,
          0.2857142857142857,
          0.3333333333333333,
          0.4,
          0.5,
          0.6666666666666666
         ],
         "xaxis": "x",
         "y": [
          0.7973493765399969,
          0.8084616779107546,
          0.8109109545392501,
          0.8147241569443535,
          0.8124174567600416,
          0.8175813018738477,
          0.8175154525940426,
          0.8193605611033373,
          0.8017571629100434,
          0.8008046431591095,
          0.8002373972067046,
          0.7998095682247605,
          0.7979999352552254,
          0.7984195900721933,
          0.7978704837350307,
          0.7858091490818192
         ],
         "yaxis": "y"
        },
        {
         "hovertemplate": "model=Diffusion<br>test_size=%{x}<br>test_acc_avg=%{y}<extra></extra>",
         "legendgroup": "Diffusion",
         "line": {
          "color": "#636efa",
          "dash": "solid"
         },
         "marker": {
          "symbol": "circle"
         },
         "mode": "markers+lines",
         "name": "Diffusion",
         "orientation": "v",
         "showlegend": true,
         "type": "scatter",
         "x": [
          0.6666666666666666,
          0.5,
          0.4,
          0.3333333333333333,
          0.2857142857142857,
          0.25,
          0.2222222222222222,
          0.2
         ],
         "xaxis": "x",
         "y": [
          0.7915792628109081,
          0.8031660808228926,
          0.8046652723057217,
          0.8063620460997895,
          0.806113512492401,
          0.8089093495402762,
          0.809160047876576,
          0.8105588620066904
         ],
         "yaxis": "y"
        },
        {
         "fill": "toself",
         "fillcolor": "rgba(239,85,59,.3)",
         "hoverinfo": "skip",
         "legendgroup": "GAT",
         "line": {
          "color": "rgba(255,255,255,0)"
         },
         "showlegend": false,
         "type": "scatter",
         "x": [
          0.6666666666666666,
          0.5,
          0.4,
          0.3333333333333333,
          0.2857142857142857,
          0.25,
          0.2222222222222222,
          0.2,
          0.2,
          0.2222222222222222,
          0.25,
          0.2857142857142857,
          0.3333333333333333,
          0.4,
          0.5,
          0.6666666666666666
         ],
         "xaxis": "x",
         "y": [
          0.7771793147577089,
          0.7509070926192326,
          0.7681467702226163,
          0.7864383483812106,
          0.7670310976407992,
          0.7213588322093026,
          0.783641189423862,
          0.7642795842809887,
          0.653756731209146,
          0.6966268624863063,
          0.6364902034792407,
          0.6684565301921623,
          0.6936929283353833,
          0.5716507938446107,
          0.7082183604335076,
          0.5899168794286862
         ],
         "yaxis": "y"
        },
        {
         "hovertemplate": "model=GAT<br>test_size=%{x}<br>test_acc_avg=%{y}<extra></extra>",
         "legendgroup": "GAT",
         "line": {
          "color": "#EF553B",
          "dash": "solid"
         },
         "marker": {
          "symbol": "circle"
         },
         "mode": "markers+lines",
         "name": "GAT",
         "orientation": "v",
         "showlegend": true,
         "type": "scatter",
         "x": [
          0.6666666666666666,
          0.5,
          0.4,
          0.3333333333333333,
          0.2857142857142857,
          0.25,
          0.2222222222222222,
          0.2
         ],
         "xaxis": "x",
         "y": [
          0.6835480970931975,
          0.7295627265263701,
          0.6698987820336135,
          0.740065638358297,
          0.7177438139164808,
          0.6789245178442717,
          0.7401340259550842,
          0.7090181577450674
         ],
         "yaxis": "y"
        },
        {
         "fill": "toself",
         "fillcolor": "rgba(0,204,150,.3)",
         "hoverinfo": "skip",
         "legendgroup": "GCN",
         "line": {
          "color": "rgba(255,255,255,0)"
         },
         "showlegend": false,
         "type": "scatter",
         "x": [
          0.6666666666666666,
          0.5,
          0.4,
          0.3333333333333333,
          0.2857142857142857,
          0.25,
          0.2222222222222222,
          0.2,
          0.2,
          0.2222222222222222,
          0.25,
          0.2857142857142857,
          0.3333333333333333,
          0.4,
          0.5,
          0.6666666666666666
         ],
         "xaxis": "x",
         "y": [
          0.790020565783664,
          0.7894904609696255,
          0.8061217192267113,
          0.8058340173660545,
          0.8010209730967056,
          0.8017802957878316,
          0.8000597640333239,
          0.8070331421067506,
          0.7919085884875013,
          0.7822629714432218,
          0.7793769198359152,
          0.7842336185192981,
          0.7914090807218845,
          0.7871926152112186,
          0.7815151148901255,
          0.7703630122804656
         ],
         "yaxis": "y"
        },
        {
         "hovertemplate": "model=GCN<br>test_size=%{x}<br>test_acc_avg=%{y}<extra></extra>",
         "legendgroup": "GCN",
         "line": {
          "color": "#00cc96",
          "dash": "solid"
         },
         "marker": {
          "symbol": "circle"
         },
         "mode": "markers+lines",
         "name": "GCN",
         "orientation": "v",
         "showlegend": true,
         "type": "scatter",
         "x": [
          0.6666666666666666,
          0.5,
          0.4,
          0.3333333333333333,
          0.2857142857142857,
          0.25,
          0.2222222222222222,
          0.2
         ],
         "xaxis": "x",
         "y": [
          0.7801917890320648,
          0.7855027879298755,
          0.796657167218965,
          0.7986215490439695,
          0.7926272958080018,
          0.7905786078118734,
          0.7911613677382728,
          0.799470865297126
         ],
         "yaxis": "y"
        },
        {
         "fill": "toself",
         "fillcolor": "rgba(171,99,250,.3)",
         "hoverinfo": "skip",
         "legendgroup": "KNN",
         "line": {
          "color": "rgba(255,255,255,0)"
         },
         "showlegend": false,
         "type": "scatter",
         "x": [
          0.6666666666666666,
          0.5,
          0.4,
          0.3333333333333333,
          0.2857142857142857,
          0.25,
          0.2222222222222222,
          0.2,
          0.2,
          0.2222222222222222,
          0.25,
          0.2857142857142857,
          0.3333333333333333,
          0.4,
          0.5,
          0.6666666666666666
         ],
         "xaxis": "x",
         "y": [
          0.6082473224985413,
          0.64374060638338,
          0.6543381545061572,
          0.6667766746310245,
          0.6747113121839287,
          0.676412839695255,
          0.6804106011253872,
          0.6824605391136258,
          0.6657580919806918,
          0.6646114340443612,
          0.6626134496729116,
          0.659121963942252,
          0.6557676470013155,
          0.6483288913069561,
          0.6279591680730864,
          0.5919324797190194
         ],
         "yaxis": "y"
        },
        {
         "hovertemplate": "model=KNN<br>test_size=%{x}<br>test_acc_avg=%{y}<extra></extra>",
         "legendgroup": "KNN",
         "line": {
          "color": "#ab63fa",
          "dash": "solid"
         },
         "marker": {
          "symbol": "circle"
         },
         "mode": "markers+lines",
         "name": "KNN",
         "orientation": "v",
         "showlegend": true,
         "type": "scatter",
         "x": [
          0.6666666666666666,
          0.5,
          0.4,
          0.3333333333333333,
          0.2857142857142857,
          0.25,
          0.2222222222222222,
          0.2
         ],
         "xaxis": "x",
         "y": [
          0.6000899011087804,
          0.6358498872282332,
          0.6513335229065567,
          0.66127216081617,
          0.6669166380630903,
          0.6695131446840833,
          0.6725110175848742,
          0.6741093155471588
         ],
         "yaxis": "y"
        },
        {
         "fill": "toself",
         "fillcolor": "rgba(255,161,90,.3)",
         "hoverinfo": "skip",
         "legendgroup": "KNN_embedding_methodtrue",
         "line": {
          "color": "rgba(255,255,255,0)"
         },
         "showlegend": false,
         "type": "scatter",
         "x": [
          0.6666666666666666,
          0.5,
          0.4,
          0.3333333333333333,
          0.2857142857142857,
          0.25,
          0.2222222222222222,
          0.2,
          0.2,
          0.2222222222222222,
          0.25,
          0.2857142857142857,
          0.3333333333333333,
          0.4,
          0.5,
          0.6666666666666666
         ],
         "xaxis": "x",
         "y": [
          0.8150921483165032,
          0.8268306382402028,
          0.832471074790749,
          0.8346070022361541,
          0.8351426032371819,
          0.8405543182606354,
          0.8427406631829746,
          0.8419691851268452,
          0.8288935517368903,
          0.8281210904116159,
          0.8293081679481615,
          0.828127995440617,
          0.824268873495596,
          0.8260047564940712,
          0.8227545747888777,
          0.8102200083112061
         ],
         "yaxis": "y"
        },
        {
         "hovertemplate": "model=KNN_embedding_methodtrue<br>test_size=%{x}<br>test_acc_avg=%{y}<extra></extra>",
         "legendgroup": "KNN_embedding_methodtrue",
         "line": {
          "color": "#FFA15A",
          "dash": "solid"
         },
         "marker": {
          "symbol": "circle"
         },
         "mode": "markers+lines",
         "name": "KNN_embedding_methodtrue",
         "orientation": "v",
         "showlegend": true,
         "type": "scatter",
         "x": [
          0.6666666666666666,
          0.5,
          0.4,
          0.3333333333333333,
          0.2857142857142857,
          0.25,
          0.2222222222222222,
          0.2
         ],
         "xaxis": "x",
         "y": [
          0.8126560783138547,
          0.8247926065145402,
          0.8292379156424101,
          0.829437937865875,
          0.8316352993388995,
          0.8349312431043985,
          0.8354308767972952,
          0.8354313684318677
         ],
         "yaxis": "y"
        },
        {
         "fill": "toself",
         "fillcolor": "rgba(25,211,243,.3)",
         "hoverinfo": "skip",
         "legendgroup": "LabelPropagation",
         "line": {
          "color": "rgba(255,255,255,0)"
         },
         "showlegend": false,
         "type": "scatter",
         "x": [
          0.6666666666666666,
          0.5,
          0.4,
          0.3333333333333333,
          0.2857142857142857,
          0.25,
          0.2222222222222222,
          0.2,
          0.2,
          0.2222222222222222,
          0.25,
          0.2857142857142857,
          0.3333333333333333,
          0.4,
          0.5,
          0.6666666666666666
         ],
         "xaxis": "x",
         "y": [
          0.198967738028547,
          0.19899883481463448,
          0.19908472152980924,
          0.199674731932693,
          0.20132465937271116,
          0.20419401995242625,
          0.20686267175029308,
          0.21283389415836906,
          0.20270867610212429,
          0.19919076874836547,
          0.19946243161507593,
          0.1989347456752294,
          0.1985871139782079,
          0.19887751598299006,
          0.19876363044683198,
          0.19879472326403108
         ],
         "yaxis": "y"
        },
        {
         "hovertemplate": "model=LabelPropagation<br>test_size=%{x}<br>test_acc_avg=%{y}<extra></extra>",
         "legendgroup": "LabelPropagation",
         "line": {
          "color": "#19d3f3",
          "dash": "solid"
         },
         "marker": {
          "symbol": "circle"
         },
         "mode": "markers+lines",
         "name": "LabelPropagation",
         "orientation": "v",
         "showlegend": true,
         "type": "scatter",
         "x": [
          0.6666666666666666,
          0.5,
          0.4,
          0.3333333333333333,
          0.2857142857142857,
          0.25,
          0.2222222222222222,
          0.2
         ],
         "xaxis": "x",
         "y": [
          0.19888123064628904,
          0.19888123263073323,
          0.19898111875639965,
          0.19913092295545046,
          0.20012970252397028,
          0.2018282257837511,
          0.20302672024932927,
          0.20777128513024667
         ],
         "yaxis": "y"
        },
        {
         "fill": "toself",
         "fillcolor": "rgba(255,102,146,.3)",
         "hoverinfo": "skip",
         "legendgroup": "PageRank",
         "line": {
          "color": "rgba(255,255,255,0)"
         },
         "showlegend": false,
         "type": "scatter",
         "x": [
          0.6666666666666666,
          0.5,
          0.4,
          0.3333333333333333,
          0.2857142857142857,
          0.25,
          0.2222222222222222,
          0.2,
          0.2,
          0.2222222222222222,
          0.25,
          0.2857142857142857,
          0.3333333333333333,
          0.4,
          0.5,
          0.6666666666666666
         ],
         "xaxis": "x",
         "y": [
          0.7825565868450198,
          0.7924813316696455,
          0.7936960040577473,
          0.7979916078350056,
          0.7970550649286708,
          0.8014408127872826,
          0.8025044816105578,
          0.8037634244775088,
          0.783293253243173,
          0.7846535734852871,
          0.7862145984710379,
          0.7846067196341974,
          0.7861666922606136,
          0.787764857178395,
          0.7837843722628581,
          0.7795251232738495
         ],
         "yaxis": "y"
        },
        {
         "hovertemplate": "model=PageRank<br>test_size=%{x}<br>test_acc_avg=%{y}<extra></extra>",
         "legendgroup": "PageRank",
         "line": {
          "color": "#FF6692",
          "dash": "solid"
         },
         "marker": {
          "symbol": "circle"
         },
         "mode": "markers+lines",
         "name": "PageRank",
         "orientation": "v",
         "showlegend": true,
         "type": "scatter",
         "x": [
          0.6666666666666666,
          0.5,
          0.4,
          0.3333333333333333,
          0.2857142857142857,
          0.25,
          0.2222222222222222,
          0.2
         ],
         "xaxis": "x",
         "y": [
          0.7810408550594347,
          0.7881328519662518,
          0.7907304306180711,
          0.7920791500478096,
          0.7908308922814341,
          0.7938277056291603,
          0.7935790275479224,
          0.7935283388603409
         ],
         "yaxis": "y"
        }
       ],
       "layout": {
        "legend": {
         "title": {
          "text": "model"
         },
         "tracegroupgap": 0
        },
        "template": {
         "data": {
          "bar": [
           {
            "error_x": {
             "color": "#2a3f5f"
            },
            "error_y": {
             "color": "#2a3f5f"
            },
            "marker": {
             "line": {
              "color": "#E5ECF6",
              "width": 0.5
             },
             "pattern": {
              "fillmode": "overlay",
              "size": 10,
              "solidity": 0.2
             }
            },
            "type": "bar"
           }
          ],
          "barpolar": [
           {
            "marker": {
             "line": {
              "color": "#E5ECF6",
              "width": 0.5
             },
             "pattern": {
              "fillmode": "overlay",
              "size": 10,
              "solidity": 0.2
             }
            },
            "type": "barpolar"
           }
          ],
          "carpet": [
           {
            "aaxis": {
             "endlinecolor": "#2a3f5f",
             "gridcolor": "white",
             "linecolor": "white",
             "minorgridcolor": "white",
             "startlinecolor": "#2a3f5f"
            },
            "baxis": {
             "endlinecolor": "#2a3f5f",
             "gridcolor": "white",
             "linecolor": "white",
             "minorgridcolor": "white",
             "startlinecolor": "#2a3f5f"
            },
            "type": "carpet"
           }
          ],
          "choropleth": [
           {
            "colorbar": {
             "outlinewidth": 0,
             "ticks": ""
            },
            "type": "choropleth"
           }
          ],
          "contour": [
           {
            "colorbar": {
             "outlinewidth": 0,
             "ticks": ""
            },
            "colorscale": [
             [
              0,
              "#0d0887"
             ],
             [
              0.1111111111111111,
              "#46039f"
             ],
             [
              0.2222222222222222,
              "#7201a8"
             ],
             [
              0.3333333333333333,
              "#9c179e"
             ],
             [
              0.4444444444444444,
              "#bd3786"
             ],
             [
              0.5555555555555556,
              "#d8576b"
             ],
             [
              0.6666666666666666,
              "#ed7953"
             ],
             [
              0.7777777777777778,
              "#fb9f3a"
             ],
             [
              0.8888888888888888,
              "#fdca26"
             ],
             [
              1,
              "#f0f921"
             ]
            ],
            "type": "contour"
           }
          ],
          "contourcarpet": [
           {
            "colorbar": {
             "outlinewidth": 0,
             "ticks": ""
            },
            "type": "contourcarpet"
           }
          ],
          "heatmap": [
           {
            "colorbar": {
             "outlinewidth": 0,
             "ticks": ""
            },
            "colorscale": [
             [
              0,
              "#0d0887"
             ],
             [
              0.1111111111111111,
              "#46039f"
             ],
             [
              0.2222222222222222,
              "#7201a8"
             ],
             [
              0.3333333333333333,
              "#9c179e"
             ],
             [
              0.4444444444444444,
              "#bd3786"
             ],
             [
              0.5555555555555556,
              "#d8576b"
             ],
             [
              0.6666666666666666,
              "#ed7953"
             ],
             [
              0.7777777777777778,
              "#fb9f3a"
             ],
             [
              0.8888888888888888,
              "#fdca26"
             ],
             [
              1,
              "#f0f921"
             ]
            ],
            "type": "heatmap"
           }
          ],
          "heatmapgl": [
           {
            "colorbar": {
             "outlinewidth": 0,
             "ticks": ""
            },
            "colorscale": [
             [
              0,
              "#0d0887"
             ],
             [
              0.1111111111111111,
              "#46039f"
             ],
             [
              0.2222222222222222,
              "#7201a8"
             ],
             [
              0.3333333333333333,
              "#9c179e"
             ],
             [
              0.4444444444444444,
              "#bd3786"
             ],
             [
              0.5555555555555556,
              "#d8576b"
             ],
             [
              0.6666666666666666,
              "#ed7953"
             ],
             [
              0.7777777777777778,
              "#fb9f3a"
             ],
             [
              0.8888888888888888,
              "#fdca26"
             ],
             [
              1,
              "#f0f921"
             ]
            ],
            "type": "heatmapgl"
           }
          ],
          "histogram": [
           {
            "marker": {
             "pattern": {
              "fillmode": "overlay",
              "size": 10,
              "solidity": 0.2
             }
            },
            "type": "histogram"
           }
          ],
          "histogram2d": [
           {
            "colorbar": {
             "outlinewidth": 0,
             "ticks": ""
            },
            "colorscale": [
             [
              0,
              "#0d0887"
             ],
             [
              0.1111111111111111,
              "#46039f"
             ],
             [
              0.2222222222222222,
              "#7201a8"
             ],
             [
              0.3333333333333333,
              "#9c179e"
             ],
             [
              0.4444444444444444,
              "#bd3786"
             ],
             [
              0.5555555555555556,
              "#d8576b"
             ],
             [
              0.6666666666666666,
              "#ed7953"
             ],
             [
              0.7777777777777778,
              "#fb9f3a"
             ],
             [
              0.8888888888888888,
              "#fdca26"
             ],
             [
              1,
              "#f0f921"
             ]
            ],
            "type": "histogram2d"
           }
          ],
          "histogram2dcontour": [
           {
            "colorbar": {
             "outlinewidth": 0,
             "ticks": ""
            },
            "colorscale": [
             [
              0,
              "#0d0887"
             ],
             [
              0.1111111111111111,
              "#46039f"
             ],
             [
              0.2222222222222222,
              "#7201a8"
             ],
             [
              0.3333333333333333,
              "#9c179e"
             ],
             [
              0.4444444444444444,
              "#bd3786"
             ],
             [
              0.5555555555555556,
              "#d8576b"
             ],
             [
              0.6666666666666666,
              "#ed7953"
             ],
             [
              0.7777777777777778,
              "#fb9f3a"
             ],
             [
              0.8888888888888888,
              "#fdca26"
             ],
             [
              1,
              "#f0f921"
             ]
            ],
            "type": "histogram2dcontour"
           }
          ],
          "mesh3d": [
           {
            "colorbar": {
             "outlinewidth": 0,
             "ticks": ""
            },
            "type": "mesh3d"
           }
          ],
          "parcoords": [
           {
            "line": {
             "colorbar": {
              "outlinewidth": 0,
              "ticks": ""
             }
            },
            "type": "parcoords"
           }
          ],
          "pie": [
           {
            "automargin": true,
            "type": "pie"
           }
          ],
          "scatter": [
           {
            "fillpattern": {
             "fillmode": "overlay",
             "size": 10,
             "solidity": 0.2
            },
            "type": "scatter"
           }
          ],
          "scatter3d": [
           {
            "line": {
             "colorbar": {
              "outlinewidth": 0,
              "ticks": ""
             }
            },
            "marker": {
             "colorbar": {
              "outlinewidth": 0,
              "ticks": ""
             }
            },
            "type": "scatter3d"
           }
          ],
          "scattercarpet": [
           {
            "marker": {
             "colorbar": {
              "outlinewidth": 0,
              "ticks": ""
             }
            },
            "type": "scattercarpet"
           }
          ],
          "scattergeo": [
           {
            "marker": {
             "colorbar": {
              "outlinewidth": 0,
              "ticks": ""
             }
            },
            "type": "scattergeo"
           }
          ],
          "scattergl": [
           {
            "marker": {
             "colorbar": {
              "outlinewidth": 0,
              "ticks": ""
             }
            },
            "type": "scattergl"
           }
          ],
          "scattermapbox": [
           {
            "marker": {
             "colorbar": {
              "outlinewidth": 0,
              "ticks": ""
             }
            },
            "type": "scattermapbox"
           }
          ],
          "scatterpolar": [
           {
            "marker": {
             "colorbar": {
              "outlinewidth": 0,
              "ticks": ""
             }
            },
            "type": "scatterpolar"
           }
          ],
          "scatterpolargl": [
           {
            "marker": {
             "colorbar": {
              "outlinewidth": 0,
              "ticks": ""
             }
            },
            "type": "scatterpolargl"
           }
          ],
          "scatterternary": [
           {
            "marker": {
             "colorbar": {
              "outlinewidth": 0,
              "ticks": ""
             }
            },
            "type": "scatterternary"
           }
          ],
          "surface": [
           {
            "colorbar": {
             "outlinewidth": 0,
             "ticks": ""
            },
            "colorscale": [
             [
              0,
              "#0d0887"
             ],
             [
              0.1111111111111111,
              "#46039f"
             ],
             [
              0.2222222222222222,
              "#7201a8"
             ],
             [
              0.3333333333333333,
              "#9c179e"
             ],
             [
              0.4444444444444444,
              "#bd3786"
             ],
             [
              0.5555555555555556,
              "#d8576b"
             ],
             [
              0.6666666666666666,
              "#ed7953"
             ],
             [
              0.7777777777777778,
              "#fb9f3a"
             ],
             [
              0.8888888888888888,
              "#fdca26"
             ],
             [
              1,
              "#f0f921"
             ]
            ],
            "type": "surface"
           }
          ],
          "table": [
           {
            "cells": {
             "fill": {
              "color": "#EBF0F8"
             },
             "line": {
              "color": "white"
             }
            },
            "header": {
             "fill": {
              "color": "#C8D4E3"
             },
             "line": {
              "color": "white"
             }
            },
            "type": "table"
           }
          ]
         },
         "layout": {
          "annotationdefaults": {
           "arrowcolor": "#2a3f5f",
           "arrowhead": 0,
           "arrowwidth": 1
          },
          "autotypenumbers": "strict",
          "coloraxis": {
           "colorbar": {
            "outlinewidth": 0,
            "ticks": ""
           }
          },
          "colorscale": {
           "diverging": [
            [
             0,
             "#8e0152"
            ],
            [
             0.1,
             "#c51b7d"
            ],
            [
             0.2,
             "#de77ae"
            ],
            [
             0.3,
             "#f1b6da"
            ],
            [
             0.4,
             "#fde0ef"
            ],
            [
             0.5,
             "#f7f7f7"
            ],
            [
             0.6,
             "#e6f5d0"
            ],
            [
             0.7,
             "#b8e186"
            ],
            [
             0.8,
             "#7fbc41"
            ],
            [
             0.9,
             "#4d9221"
            ],
            [
             1,
             "#276419"
            ]
           ],
           "sequential": [
            [
             0,
             "#0d0887"
            ],
            [
             0.1111111111111111,
             "#46039f"
            ],
            [
             0.2222222222222222,
             "#7201a8"
            ],
            [
             0.3333333333333333,
             "#9c179e"
            ],
            [
             0.4444444444444444,
             "#bd3786"
            ],
            [
             0.5555555555555556,
             "#d8576b"
            ],
            [
             0.6666666666666666,
             "#ed7953"
            ],
            [
             0.7777777777777778,
             "#fb9f3a"
            ],
            [
             0.8888888888888888,
             "#fdca26"
            ],
            [
             1,
             "#f0f921"
            ]
           ],
           "sequentialminus": [
            [
             0,
             "#0d0887"
            ],
            [
             0.1111111111111111,
             "#46039f"
            ],
            [
             0.2222222222222222,
             "#7201a8"
            ],
            [
             0.3333333333333333,
             "#9c179e"
            ],
            [
             0.4444444444444444,
             "#bd3786"
            ],
            [
             0.5555555555555556,
             "#d8576b"
            ],
            [
             0.6666666666666666,
             "#ed7953"
            ],
            [
             0.7777777777777778,
             "#fb9f3a"
            ],
            [
             0.8888888888888888,
             "#fdca26"
            ],
            [
             1,
             "#f0f921"
            ]
           ]
          },
          "colorway": [
           "#636efa",
           "#EF553B",
           "#00cc96",
           "#ab63fa",
           "#FFA15A",
           "#19d3f3",
           "#FF6692",
           "#B6E880",
           "#FF97FF",
           "#FECB52"
          ],
          "font": {
           "color": "#2a3f5f"
          },
          "geo": {
           "bgcolor": "white",
           "lakecolor": "white",
           "landcolor": "#E5ECF6",
           "showlakes": true,
           "showland": true,
           "subunitcolor": "white"
          },
          "hoverlabel": {
           "align": "left"
          },
          "hovermode": "closest",
          "mapbox": {
           "style": "light"
          },
          "paper_bgcolor": "white",
          "plot_bgcolor": "#E5ECF6",
          "polar": {
           "angularaxis": {
            "gridcolor": "white",
            "linecolor": "white",
            "ticks": ""
           },
           "bgcolor": "#E5ECF6",
           "radialaxis": {
            "gridcolor": "white",
            "linecolor": "white",
            "ticks": ""
           }
          },
          "scene": {
           "xaxis": {
            "backgroundcolor": "#E5ECF6",
            "gridcolor": "white",
            "gridwidth": 2,
            "linecolor": "white",
            "showbackground": true,
            "ticks": "",
            "zerolinecolor": "white"
           },
           "yaxis": {
            "backgroundcolor": "#E5ECF6",
            "gridcolor": "white",
            "gridwidth": 2,
            "linecolor": "white",
            "showbackground": true,
            "ticks": "",
            "zerolinecolor": "white"
           },
           "zaxis": {
            "backgroundcolor": "#E5ECF6",
            "gridcolor": "white",
            "gridwidth": 2,
            "linecolor": "white",
            "showbackground": true,
            "ticks": "",
            "zerolinecolor": "white"
           }
          },
          "shapedefaults": {
           "line": {
            "color": "#2a3f5f"
           }
          },
          "ternary": {
           "aaxis": {
            "gridcolor": "white",
            "linecolor": "white",
            "ticks": ""
           },
           "baxis": {
            "gridcolor": "white",
            "linecolor": "white",
            "ticks": ""
           },
           "bgcolor": "#E5ECF6",
           "caxis": {
            "gridcolor": "white",
            "linecolor": "white",
            "ticks": ""
           }
          },
          "title": {
           "x": 0.05
          },
          "xaxis": {
           "automargin": true,
           "gridcolor": "white",
           "linecolor": "white",
           "ticks": "",
           "title": {
            "standoff": 15
           },
           "zerolinecolor": "white",
           "zerolinewidth": 2
          },
          "yaxis": {
           "automargin": true,
           "gridcolor": "white",
           "linecolor": "white",
           "ticks": "",
           "title": {
            "standoff": 15
           },
           "zerolinecolor": "white",
           "zerolinewidth": 2
          }
         }
        },
        "title": {
         "text": "Test accuracy"
        },
        "xaxis": {
         "anchor": "y",
         "domain": [
          0,
          1
         ],
         "title": {
          "text": "test_size"
         }
        },
        "yaxis": {
         "anchor": "x",
         "domain": [
          0,
          1
         ],
         "title": {
          "text": "test_acc_avg"
         }
        }
       }
      }
     },
     "metadata": {},
     "output_type": "display_data"
    }
   ],
   "source": [
    "# Compute average and standard deviation according to values of k\n",
    "grouped = df_tot.groupby(['dataset', 'model', 'k', 'train_size', 'test_size'])[['train_acc', 'test_acc']].agg({'train_acc': ['mean', 'std'], 'test_acc': ['mean', 'std']}).reset_index()\n",
    "grouped.columns = ['dataset', 'model', 'k', 'train_size', 'test_size', 'train_acc_avg', 'train_acc_std', 'test_acc_avg', 'test_acc_std', ]\n",
    "grouped\n",
    "\n",
    "# Test split\n",
    "for error_y_mode in {'band'}:\n",
    "    fig = line(\n",
    "        data_frame = grouped[grouped['dataset']=='wikivitals'],\n",
    "        x = 'test_size',\n",
    "        y = 'test_acc_avg',\n",
    "        error_y = 'test_acc_std',\n",
    "        error_y_mode = error_y_mode,\n",
    "        color = 'model',\n",
    "        title = f'Test accuracy',\n",
    "        markers = '.',\n",
    "    )\n",
    "    fig.show()"
   ]
  },
  {
   "attachments": {},
   "cell_type": "markdown",
   "metadata": {},
   "source": [
    "`Wikivitals-fr`"
   ]
  },
  {
   "cell_type": "code",
   "execution_count": 49,
   "metadata": {},
   "outputs": [
    {
     "data": {
      "application/vnd.plotly.v1+json": {
       "config": {
        "plotlyServerURL": "https://plot.ly"
       },
       "data": [
        {
         "fill": "toself",
         "fillcolor": "rgba(99,110,250,.3)",
         "hoverinfo": "skip",
         "legendgroup": "Diffusion",
         "line": {
          "color": "rgba(255,255,255,0)"
         },
         "showlegend": false,
         "type": "scatter",
         "x": [
          0.6666666666666666,
          0.5,
          0.4,
          0.3333333333333333,
          0.2857142857142857,
          0.25,
          0.2222222222222222,
          0.2,
          0.2,
          0.2222222222222222,
          0.25,
          0.2857142857142857,
          0.3333333333333333,
          0.4,
          0.5,
          0.6666666666666666
         ],
         "xaxis": "x",
         "y": [
          0.7748812880012864,
          0.7769282832299075,
          0.7796496610959112,
          0.7876651423941008,
          0.7859485910959622,
          0.7888525950666874,
          0.792571635515003,
          0.7918042760982806,
          0.7751101970903971,
          0.7740447546307989,
          0.7727362105681488,
          0.7736286985249988,
          0.768491369154354,
          0.7725876440825705,
          0.7635432801067202,
          0.7462851272827759
         ],
         "yaxis": "y"
        },
        {
         "hovertemplate": "model=Diffusion<br>test_size=%{x}<br>test_acc_avg=%{y}<extra></extra>",
         "legendgroup": "Diffusion",
         "line": {
          "color": "#636efa",
          "dash": "solid"
         },
         "marker": {
          "symbol": "circle"
         },
         "mode": "markers+lines",
         "name": "Diffusion",
         "orientation": "v",
         "showlegend": true,
         "type": "scatter",
         "x": [
          0.6666666666666666,
          0.5,
          0.4,
          0.3333333333333333,
          0.2857142857142857,
          0.25,
          0.2222222222222222,
          0.2
         ],
         "xaxis": "x",
         "y": [
          0.7605832076420311,
          0.7702357816683139,
          0.7761186525892408,
          0.7780782557742274,
          0.7797886448104805,
          0.7807944028174181,
          0.783308195072901,
          0.7834572365943389
         ],
         "yaxis": "y"
        },
        {
         "fill": "toself",
         "fillcolor": "rgba(239,85,59,.3)",
         "hoverinfo": "skip",
         "legendgroup": "GAT",
         "line": {
          "color": "rgba(255,255,255,0)"
         },
         "showlegend": false,
         "type": "scatter",
         "x": [
          0.2222222222222222,
          0.2222222222222222
         ],
         "xaxis": "x",
         "y": [
          0.7288996329414893,
          0.7094110759574549
         ],
         "yaxis": "y"
        },
        {
         "hovertemplate": "model=GAT<br>test_size=%{x}<br>test_acc_avg=%{y}<extra></extra>",
         "legendgroup": "GAT",
         "line": {
          "color": "#EF553B",
          "dash": "solid"
         },
         "marker": {
          "symbol": "circle"
         },
         "mode": "markers+lines",
         "name": "GAT",
         "orientation": "v",
         "showlegend": true,
         "type": "scatter",
         "x": [
          0.2222222222222222
         ],
         "xaxis": "x",
         "y": [
          0.7191553544494721
         ],
         "yaxis": "y"
        },
        {
         "fill": "toself",
         "fillcolor": "rgba(0,204,150,.3)",
         "hoverinfo": "skip",
         "legendgroup": "GCN",
         "line": {
          "color": "rgba(255,255,255,0)"
         },
         "showlegend": false,
         "type": "scatter",
         "x": [
          0.6666666666666666,
          0.2222222222222222,
          0.2222222222222222,
          0.6666666666666666
         ],
         "xaxis": "x",
         "y": [
          0.7259856164864629,
          0.7519369168760753,
          0.7146962321100147,
          0.7135652465938123
         ],
         "yaxis": "y"
        },
        {
         "hovertemplate": "model=GCN<br>test_size=%{x}<br>test_acc_avg=%{y}<extra></extra>",
         "legendgroup": "GCN",
         "line": {
          "color": "#00cc96",
          "dash": "solid"
         },
         "marker": {
          "symbol": "circle"
         },
         "mode": "markers+lines",
         "name": "GCN",
         "orientation": "v",
         "showlegend": true,
         "type": "scatter",
         "x": [
          0.6666666666666666,
          0.2222222222222222
         ],
         "xaxis": "x",
         "y": [
          0.7197754315401376,
          0.733316574493045
         ],
         "yaxis": "y"
        },
        {
         "fill": "toself",
         "fillcolor": "rgba(171,99,250,.3)",
         "hoverinfo": "skip",
         "legendgroup": "GraphSage",
         "line": {
          "color": "rgba(255,255,255,0)"
         },
         "showlegend": false,
         "type": "scatter",
         "x": [
          0.2222222222222222,
          0.2222222222222222
         ],
         "xaxis": "x",
         "y": [
          0.5849137426352485,
          0.49532758466490223
         ],
         "yaxis": "y"
        },
        {
         "hovertemplate": "model=GraphSage<br>test_size=%{x}<br>test_acc_avg=%{y}<extra></extra>",
         "legendgroup": "GraphSage",
         "line": {
          "color": "#ab63fa",
          "dash": "solid"
         },
         "marker": {
          "symbol": "circle"
         },
         "mode": "markers+lines",
         "name": "GraphSage",
         "orientation": "v",
         "showlegend": true,
         "type": "scatter",
         "x": [
          0.2222222222222222
         ],
         "xaxis": "x",
         "y": [
          0.5401206636500754
         ],
         "yaxis": "y"
        },
        {
         "fill": "toself",
         "fillcolor": "rgba(255,161,90,.3)",
         "hoverinfo": "skip",
         "legendgroup": "KNN",
         "line": {
          "color": "rgba(255,255,255,0)"
         },
         "showlegend": false,
         "type": "scatter",
         "x": [
          0.6666666666666666,
          0.5,
          0.4,
          0.3333333333333333,
          0.2857142857142857,
          0.25,
          0.2222222222222222,
          0.2,
          0.2,
          0.2222222222222222,
          0.25,
          0.2857142857142857,
          0.3333333333333333,
          0.4,
          0.5,
          0.6666666666666666
         ],
         "xaxis": "x",
         "y": [
          0.47424713773960325,
          0.4926444666141926,
          0.5051994288909635,
          0.5114154657010637,
          0.5195561385546049,
          0.5218269442124539,
          0.5273749354753139,
          0.5279968577566451,
          0.5093057490750904,
          0.5083213943386629,
          0.5054204542466614,
          0.5039727183498365,
          0.5038675358283982,
          0.49178397985715117,
          0.4802054838585047,
          0.44782425492002464
         ],
         "yaxis": "y"
        },
        {
         "hovertemplate": "model=KNN<br>test_size=%{x}<br>test_acc_avg=%{y}<extra></extra>",
         "legendgroup": "KNN",
         "line": {
          "color": "#FFA15A",
          "dash": "solid"
         },
         "marker": {
          "symbol": "circle"
         },
         "mode": "markers+lines",
         "name": "KNN",
         "orientation": "v",
         "showlegend": true,
         "type": "scatter",
         "x": [
          0.6666666666666666,
          0.5,
          0.4,
          0.3333333333333333,
          0.2857142857142857,
          0.25,
          0.2222222222222222,
          0.2
         ],
         "xaxis": "x",
         "y": [
          0.46103569632981395,
          0.48642497523634864,
          0.4984917043740573,
          0.5076415007647309,
          0.5117644284522207,
          0.5136236992295576,
          0.5178481649069884,
          0.5186513034158677
         ],
         "yaxis": "y"
        },
        {
         "fill": "toself",
         "fillcolor": "rgba(25,211,243,.3)",
         "hoverinfo": "skip",
         "legendgroup": "KNN_embedding_methodtrue",
         "line": {
          "color": "rgba(255,255,255,0)"
         },
         "showlegend": false,
         "type": "scatter",
         "x": [
          0.6666666666666666,
          0.5,
          0.4,
          0.3333333333333333,
          0.2857142857142857,
          0.25,
          0.2222222222222222,
          0.2,
          0.2,
          0.2222222222222222,
          0.25,
          0.2857142857142857,
          0.3333333333333333,
          0.4,
          0.5,
          0.6666666666666666
         ],
         "xaxis": "x",
         "y": [
          0.7990155610296543,
          0.8072914726452824,
          0.8139336560888711,
          0.8167129525722018,
          0.8188714212430667,
          0.8208801474868007,
          0.8220091273420073,
          0.8218202278708485,
          0.8130021078427286,
          0.8124805659712157,
          0.8106927686036597,
          0.8105560717954353,
          0.807821117271153,
          0.8090929904671874,
          0.8036687746369442,
          0.7932418547571731
         ],
         "yaxis": "y"
        },
        {
         "hovertemplate": "model=KNN_embedding_methodtrue<br>test_size=%{x}<br>test_acc_avg=%{y}<extra></extra>",
         "legendgroup": "KNN_embedding_methodtrue",
         "line": {
          "color": "#19d3f3",
          "dash": "solid"
         },
         "marker": {
          "symbol": "circle"
         },
         "mode": "markers+lines",
         "name": "KNN_embedding_methodtrue",
         "orientation": "v",
         "showlegend": true,
         "type": "scatter",
         "x": [
          0.6666666666666666,
          0.5,
          0.4,
          0.3333333333333333,
          0.2857142857142857,
          0.25,
          0.2222222222222222,
          0.2
         ],
         "xaxis": "x",
         "y": [
          0.7961287078934137,
          0.8054801236411133,
          0.8115133232780293,
          0.8122670349216774,
          0.814713746519251,
          0.8157864580452302,
          0.8172448466566115,
          0.8174111678567886
         ],
         "yaxis": "y"
        },
        {
         "fill": "toself",
         "fillcolor": "rgba(255,102,146,.3)",
         "hoverinfo": "skip",
         "legendgroup": "LabelPropagation",
         "line": {
          "color": "rgba(255,255,255,0)"
         },
         "showlegend": false,
         "type": "scatter",
         "x": [
          0.6666666666666666,
          0.5,
          0.4,
          0.3333333333333333,
          0.2857142857142857,
          0.25,
          0.2222222222222222,
          0.2,
          0.2,
          0.2222222222222222,
          0.25,
          0.2857142857142857,
          0.3333333333333333,
          0.4,
          0.5,
          0.6666666666666666
         ],
         "xaxis": "x",
         "y": [
          0.2014873089841607,
          0.2039825282975747,
          0.2074472040518709,
          0.2172834851442684,
          0.22044126428267033,
          0.23407374291572292,
          0.24386539498829488,
          0.25475889287080794,
          0.21350195329742938,
          0.21043324754564172,
          0.20514118840372714,
          0.20238186698505958,
          0.2017184564358215,
          0.20039593320303112,
          0.20054249411225575,
          0.20102651705907718
         ],
         "yaxis": "y"
        },
        {
         "hovertemplate": "model=LabelPropagation<br>test_size=%{x}<br>test_acc_avg=%{y}<extra></extra>",
         "legendgroup": "LabelPropagation",
         "line": {
          "color": "#FF6692",
          "dash": "solid"
         },
         "marker": {
          "symbol": "circle"
         },
         "mode": "markers+lines",
         "name": "LabelPropagation",
         "orientation": "v",
         "showlegend": true,
         "type": "scatter",
         "x": [
          0.6666666666666666,
          0.5,
          0.4,
          0.3333333333333333,
          0.2857142857142857,
          0.25,
          0.2222222222222222,
          0.2
         ],
         "xaxis": "x",
         "y": [
          0.20125691302161894,
          0.20226251120491523,
          0.203921568627451,
          0.20950097079004495,
          0.21141156563386496,
          0.21960746565972503,
          0.2271493212669683,
          0.23413042308411866
         ],
         "yaxis": "y"
        },
        {
         "fill": "toself",
         "fillcolor": "rgba(182,232,128,.3)",
         "hoverinfo": "skip",
         "legendgroup": "PageRank",
         "line": {
          "color": "rgba(255,255,255,0)"
         },
         "showlegend": false,
         "type": "scatter",
         "x": [
          0.6666666666666666,
          0.5,
          0.4,
          0.3333333333333333,
          0.2857142857142857,
          0.25,
          0.2222222222222222,
          0.2,
          0.2,
          0.2222222222222222,
          0.25,
          0.2857142857142857,
          0.3333333333333333,
          0.4,
          0.5,
          0.6666666666666666
         ],
         "xaxis": "x",
         "y": [
          0.771848737970233,
          0.7841678518184149,
          0.7879332421831626,
          0.7903238023154556,
          0.7964621804104556,
          0.7966985907888096,
          0.7967512556385001,
          0.7976432700890864,
          0.7838548849329431,
          0.784244219474622,
          0.7835919691979405,
          0.7802107856273809,
          0.7841352441533943,
          0.7814986331310656,
          0.7775211416344042,
          0.7633951031559609
         ],
         "yaxis": "y"
        },
        {
         "hovertemplate": "model=PageRank<br>test_size=%{x}<br>test_acc_avg=%{y}<extra></extra>",
         "legendgroup": "PageRank",
         "line": {
          "color": "#B6E880",
          "dash": "solid"
         },
         "marker": {
          "symbol": "circle"
         },
         "mode": "markers+lines",
         "name": "PageRank",
         "orientation": "v",
         "showlegend": true,
         "type": "scatter",
         "x": [
          0.6666666666666666,
          0.5,
          0.4,
          0.3333333333333333,
          0.2857142857142857,
          0.25,
          0.2222222222222222,
          0.2
         ],
         "xaxis": "x",
         "y": [
          0.767621920563097,
          0.7808444967264095,
          0.7847159376571141,
          0.787229523234425,
          0.7883364830189182,
          0.790145279993375,
          0.790497737556561,
          0.7907490775110148
         ],
         "yaxis": "y"
        },
        {
         "fill": "toself",
         "fillcolor": "rgba(255,151,255,.3)",
         "hoverinfo": "skip",
         "legendgroup": "SGC",
         "line": {
          "color": "rgba(255,255,255,0)"
         },
         "showlegend": false,
         "type": "scatter",
         "x": [
          0.2222222222222222,
          0.2222222222222222
         ],
         "xaxis": "x",
         "y": [
          0.5535551915593463,
          0.4742309656385756
         ],
         "yaxis": "y"
        },
        {
         "hovertemplate": "model=SGC<br>test_size=%{x}<br>test_acc_avg=%{y}<extra></extra>",
         "legendgroup": "SGC",
         "line": {
          "color": "#FF97FF",
          "dash": "solid"
         },
         "marker": {
          "symbol": "circle"
         },
         "mode": "markers+lines",
         "name": "SGC",
         "orientation": "v",
         "showlegend": true,
         "type": "scatter",
         "x": [
          0.2222222222222222
         ],
         "xaxis": "x",
         "y": [
          0.5138930785989609
         ],
         "yaxis": "y"
        }
       ],
       "layout": {
        "legend": {
         "title": {
          "text": "model"
         },
         "tracegroupgap": 0
        },
        "template": {
         "data": {
          "bar": [
           {
            "error_x": {
             "color": "#2a3f5f"
            },
            "error_y": {
             "color": "#2a3f5f"
            },
            "marker": {
             "line": {
              "color": "#E5ECF6",
              "width": 0.5
             },
             "pattern": {
              "fillmode": "overlay",
              "size": 10,
              "solidity": 0.2
             }
            },
            "type": "bar"
           }
          ],
          "barpolar": [
           {
            "marker": {
             "line": {
              "color": "#E5ECF6",
              "width": 0.5
             },
             "pattern": {
              "fillmode": "overlay",
              "size": 10,
              "solidity": 0.2
             }
            },
            "type": "barpolar"
           }
          ],
          "carpet": [
           {
            "aaxis": {
             "endlinecolor": "#2a3f5f",
             "gridcolor": "white",
             "linecolor": "white",
             "minorgridcolor": "white",
             "startlinecolor": "#2a3f5f"
            },
            "baxis": {
             "endlinecolor": "#2a3f5f",
             "gridcolor": "white",
             "linecolor": "white",
             "minorgridcolor": "white",
             "startlinecolor": "#2a3f5f"
            },
            "type": "carpet"
           }
          ],
          "choropleth": [
           {
            "colorbar": {
             "outlinewidth": 0,
             "ticks": ""
            },
            "type": "choropleth"
           }
          ],
          "contour": [
           {
            "colorbar": {
             "outlinewidth": 0,
             "ticks": ""
            },
            "colorscale": [
             [
              0,
              "#0d0887"
             ],
             [
              0.1111111111111111,
              "#46039f"
             ],
             [
              0.2222222222222222,
              "#7201a8"
             ],
             [
              0.3333333333333333,
              "#9c179e"
             ],
             [
              0.4444444444444444,
              "#bd3786"
             ],
             [
              0.5555555555555556,
              "#d8576b"
             ],
             [
              0.6666666666666666,
              "#ed7953"
             ],
             [
              0.7777777777777778,
              "#fb9f3a"
             ],
             [
              0.8888888888888888,
              "#fdca26"
             ],
             [
              1,
              "#f0f921"
             ]
            ],
            "type": "contour"
           }
          ],
          "contourcarpet": [
           {
            "colorbar": {
             "outlinewidth": 0,
             "ticks": ""
            },
            "type": "contourcarpet"
           }
          ],
          "heatmap": [
           {
            "colorbar": {
             "outlinewidth": 0,
             "ticks": ""
            },
            "colorscale": [
             [
              0,
              "#0d0887"
             ],
             [
              0.1111111111111111,
              "#46039f"
             ],
             [
              0.2222222222222222,
              "#7201a8"
             ],
             [
              0.3333333333333333,
              "#9c179e"
             ],
             [
              0.4444444444444444,
              "#bd3786"
             ],
             [
              0.5555555555555556,
              "#d8576b"
             ],
             [
              0.6666666666666666,
              "#ed7953"
             ],
             [
              0.7777777777777778,
              "#fb9f3a"
             ],
             [
              0.8888888888888888,
              "#fdca26"
             ],
             [
              1,
              "#f0f921"
             ]
            ],
            "type": "heatmap"
           }
          ],
          "heatmapgl": [
           {
            "colorbar": {
             "outlinewidth": 0,
             "ticks": ""
            },
            "colorscale": [
             [
              0,
              "#0d0887"
             ],
             [
              0.1111111111111111,
              "#46039f"
             ],
             [
              0.2222222222222222,
              "#7201a8"
             ],
             [
              0.3333333333333333,
              "#9c179e"
             ],
             [
              0.4444444444444444,
              "#bd3786"
             ],
             [
              0.5555555555555556,
              "#d8576b"
             ],
             [
              0.6666666666666666,
              "#ed7953"
             ],
             [
              0.7777777777777778,
              "#fb9f3a"
             ],
             [
              0.8888888888888888,
              "#fdca26"
             ],
             [
              1,
              "#f0f921"
             ]
            ],
            "type": "heatmapgl"
           }
          ],
          "histogram": [
           {
            "marker": {
             "pattern": {
              "fillmode": "overlay",
              "size": 10,
              "solidity": 0.2
             }
            },
            "type": "histogram"
           }
          ],
          "histogram2d": [
           {
            "colorbar": {
             "outlinewidth": 0,
             "ticks": ""
            },
            "colorscale": [
             [
              0,
              "#0d0887"
             ],
             [
              0.1111111111111111,
              "#46039f"
             ],
             [
              0.2222222222222222,
              "#7201a8"
             ],
             [
              0.3333333333333333,
              "#9c179e"
             ],
             [
              0.4444444444444444,
              "#bd3786"
             ],
             [
              0.5555555555555556,
              "#d8576b"
             ],
             [
              0.6666666666666666,
              "#ed7953"
             ],
             [
              0.7777777777777778,
              "#fb9f3a"
             ],
             [
              0.8888888888888888,
              "#fdca26"
             ],
             [
              1,
              "#f0f921"
             ]
            ],
            "type": "histogram2d"
           }
          ],
          "histogram2dcontour": [
           {
            "colorbar": {
             "outlinewidth": 0,
             "ticks": ""
            },
            "colorscale": [
             [
              0,
              "#0d0887"
             ],
             [
              0.1111111111111111,
              "#46039f"
             ],
             [
              0.2222222222222222,
              "#7201a8"
             ],
             [
              0.3333333333333333,
              "#9c179e"
             ],
             [
              0.4444444444444444,
              "#bd3786"
             ],
             [
              0.5555555555555556,
              "#d8576b"
             ],
             [
              0.6666666666666666,
              "#ed7953"
             ],
             [
              0.7777777777777778,
              "#fb9f3a"
             ],
             [
              0.8888888888888888,
              "#fdca26"
             ],
             [
              1,
              "#f0f921"
             ]
            ],
            "type": "histogram2dcontour"
           }
          ],
          "mesh3d": [
           {
            "colorbar": {
             "outlinewidth": 0,
             "ticks": ""
            },
            "type": "mesh3d"
           }
          ],
          "parcoords": [
           {
            "line": {
             "colorbar": {
              "outlinewidth": 0,
              "ticks": ""
             }
            },
            "type": "parcoords"
           }
          ],
          "pie": [
           {
            "automargin": true,
            "type": "pie"
           }
          ],
          "scatter": [
           {
            "fillpattern": {
             "fillmode": "overlay",
             "size": 10,
             "solidity": 0.2
            },
            "type": "scatter"
           }
          ],
          "scatter3d": [
           {
            "line": {
             "colorbar": {
              "outlinewidth": 0,
              "ticks": ""
             }
            },
            "marker": {
             "colorbar": {
              "outlinewidth": 0,
              "ticks": ""
             }
            },
            "type": "scatter3d"
           }
          ],
          "scattercarpet": [
           {
            "marker": {
             "colorbar": {
              "outlinewidth": 0,
              "ticks": ""
             }
            },
            "type": "scattercarpet"
           }
          ],
          "scattergeo": [
           {
            "marker": {
             "colorbar": {
              "outlinewidth": 0,
              "ticks": ""
             }
            },
            "type": "scattergeo"
           }
          ],
          "scattergl": [
           {
            "marker": {
             "colorbar": {
              "outlinewidth": 0,
              "ticks": ""
             }
            },
            "type": "scattergl"
           }
          ],
          "scattermapbox": [
           {
            "marker": {
             "colorbar": {
              "outlinewidth": 0,
              "ticks": ""
             }
            },
            "type": "scattermapbox"
           }
          ],
          "scatterpolar": [
           {
            "marker": {
             "colorbar": {
              "outlinewidth": 0,
              "ticks": ""
             }
            },
            "type": "scatterpolar"
           }
          ],
          "scatterpolargl": [
           {
            "marker": {
             "colorbar": {
              "outlinewidth": 0,
              "ticks": ""
             }
            },
            "type": "scatterpolargl"
           }
          ],
          "scatterternary": [
           {
            "marker": {
             "colorbar": {
              "outlinewidth": 0,
              "ticks": ""
             }
            },
            "type": "scatterternary"
           }
          ],
          "surface": [
           {
            "colorbar": {
             "outlinewidth": 0,
             "ticks": ""
            },
            "colorscale": [
             [
              0,
              "#0d0887"
             ],
             [
              0.1111111111111111,
              "#46039f"
             ],
             [
              0.2222222222222222,
              "#7201a8"
             ],
             [
              0.3333333333333333,
              "#9c179e"
             ],
             [
              0.4444444444444444,
              "#bd3786"
             ],
             [
              0.5555555555555556,
              "#d8576b"
             ],
             [
              0.6666666666666666,
              "#ed7953"
             ],
             [
              0.7777777777777778,
              "#fb9f3a"
             ],
             [
              0.8888888888888888,
              "#fdca26"
             ],
             [
              1,
              "#f0f921"
             ]
            ],
            "type": "surface"
           }
          ],
          "table": [
           {
            "cells": {
             "fill": {
              "color": "#EBF0F8"
             },
             "line": {
              "color": "white"
             }
            },
            "header": {
             "fill": {
              "color": "#C8D4E3"
             },
             "line": {
              "color": "white"
             }
            },
            "type": "table"
           }
          ]
         },
         "layout": {
          "annotationdefaults": {
           "arrowcolor": "#2a3f5f",
           "arrowhead": 0,
           "arrowwidth": 1
          },
          "autotypenumbers": "strict",
          "coloraxis": {
           "colorbar": {
            "outlinewidth": 0,
            "ticks": ""
           }
          },
          "colorscale": {
           "diverging": [
            [
             0,
             "#8e0152"
            ],
            [
             0.1,
             "#c51b7d"
            ],
            [
             0.2,
             "#de77ae"
            ],
            [
             0.3,
             "#f1b6da"
            ],
            [
             0.4,
             "#fde0ef"
            ],
            [
             0.5,
             "#f7f7f7"
            ],
            [
             0.6,
             "#e6f5d0"
            ],
            [
             0.7,
             "#b8e186"
            ],
            [
             0.8,
             "#7fbc41"
            ],
            [
             0.9,
             "#4d9221"
            ],
            [
             1,
             "#276419"
            ]
           ],
           "sequential": [
            [
             0,
             "#0d0887"
            ],
            [
             0.1111111111111111,
             "#46039f"
            ],
            [
             0.2222222222222222,
             "#7201a8"
            ],
            [
             0.3333333333333333,
             "#9c179e"
            ],
            [
             0.4444444444444444,
             "#bd3786"
            ],
            [
             0.5555555555555556,
             "#d8576b"
            ],
            [
             0.6666666666666666,
             "#ed7953"
            ],
            [
             0.7777777777777778,
             "#fb9f3a"
            ],
            [
             0.8888888888888888,
             "#fdca26"
            ],
            [
             1,
             "#f0f921"
            ]
           ],
           "sequentialminus": [
            [
             0,
             "#0d0887"
            ],
            [
             0.1111111111111111,
             "#46039f"
            ],
            [
             0.2222222222222222,
             "#7201a8"
            ],
            [
             0.3333333333333333,
             "#9c179e"
            ],
            [
             0.4444444444444444,
             "#bd3786"
            ],
            [
             0.5555555555555556,
             "#d8576b"
            ],
            [
             0.6666666666666666,
             "#ed7953"
            ],
            [
             0.7777777777777778,
             "#fb9f3a"
            ],
            [
             0.8888888888888888,
             "#fdca26"
            ],
            [
             1,
             "#f0f921"
            ]
           ]
          },
          "colorway": [
           "#636efa",
           "#EF553B",
           "#00cc96",
           "#ab63fa",
           "#FFA15A",
           "#19d3f3",
           "#FF6692",
           "#B6E880",
           "#FF97FF",
           "#FECB52"
          ],
          "font": {
           "color": "#2a3f5f"
          },
          "geo": {
           "bgcolor": "white",
           "lakecolor": "white",
           "landcolor": "#E5ECF6",
           "showlakes": true,
           "showland": true,
           "subunitcolor": "white"
          },
          "hoverlabel": {
           "align": "left"
          },
          "hovermode": "closest",
          "mapbox": {
           "style": "light"
          },
          "paper_bgcolor": "white",
          "plot_bgcolor": "#E5ECF6",
          "polar": {
           "angularaxis": {
            "gridcolor": "white",
            "linecolor": "white",
            "ticks": ""
           },
           "bgcolor": "#E5ECF6",
           "radialaxis": {
            "gridcolor": "white",
            "linecolor": "white",
            "ticks": ""
           }
          },
          "scene": {
           "xaxis": {
            "backgroundcolor": "#E5ECF6",
            "gridcolor": "white",
            "gridwidth": 2,
            "linecolor": "white",
            "showbackground": true,
            "ticks": "",
            "zerolinecolor": "white"
           },
           "yaxis": {
            "backgroundcolor": "#E5ECF6",
            "gridcolor": "white",
            "gridwidth": 2,
            "linecolor": "white",
            "showbackground": true,
            "ticks": "",
            "zerolinecolor": "white"
           },
           "zaxis": {
            "backgroundcolor": "#E5ECF6",
            "gridcolor": "white",
            "gridwidth": 2,
            "linecolor": "white",
            "showbackground": true,
            "ticks": "",
            "zerolinecolor": "white"
           }
          },
          "shapedefaults": {
           "line": {
            "color": "#2a3f5f"
           }
          },
          "ternary": {
           "aaxis": {
            "gridcolor": "white",
            "linecolor": "white",
            "ticks": ""
           },
           "baxis": {
            "gridcolor": "white",
            "linecolor": "white",
            "ticks": ""
           },
           "bgcolor": "#E5ECF6",
           "caxis": {
            "gridcolor": "white",
            "linecolor": "white",
            "ticks": ""
           }
          },
          "title": {
           "x": 0.05
          },
          "xaxis": {
           "automargin": true,
           "gridcolor": "white",
           "linecolor": "white",
           "ticks": "",
           "title": {
            "standoff": 15
           },
           "zerolinecolor": "white",
           "zerolinewidth": 2
          },
          "yaxis": {
           "automargin": true,
           "gridcolor": "white",
           "linecolor": "white",
           "ticks": "",
           "title": {
            "standoff": 15
           },
           "zerolinecolor": "white",
           "zerolinewidth": 2
          }
         }
        },
        "title": {
         "text": "Test accuracy"
        },
        "xaxis": {
         "anchor": "y",
         "domain": [
          0,
          1
         ],
         "title": {
          "text": "test_size"
         }
        },
        "yaxis": {
         "anchor": "x",
         "domain": [
          0,
          1
         ],
         "title": {
          "text": "test_acc_avg"
         }
        }
       }
      }
     },
     "metadata": {},
     "output_type": "display_data"
    }
   ],
   "source": [
    "# Compute average and standard deviation according to values of k\n",
    "grouped = df_tot.groupby(['dataset', 'model', 'k', 'train_size', 'test_size'])[['train_acc', 'test_acc']].agg({'train_acc': ['mean', 'std'], 'test_acc': ['mean', 'std']}).reset_index()\n",
    "grouped.columns = ['dataset', 'model', 'k', 'train_size', 'test_size', 'train_acc_avg', 'train_acc_std', 'test_acc_avg', 'test_acc_std', ]\n",
    "grouped\n",
    "\n",
    "# Test split\n",
    "for error_y_mode in {'band'}:\n",
    "    fig = line(\n",
    "        data_frame = grouped[grouped['dataset']=='wikivitals-fr'],\n",
    "        x = 'test_size',\n",
    "        y = 'test_acc_avg',\n",
    "        error_y = 'test_acc_std',\n",
    "        error_y_mode = error_y_mode,\n",
    "        color = 'model',\n",
    "        title = f'Test accuracy',\n",
    "        markers = '.',\n",
    "    )\n",
    "    fig.show()"
   ]
  },
  {
   "attachments": {},
   "cell_type": "markdown",
   "metadata": {},
   "source": [
    "`Wikischools`"
   ]
  },
  {
   "cell_type": "code",
   "execution_count": 50,
   "metadata": {},
   "outputs": [
    {
     "data": {
      "application/vnd.plotly.v1+json": {
       "config": {
        "plotlyServerURL": "https://plot.ly"
       },
       "data": [
        {
         "fill": "toself",
         "fillcolor": "rgba(99,110,250,.3)",
         "hoverinfo": "skip",
         "legendgroup": "Diffusion",
         "line": {
          "color": "rgba(255,255,255,0)"
         },
         "showlegend": false,
         "type": "scatter",
         "x": [
          0.6666666666666666,
          0.5,
          0.4,
          0.3333333333333333,
          0.2857142857142857,
          0.25,
          0.2222222222222222,
          0.2,
          0.2,
          0.2222222222222222,
          0.25,
          0.2857142857142857,
          0.3333333333333333,
          0.4,
          0.5,
          0.6666666666666666
         ],
         "xaxis": "x",
         "y": [
          0.7989061303764436,
          0.8147283295019762,
          0.8180055012642955,
          0.8258603481291545,
          0.8275400225852677,
          0.830258429922756,
          0.8318104865931712,
          0.8325510916524783,
          0.8024871360693882,
          0.8020889043850683,
          0.8015967456080006,
          0.7981697207715345,
          0.7943933160430331,
          0.7990719919705862,
          0.7914478120503939,
          0.7793375137011874
         ],
         "yaxis": "y"
        },
        {
         "hovertemplate": "model=Diffusion<br>test_size=%{x}<br>test_acc_avg=%{y}<extra></extra>",
         "legendgroup": "Diffusion",
         "line": {
          "color": "#636efa",
          "dash": "solid"
         },
         "marker": {
          "symbol": "circle"
         },
         "mode": "markers+lines",
         "name": "Diffusion",
         "orientation": "v",
         "showlegend": true,
         "type": "scatter",
         "x": [
          0.6666666666666666,
          0.5,
          0.4,
          0.3333333333333333,
          0.2857142857142857,
          0.25,
          0.2222222222222222,
          0.2
         ],
         "xaxis": "x",
         "y": [
          0.7891218220388155,
          0.803088070776185,
          0.8085387466174409,
          0.8101268320860938,
          0.8128548716784011,
          0.8159275877653783,
          0.8169496954891198,
          0.8175191138609332
         ],
         "yaxis": "y"
        },
        {
         "fill": "toself",
         "fillcolor": "rgba(239,85,59,.3)",
         "hoverinfo": "skip",
         "legendgroup": "GAT",
         "line": {
          "color": "rgba(255,255,255,0)"
         },
         "showlegend": false,
         "type": "scatter",
         "x": [
          0.6666666666666666,
          0.2222222222222222,
          0.2222222222222222,
          0.6666666666666666
         ],
         "xaxis": "x",
         "y": [
          0.7137824783845537,
          0.7425193329671579,
          0.7214089011301571,
          0.6857950312976775
         ],
         "yaxis": "y"
        },
        {
         "hovertemplate": "model=GAT<br>test_size=%{x}<br>test_acc_avg=%{y}<extra></extra>",
         "legendgroup": "GAT",
         "line": {
          "color": "#EF553B",
          "dash": "solid"
         },
         "marker": {
          "symbol": "circle"
         },
         "mode": "markers+lines",
         "name": "GAT",
         "orientation": "v",
         "showlegend": true,
         "type": "scatter",
         "x": [
          0.6666666666666666,
          0.2222222222222222
         ],
         "xaxis": "x",
         "y": [
          0.6997887548411156,
          0.7319641170486575
         ],
         "yaxis": "y"
        },
        {
         "fill": "toself",
         "fillcolor": "rgba(0,204,150,.3)",
         "hoverinfo": "skip",
         "legendgroup": "GCN",
         "line": {
          "color": "rgba(255,255,255,0)"
         },
         "showlegend": false,
         "type": "scatter",
         "x": [
          0.6666666666666666,
          0.2222222222222222,
          0.2222222222222222,
          0.6666666666666666
         ],
         "xaxis": "x",
         "y": [
          0.6871372278393372,
          0.7247378344469957,
          0.7052738731079011,
          0.6692863115479631
         ],
         "yaxis": "y"
        },
        {
         "hovertemplate": "model=GCN<br>test_size=%{x}<br>test_acc_avg=%{y}<extra></extra>",
         "legendgroup": "GCN",
         "line": {
          "color": "#00cc96",
          "dash": "solid"
         },
         "marker": {
          "symbol": "circle"
         },
         "mode": "markers+lines",
         "name": "GCN",
         "orientation": "v",
         "showlegend": true,
         "type": "scatter",
         "x": [
          0.6666666666666666,
          0.2222222222222222
         ],
         "xaxis": "x",
         "y": [
          0.6782117696936502,
          0.7150058537774484
         ],
         "yaxis": "y"
        },
        {
         "fill": "toself",
         "fillcolor": "rgba(171,99,250,.3)",
         "hoverinfo": "skip",
         "legendgroup": "GraphSage",
         "line": {
          "color": "rgba(255,255,255,0)"
         },
         "showlegend": false,
         "type": "scatter",
         "x": [
          0.6666666666666666,
          0.2222222222222222,
          0.2222222222222222,
          0.6666666666666666
         ],
         "xaxis": "x",
         "y": [
          0.6566440316244606,
          0.6429015631625029,
          0.5998114525953812,
          0.6492082445314888
         ],
         "yaxis": "y"
        },
        {
         "hovertemplate": "model=GraphSage<br>test_size=%{x}<br>test_acc_avg=%{y}<extra></extra>",
         "legendgroup": "GraphSage",
         "line": {
          "color": "#ab63fa",
          "dash": "solid"
         },
         "marker": {
          "symbol": "circle"
         },
         "mode": "markers+lines",
         "name": "GraphSage",
         "orientation": "v",
         "showlegend": true,
         "type": "scatter",
         "x": [
          0.6666666666666666,
          0.2222222222222222
         ],
         "xaxis": "x",
         "y": [
          0.6529261380779747,
          0.621356507878942
         ],
         "yaxis": "y"
        },
        {
         "fill": "toself",
         "fillcolor": "rgba(255,161,90,.3)",
         "hoverinfo": "skip",
         "legendgroup": "KNN",
         "line": {
          "color": "rgba(255,255,255,0)"
         },
         "showlegend": false,
         "type": "scatter",
         "x": [
          0.6666666666666666,
          0.5,
          0.4,
          0.3333333333333333,
          0.2857142857142857,
          0.25,
          0.2222222222222222,
          0.2,
          0.2,
          0.2222222222222222,
          0.25,
          0.2857142857142857,
          0.3333333333333333,
          0.4,
          0.5,
          0.6666666666666666
         ],
         "xaxis": "x",
         "y": [
          0.7614569901336956,
          0.7763988220746523,
          0.7820062268752526,
          0.7878324597267733,
          0.7948877972776603,
          0.7923155251158199,
          0.7978045008678926,
          0.7957391090513315,
          0.7756887984374647,
          0.7720338540486019,
          0.7732094352440454,
          0.7719984166673773,
          0.7697425464490587,
          0.7707965611310414,
          0.7659569356294051,
          0.7484211290300815
         ],
         "yaxis": "y"
        },
        {
         "hovertemplate": "model=KNN<br>test_size=%{x}<br>test_acc_avg=%{y}<extra></extra>",
         "legendgroup": "KNN",
         "line": {
          "color": "#FFA15A",
          "dash": "solid"
         },
         "marker": {
          "symbol": "circle"
         },
         "mode": "markers+lines",
         "name": "KNN",
         "orientation": "v",
         "showlegend": true,
         "type": "scatter",
         "x": [
          0.6666666666666666,
          0.5,
          0.4,
          0.3333333333333333,
          0.2857142857142857,
          0.25,
          0.2222222222222222,
          0.2
         ],
         "xaxis": "x",
         "y": [
          0.7549390595818886,
          0.7711778788520287,
          0.776401394003147,
          0.778787503087916,
          0.7834431069725188,
          0.7827624801799327,
          0.7849191774582472,
          0.7857139537443981
         ],
         "yaxis": "y"
        },
        {
         "fill": "toself",
         "fillcolor": "rgba(25,211,243,.3)",
         "hoverinfo": "skip",
         "legendgroup": "KNN_embedding_methodtrue",
         "line": {
          "color": "rgba(255,255,255,0)"
         },
         "showlegend": false,
         "type": "scatter",
         "x": [
          0.6666666666666666,
          0.5,
          0.4,
          0.3333333333333333,
          0.2857142857142857,
          0.25,
          0.2222222222222222,
          0.2,
          0.2,
          0.2222222222222222,
          0.25,
          0.2857142857142857,
          0.3333333333333333,
          0.4,
          0.5,
          0.6666666666666666
         ],
         "xaxis": "x",
         "y": [
          0.78200474765782,
          0.7888383686427595,
          0.7959498157886783,
          0.8029852324559047,
          0.802450110383856,
          0.8046742931340363,
          0.8075706439250231,
          0.8048416333619948,
          0.7878684810555951,
          0.7874091037501393,
          0.7847056367822358,
          0.7839682407403775,
          0.7819181139679224,
          0.7832029308279421,
          0.7789567587475236,
          0.7680762535072971
         ],
         "yaxis": "y"
        },
        {
         "hovertemplate": "model=KNN_embedding_methodtrue<br>test_size=%{x}<br>test_acc_avg=%{y}<extra></extra>",
         "legendgroup": "KNN_embedding_methodtrue",
         "line": {
          "color": "#19d3f3",
          "dash": "solid"
         },
         "marker": {
          "symbol": "circle"
         },
         "mode": "markers+lines",
         "name": "KNN_embedding_methodtrue",
         "orientation": "v",
         "showlegend": true,
         "type": "scatter",
         "x": [
          0.6666666666666666,
          0.5,
          0.4,
          0.3333333333333333,
          0.2857142857142857,
          0.25,
          0.2222222222222222,
          0.2
         ],
         "xaxis": "x",
         "y": [
          0.7750405005825586,
          0.7838975636951415,
          0.7895763733083102,
          0.7924516732119136,
          0.7932091755621168,
          0.794689964958136,
          0.7974898738375812,
          0.796355057208795
         ],
         "yaxis": "y"
        },
        {
         "fill": "toself",
         "fillcolor": "rgba(255,102,146,.3)",
         "hoverinfo": "skip",
         "legendgroup": "LabelPropagation",
         "line": {
          "color": "rgba(255,255,255,0)"
         },
         "showlegend": false,
         "type": "scatter",
         "x": [
          0.6666666666666666,
          0.5,
          0.4,
          0.3333333333333333,
          0.2857142857142857,
          0.25,
          0.2222222222222222,
          0.2,
          0.2,
          0.2222222222222222,
          0.25,
          0.2857142857142857,
          0.3333333333333333,
          0.4,
          0.5,
          0.6666666666666666
         ],
         "xaxis": "x",
         "y": [
          0.23306877295815856,
          0.23333465256227687,
          0.23460677592365808,
          0.23656596995612567,
          0.2403240400646841,
          0.24237498241097136,
          0.24164467630925457,
          0.24600708227264298,
          0.24002453740580657,
          0.2380288957876796,
          0.2359372851935417,
          0.23526078846132092,
          0.23334132136421454,
          0.23280209984819766,
          0.23293831559149353,
          0.23297711687097303
         ],
         "yaxis": "y"
        },
        {
         "hovertemplate": "model=LabelPropagation<br>test_size=%{x}<br>test_acc_avg=%{y}<extra></extra>",
         "legendgroup": "LabelPropagation",
         "line": {
          "color": "#FF6692",
          "dash": "solid"
         },
         "marker": {
          "symbol": "circle"
         },
         "mode": "markers+lines",
         "name": "LabelPropagation",
         "orientation": "v",
         "showlegend": true,
         "type": "scatter",
         "x": [
          0.6666666666666666,
          0.5,
          0.4,
          0.3333333333333333,
          0.2857142857142857,
          0.25,
          0.2222222222222222,
          0.2
         ],
         "xaxis": "x",
         "y": [
          0.2330229449145658,
          0.2331364840768852,
          0.23370443788592787,
          0.2349536456601701,
          0.23779241426300252,
          0.23915613380225653,
          0.2398367860484671,
          0.24301580983922477
         ],
         "yaxis": "y"
        },
        {
         "fill": "toself",
         "fillcolor": "rgba(182,232,128,.3)",
         "hoverinfo": "skip",
         "legendgroup": "PageRank",
         "line": {
          "color": "rgba(255,255,255,0)"
         },
         "showlegend": false,
         "type": "scatter",
         "x": [
          0.6666666666666666,
          0.5,
          0.4,
          0.3333333333333333,
          0.2857142857142857,
          0.25,
          0.2222222222222222,
          0.2,
          0.2,
          0.2222222222222222,
          0.25,
          0.2857142857142857,
          0.3333333333333333,
          0.4,
          0.5,
          0.6666666666666666
         ],
         "xaxis": "x",
         "y": [
          0.7206733786088169,
          0.7288677830041895,
          0.7376291323885885,
          0.7424914327949385,
          0.7484982144801104,
          0.745547657934613,
          0.746649700587641,
          0.7543026455736286,
          0.7233312274988695,
          0.7278008028173572,
          0.7275406352296012,
          0.7248154353041276,
          0.7215079555036089,
          0.7240981839052195,
          0.7112834817375823,
          0.7006277615966956
         ],
         "yaxis": "y"
        },
        {
         "hovertemplate": "model=PageRank<br>test_size=%{x}<br>test_acc_avg=%{y}<extra></extra>",
         "legendgroup": "PageRank",
         "line": {
          "color": "#B6E880",
          "dash": "solid"
         },
         "marker": {
          "symbol": "circle"
         },
         "mode": "markers+lines",
         "name": "PageRank",
         "orientation": "v",
         "showlegend": true,
         "type": "scatter",
         "x": [
          0.6666666666666666,
          0.5,
          0.4,
          0.3333333333333333,
          0.2857142857142857,
          0.25,
          0.2222222222222222,
          0.2
         ],
         "xaxis": "x",
         "y": [
          0.7106505701027562,
          0.7200756323708859,
          0.730863658146904,
          0.7319996941492737,
          0.736656824892119,
          0.7365441465821071,
          0.7372252517024991,
          0.738816936536249
         ],
         "yaxis": "y"
        },
        {
         "fill": "toself",
         "fillcolor": "rgba(255,151,255,.3)",
         "hoverinfo": "skip",
         "legendgroup": "SGC",
         "line": {
          "color": "rgba(255,255,255,0)"
         },
         "showlegend": false,
         "type": "scatter",
         "x": [
          0.2222222222222222,
          0.2222222222222222
         ],
         "xaxis": "x",
         "y": [
          0.6346173840363302,
          0.591736656427155
         ],
         "yaxis": "y"
        },
        {
         "hovertemplate": "model=SGC<br>test_size=%{x}<br>test_acc_avg=%{y}<extra></extra>",
         "legendgroup": "SGC",
         "line": {
          "color": "#FF97FF",
          "dash": "solid"
         },
         "marker": {
          "symbol": "circle"
         },
         "mode": "markers+lines",
         "name": "SGC",
         "orientation": "v",
         "showlegend": true,
         "type": "scatter",
         "x": [
          0.2222222222222222
         ],
         "xaxis": "x",
         "y": [
          0.6131770202317426
         ],
         "yaxis": "y"
        }
       ],
       "layout": {
        "legend": {
         "title": {
          "text": "model"
         },
         "tracegroupgap": 0
        },
        "template": {
         "data": {
          "bar": [
           {
            "error_x": {
             "color": "#2a3f5f"
            },
            "error_y": {
             "color": "#2a3f5f"
            },
            "marker": {
             "line": {
              "color": "#E5ECF6",
              "width": 0.5
             },
             "pattern": {
              "fillmode": "overlay",
              "size": 10,
              "solidity": 0.2
             }
            },
            "type": "bar"
           }
          ],
          "barpolar": [
           {
            "marker": {
             "line": {
              "color": "#E5ECF6",
              "width": 0.5
             },
             "pattern": {
              "fillmode": "overlay",
              "size": 10,
              "solidity": 0.2
             }
            },
            "type": "barpolar"
           }
          ],
          "carpet": [
           {
            "aaxis": {
             "endlinecolor": "#2a3f5f",
             "gridcolor": "white",
             "linecolor": "white",
             "minorgridcolor": "white",
             "startlinecolor": "#2a3f5f"
            },
            "baxis": {
             "endlinecolor": "#2a3f5f",
             "gridcolor": "white",
             "linecolor": "white",
             "minorgridcolor": "white",
             "startlinecolor": "#2a3f5f"
            },
            "type": "carpet"
           }
          ],
          "choropleth": [
           {
            "colorbar": {
             "outlinewidth": 0,
             "ticks": ""
            },
            "type": "choropleth"
           }
          ],
          "contour": [
           {
            "colorbar": {
             "outlinewidth": 0,
             "ticks": ""
            },
            "colorscale": [
             [
              0,
              "#0d0887"
             ],
             [
              0.1111111111111111,
              "#46039f"
             ],
             [
              0.2222222222222222,
              "#7201a8"
             ],
             [
              0.3333333333333333,
              "#9c179e"
             ],
             [
              0.4444444444444444,
              "#bd3786"
             ],
             [
              0.5555555555555556,
              "#d8576b"
             ],
             [
              0.6666666666666666,
              "#ed7953"
             ],
             [
              0.7777777777777778,
              "#fb9f3a"
             ],
             [
              0.8888888888888888,
              "#fdca26"
             ],
             [
              1,
              "#f0f921"
             ]
            ],
            "type": "contour"
           }
          ],
          "contourcarpet": [
           {
            "colorbar": {
             "outlinewidth": 0,
             "ticks": ""
            },
            "type": "contourcarpet"
           }
          ],
          "heatmap": [
           {
            "colorbar": {
             "outlinewidth": 0,
             "ticks": ""
            },
            "colorscale": [
             [
              0,
              "#0d0887"
             ],
             [
              0.1111111111111111,
              "#46039f"
             ],
             [
              0.2222222222222222,
              "#7201a8"
             ],
             [
              0.3333333333333333,
              "#9c179e"
             ],
             [
              0.4444444444444444,
              "#bd3786"
             ],
             [
              0.5555555555555556,
              "#d8576b"
             ],
             [
              0.6666666666666666,
              "#ed7953"
             ],
             [
              0.7777777777777778,
              "#fb9f3a"
             ],
             [
              0.8888888888888888,
              "#fdca26"
             ],
             [
              1,
              "#f0f921"
             ]
            ],
            "type": "heatmap"
           }
          ],
          "heatmapgl": [
           {
            "colorbar": {
             "outlinewidth": 0,
             "ticks": ""
            },
            "colorscale": [
             [
              0,
              "#0d0887"
             ],
             [
              0.1111111111111111,
              "#46039f"
             ],
             [
              0.2222222222222222,
              "#7201a8"
             ],
             [
              0.3333333333333333,
              "#9c179e"
             ],
             [
              0.4444444444444444,
              "#bd3786"
             ],
             [
              0.5555555555555556,
              "#d8576b"
             ],
             [
              0.6666666666666666,
              "#ed7953"
             ],
             [
              0.7777777777777778,
              "#fb9f3a"
             ],
             [
              0.8888888888888888,
              "#fdca26"
             ],
             [
              1,
              "#f0f921"
             ]
            ],
            "type": "heatmapgl"
           }
          ],
          "histogram": [
           {
            "marker": {
             "pattern": {
              "fillmode": "overlay",
              "size": 10,
              "solidity": 0.2
             }
            },
            "type": "histogram"
           }
          ],
          "histogram2d": [
           {
            "colorbar": {
             "outlinewidth": 0,
             "ticks": ""
            },
            "colorscale": [
             [
              0,
              "#0d0887"
             ],
             [
              0.1111111111111111,
              "#46039f"
             ],
             [
              0.2222222222222222,
              "#7201a8"
             ],
             [
              0.3333333333333333,
              "#9c179e"
             ],
             [
              0.4444444444444444,
              "#bd3786"
             ],
             [
              0.5555555555555556,
              "#d8576b"
             ],
             [
              0.6666666666666666,
              "#ed7953"
             ],
             [
              0.7777777777777778,
              "#fb9f3a"
             ],
             [
              0.8888888888888888,
              "#fdca26"
             ],
             [
              1,
              "#f0f921"
             ]
            ],
            "type": "histogram2d"
           }
          ],
          "histogram2dcontour": [
           {
            "colorbar": {
             "outlinewidth": 0,
             "ticks": ""
            },
            "colorscale": [
             [
              0,
              "#0d0887"
             ],
             [
              0.1111111111111111,
              "#46039f"
             ],
             [
              0.2222222222222222,
              "#7201a8"
             ],
             [
              0.3333333333333333,
              "#9c179e"
             ],
             [
              0.4444444444444444,
              "#bd3786"
             ],
             [
              0.5555555555555556,
              "#d8576b"
             ],
             [
              0.6666666666666666,
              "#ed7953"
             ],
             [
              0.7777777777777778,
              "#fb9f3a"
             ],
             [
              0.8888888888888888,
              "#fdca26"
             ],
             [
              1,
              "#f0f921"
             ]
            ],
            "type": "histogram2dcontour"
           }
          ],
          "mesh3d": [
           {
            "colorbar": {
             "outlinewidth": 0,
             "ticks": ""
            },
            "type": "mesh3d"
           }
          ],
          "parcoords": [
           {
            "line": {
             "colorbar": {
              "outlinewidth": 0,
              "ticks": ""
             }
            },
            "type": "parcoords"
           }
          ],
          "pie": [
           {
            "automargin": true,
            "type": "pie"
           }
          ],
          "scatter": [
           {
            "fillpattern": {
             "fillmode": "overlay",
             "size": 10,
             "solidity": 0.2
            },
            "type": "scatter"
           }
          ],
          "scatter3d": [
           {
            "line": {
             "colorbar": {
              "outlinewidth": 0,
              "ticks": ""
             }
            },
            "marker": {
             "colorbar": {
              "outlinewidth": 0,
              "ticks": ""
             }
            },
            "type": "scatter3d"
           }
          ],
          "scattercarpet": [
           {
            "marker": {
             "colorbar": {
              "outlinewidth": 0,
              "ticks": ""
             }
            },
            "type": "scattercarpet"
           }
          ],
          "scattergeo": [
           {
            "marker": {
             "colorbar": {
              "outlinewidth": 0,
              "ticks": ""
             }
            },
            "type": "scattergeo"
           }
          ],
          "scattergl": [
           {
            "marker": {
             "colorbar": {
              "outlinewidth": 0,
              "ticks": ""
             }
            },
            "type": "scattergl"
           }
          ],
          "scattermapbox": [
           {
            "marker": {
             "colorbar": {
              "outlinewidth": 0,
              "ticks": ""
             }
            },
            "type": "scattermapbox"
           }
          ],
          "scatterpolar": [
           {
            "marker": {
             "colorbar": {
              "outlinewidth": 0,
              "ticks": ""
             }
            },
            "type": "scatterpolar"
           }
          ],
          "scatterpolargl": [
           {
            "marker": {
             "colorbar": {
              "outlinewidth": 0,
              "ticks": ""
             }
            },
            "type": "scatterpolargl"
           }
          ],
          "scatterternary": [
           {
            "marker": {
             "colorbar": {
              "outlinewidth": 0,
              "ticks": ""
             }
            },
            "type": "scatterternary"
           }
          ],
          "surface": [
           {
            "colorbar": {
             "outlinewidth": 0,
             "ticks": ""
            },
            "colorscale": [
             [
              0,
              "#0d0887"
             ],
             [
              0.1111111111111111,
              "#46039f"
             ],
             [
              0.2222222222222222,
              "#7201a8"
             ],
             [
              0.3333333333333333,
              "#9c179e"
             ],
             [
              0.4444444444444444,
              "#bd3786"
             ],
             [
              0.5555555555555556,
              "#d8576b"
             ],
             [
              0.6666666666666666,
              "#ed7953"
             ],
             [
              0.7777777777777778,
              "#fb9f3a"
             ],
             [
              0.8888888888888888,
              "#fdca26"
             ],
             [
              1,
              "#f0f921"
             ]
            ],
            "type": "surface"
           }
          ],
          "table": [
           {
            "cells": {
             "fill": {
              "color": "#EBF0F8"
             },
             "line": {
              "color": "white"
             }
            },
            "header": {
             "fill": {
              "color": "#C8D4E3"
             },
             "line": {
              "color": "white"
             }
            },
            "type": "table"
           }
          ]
         },
         "layout": {
          "annotationdefaults": {
           "arrowcolor": "#2a3f5f",
           "arrowhead": 0,
           "arrowwidth": 1
          },
          "autotypenumbers": "strict",
          "coloraxis": {
           "colorbar": {
            "outlinewidth": 0,
            "ticks": ""
           }
          },
          "colorscale": {
           "diverging": [
            [
             0,
             "#8e0152"
            ],
            [
             0.1,
             "#c51b7d"
            ],
            [
             0.2,
             "#de77ae"
            ],
            [
             0.3,
             "#f1b6da"
            ],
            [
             0.4,
             "#fde0ef"
            ],
            [
             0.5,
             "#f7f7f7"
            ],
            [
             0.6,
             "#e6f5d0"
            ],
            [
             0.7,
             "#b8e186"
            ],
            [
             0.8,
             "#7fbc41"
            ],
            [
             0.9,
             "#4d9221"
            ],
            [
             1,
             "#276419"
            ]
           ],
           "sequential": [
            [
             0,
             "#0d0887"
            ],
            [
             0.1111111111111111,
             "#46039f"
            ],
            [
             0.2222222222222222,
             "#7201a8"
            ],
            [
             0.3333333333333333,
             "#9c179e"
            ],
            [
             0.4444444444444444,
             "#bd3786"
            ],
            [
             0.5555555555555556,
             "#d8576b"
            ],
            [
             0.6666666666666666,
             "#ed7953"
            ],
            [
             0.7777777777777778,
             "#fb9f3a"
            ],
            [
             0.8888888888888888,
             "#fdca26"
            ],
            [
             1,
             "#f0f921"
            ]
           ],
           "sequentialminus": [
            [
             0,
             "#0d0887"
            ],
            [
             0.1111111111111111,
             "#46039f"
            ],
            [
             0.2222222222222222,
             "#7201a8"
            ],
            [
             0.3333333333333333,
             "#9c179e"
            ],
            [
             0.4444444444444444,
             "#bd3786"
            ],
            [
             0.5555555555555556,
             "#d8576b"
            ],
            [
             0.6666666666666666,
             "#ed7953"
            ],
            [
             0.7777777777777778,
             "#fb9f3a"
            ],
            [
             0.8888888888888888,
             "#fdca26"
            ],
            [
             1,
             "#f0f921"
            ]
           ]
          },
          "colorway": [
           "#636efa",
           "#EF553B",
           "#00cc96",
           "#ab63fa",
           "#FFA15A",
           "#19d3f3",
           "#FF6692",
           "#B6E880",
           "#FF97FF",
           "#FECB52"
          ],
          "font": {
           "color": "#2a3f5f"
          },
          "geo": {
           "bgcolor": "white",
           "lakecolor": "white",
           "landcolor": "#E5ECF6",
           "showlakes": true,
           "showland": true,
           "subunitcolor": "white"
          },
          "hoverlabel": {
           "align": "left"
          },
          "hovermode": "closest",
          "mapbox": {
           "style": "light"
          },
          "paper_bgcolor": "white",
          "plot_bgcolor": "#E5ECF6",
          "polar": {
           "angularaxis": {
            "gridcolor": "white",
            "linecolor": "white",
            "ticks": ""
           },
           "bgcolor": "#E5ECF6",
           "radialaxis": {
            "gridcolor": "white",
            "linecolor": "white",
            "ticks": ""
           }
          },
          "scene": {
           "xaxis": {
            "backgroundcolor": "#E5ECF6",
            "gridcolor": "white",
            "gridwidth": 2,
            "linecolor": "white",
            "showbackground": true,
            "ticks": "",
            "zerolinecolor": "white"
           },
           "yaxis": {
            "backgroundcolor": "#E5ECF6",
            "gridcolor": "white",
            "gridwidth": 2,
            "linecolor": "white",
            "showbackground": true,
            "ticks": "",
            "zerolinecolor": "white"
           },
           "zaxis": {
            "backgroundcolor": "#E5ECF6",
            "gridcolor": "white",
            "gridwidth": 2,
            "linecolor": "white",
            "showbackground": true,
            "ticks": "",
            "zerolinecolor": "white"
           }
          },
          "shapedefaults": {
           "line": {
            "color": "#2a3f5f"
           }
          },
          "ternary": {
           "aaxis": {
            "gridcolor": "white",
            "linecolor": "white",
            "ticks": ""
           },
           "baxis": {
            "gridcolor": "white",
            "linecolor": "white",
            "ticks": ""
           },
           "bgcolor": "#E5ECF6",
           "caxis": {
            "gridcolor": "white",
            "linecolor": "white",
            "ticks": ""
           }
          },
          "title": {
           "x": 0.05
          },
          "xaxis": {
           "automargin": true,
           "gridcolor": "white",
           "linecolor": "white",
           "ticks": "",
           "title": {
            "standoff": 15
           },
           "zerolinecolor": "white",
           "zerolinewidth": 2
          },
          "yaxis": {
           "automargin": true,
           "gridcolor": "white",
           "linecolor": "white",
           "ticks": "",
           "title": {
            "standoff": 15
           },
           "zerolinecolor": "white",
           "zerolinewidth": 2
          }
         }
        },
        "title": {
         "text": "Test accuracy"
        },
        "xaxis": {
         "anchor": "y",
         "domain": [
          0,
          1
         ],
         "title": {
          "text": "test_size"
         }
        },
        "yaxis": {
         "anchor": "x",
         "domain": [
          0,
          1
         ],
         "title": {
          "text": "test_acc_avg"
         }
        }
       }
      }
     },
     "metadata": {},
     "output_type": "display_data"
    }
   ],
   "source": [
    "# Compute average and standard deviation according to values of k\n",
    "grouped = df_tot.groupby(['dataset', 'model', 'k', 'train_size', 'test_size'])[['train_acc', 'test_acc']].agg({'train_acc': ['mean', 'std'], 'test_acc': ['mean', 'std']}).reset_index()\n",
    "grouped.columns = ['dataset', 'model', 'k', 'train_size', 'test_size', 'train_acc_avg', 'train_acc_std', 'test_acc_avg', 'test_acc_std', ]\n",
    "grouped\n",
    "\n",
    "# Test split\n",
    "for error_y_mode in {'band'}:\n",
    "    fig = line(\n",
    "        data_frame = grouped[grouped['dataset']=='wikischools'],\n",
    "        x = 'test_size',\n",
    "        y = 'test_acc_avg',\n",
    "        error_y = 'test_acc_std',\n",
    "        error_y_mode = error_y_mode,\n",
    "        color = 'model',\n",
    "        title = f'Test accuracy',\n",
    "        markers = '.',\n",
    "    )\n",
    "    fig.show()"
   ]
  },
  {
   "cell_type": "code",
   "execution_count": null,
   "metadata": {},
   "outputs": [],
   "source": []
  }
 ],
 "metadata": {
  "kernelspec": {
   "display_name": "GNNPerf",
   "language": "python",
   "name": "gnnperf"
  },
  "language_info": {
   "codemirror_mode": {
    "name": "ipython",
    "version": 3
   },
   "file_extension": ".py",
   "mimetype": "text/x-python",
   "name": "python",
   "nbconvert_exporter": "python",
   "pygments_lexer": "ipython3",
   "version": "3.9.16"
  },
  "orig_nbformat": 4
 },
 "nbformat": 4,
 "nbformat_minor": 2
}
