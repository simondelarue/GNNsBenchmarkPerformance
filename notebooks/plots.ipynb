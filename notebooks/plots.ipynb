{
 "cells": [
  {
   "cell_type": "markdown",
   "metadata": {},
   "source": [
    "# Comparing GNNs and baseline performances\n",
    "---"
   ]
  },
  {
   "attachments": {},
   "cell_type": "markdown",
   "metadata": {},
   "source": [
    "**Libraries**"
   ]
  },
  {
   "cell_type": "code",
   "execution_count": 79,
   "metadata": {},
   "outputs": [],
   "source": [
    "import os\n",
    "import pandas as pd\n",
    "import pickle\n",
    "import plotly.express as px"
   ]
  },
  {
   "cell_type": "code",
   "execution_count": 80,
   "metadata": {},
   "outputs": [],
   "source": [
    "def load_dict(path: str, filename: str) -> dict:\n",
    "    \"\"\"Load dictionary.\"\"\"\n",
    "    with open(f'{os.path.join(path, filename)}', 'rb') as f:\n",
    "        data = pickle.load(f)\n",
    "    return data\n",
    "\n",
    "def data2df(path: str):\n",
    "    \"\"\"Load data and save it to DataFrame.\"\"\"\n",
    "    # Initialize DataFrame\n",
    "    df = pd.DataFrame(columns=['dataset', 'model', 'k', 'train_acc', 'test_acc'])\n",
    "\n",
    "    # Load data\n",
    "    for i, file in enumerate(os.listdir(path)):\n",
    "        data = load_dict(path, file)\n",
    "        k = data.get('meta').k\n",
    "        mydf = pd.DataFrame({'dataset': [data.get('meta').dataset] * k,\n",
    "                    'model': [data.get('meta').model] * k,\n",
    "                    'k': [k] * k,\n",
    "                    'train_size': [1 - (2 * (1 / k))] * k,\n",
    "                    'test_size': [2 * (1 / k)] * k, # test + val\n",
    "                    'train_acc': data.get('results').get('train acc'),\n",
    "                    'test_acc': data.get('results').get('test acc')})\n",
    "        df = pd.concat([df, mydf.sort_values('test_size')], ignore_index=True)\n",
    "    \n",
    "    return df"
   ]
  },
  {
   "attachments": {},
   "cell_type": "markdown",
   "metadata": {},
   "source": [
    "## Load data"
   ]
  },
  {
   "cell_type": "code",
   "execution_count": 88,
   "metadata": {},
   "outputs": [],
   "source": [
    "RUNPATH = os.path.join(os.path.dirname(os.getcwd()), 'runs')\n",
    "\n",
    "df = data2df(RUNPATH)"
   ]
  },
  {
   "cell_type": "code",
   "execution_count": 92,
   "metadata": {},
   "outputs": [
    {
     "data": {
      "text/html": [
       "<div>\n",
       "<style scoped>\n",
       "    .dataframe tbody tr th:only-of-type {\n",
       "        vertical-align: middle;\n",
       "    }\n",
       "\n",
       "    .dataframe tbody tr th {\n",
       "        vertical-align: top;\n",
       "    }\n",
       "\n",
       "    .dataframe thead th {\n",
       "        text-align: right;\n",
       "    }\n",
       "</style>\n",
       "<table border=\"1\" class=\"dataframe\">\n",
       "  <thead>\n",
       "    <tr style=\"text-align: right;\">\n",
       "      <th></th>\n",
       "      <th>dataset</th>\n",
       "      <th>model</th>\n",
       "      <th>k</th>\n",
       "      <th>train_acc</th>\n",
       "      <th>test_acc</th>\n",
       "      <th>train_size</th>\n",
       "      <th>test_size</th>\n",
       "    </tr>\n",
       "  </thead>\n",
       "  <tbody>\n",
       "    <tr>\n",
       "      <th>507</th>\n",
       "      <td>cora</td>\n",
       "      <td>GCN</td>\n",
       "      <td>3</td>\n",
       "      <td>0.946475</td>\n",
       "      <td>0.891433</td>\n",
       "      <td>0.333333</td>\n",
       "      <td>0.666667</td>\n",
       "    </tr>\n",
       "    <tr>\n",
       "      <th>508</th>\n",
       "      <td>cora</td>\n",
       "      <td>GCN</td>\n",
       "      <td>3</td>\n",
       "      <td>0.944937</td>\n",
       "      <td>0.888971</td>\n",
       "      <td>0.333333</td>\n",
       "      <td>0.666667</td>\n",
       "    </tr>\n",
       "    <tr>\n",
       "      <th>509</th>\n",
       "      <td>cora</td>\n",
       "      <td>GCN</td>\n",
       "      <td>3</td>\n",
       "      <td>0.957180</td>\n",
       "      <td>0.878262</td>\n",
       "      <td>0.333333</td>\n",
       "      <td>0.666667</td>\n",
       "    </tr>\n",
       "  </tbody>\n",
       "</table>\n",
       "</div>"
      ],
      "text/plain": [
       "    dataset model  k  train_acc  test_acc  train_size  test_size\n",
       "507    cora   GCN  3   0.946475  0.891433    0.333333   0.666667\n",
       "508    cora   GCN  3   0.944937  0.888971    0.333333   0.666667\n",
       "509    cora   GCN  3   0.957180  0.878262    0.333333   0.666667"
      ]
     },
     "execution_count": 92,
     "metadata": {},
     "output_type": "execute_result"
    }
   ],
   "source": [
    "df[df['model'] == 'GCN']"
   ]
  },
  {
   "cell_type": "code",
   "execution_count": 82,
   "metadata": {},
   "outputs": [
    {
     "data": {
      "text/html": [
       "<div>\n",
       "<style scoped>\n",
       "    .dataframe tbody tr th:only-of-type {\n",
       "        vertical-align: middle;\n",
       "    }\n",
       "\n",
       "    .dataframe tbody tr th {\n",
       "        vertical-align: top;\n",
       "    }\n",
       "\n",
       "    .dataframe thead th {\n",
       "        text-align: right;\n",
       "    }\n",
       "</style>\n",
       "<table border=\"1\" class=\"dataframe\">\n",
       "  <thead>\n",
       "    <tr style=\"text-align: right;\">\n",
       "      <th></th>\n",
       "      <th>dataset</th>\n",
       "      <th>model</th>\n",
       "      <th>k</th>\n",
       "      <th>train_size</th>\n",
       "      <th>test_size</th>\n",
       "      <th>train_acc_avg</th>\n",
       "      <th>train_acc_std</th>\n",
       "      <th>test_acc_avg</th>\n",
       "      <th>test_acc_std</th>\n",
       "    </tr>\n",
       "  </thead>\n",
       "  <tbody>\n",
       "    <tr>\n",
       "      <th>0</th>\n",
       "      <td>cora</td>\n",
       "      <td>Diffusion</td>\n",
       "      <td>3</td>\n",
       "      <td>0.333333</td>\n",
       "      <td>0.666667</td>\n",
       "      <td>1.000000</td>\n",
       "      <td>0.000000</td>\n",
       "      <td>0.807238</td>\n",
       "      <td>0.002528</td>\n",
       "    </tr>\n",
       "    <tr>\n",
       "      <th>1</th>\n",
       "      <td>cora</td>\n",
       "      <td>Diffusion</td>\n",
       "      <td>4</td>\n",
       "      <td>0.500000</td>\n",
       "      <td>0.500000</td>\n",
       "      <td>1.000000</td>\n",
       "      <td>0.000000</td>\n",
       "      <td>0.836965</td>\n",
       "      <td>0.010810</td>\n",
       "    </tr>\n",
       "    <tr>\n",
       "      <th>2</th>\n",
       "      <td>cora</td>\n",
       "      <td>Diffusion</td>\n",
       "      <td>5</td>\n",
       "      <td>0.600000</td>\n",
       "      <td>0.400000</td>\n",
       "      <td>1.000000</td>\n",
       "      <td>0.000000</td>\n",
       "      <td>0.840107</td>\n",
       "      <td>0.009280</td>\n",
       "    </tr>\n",
       "    <tr>\n",
       "      <th>3</th>\n",
       "      <td>cora</td>\n",
       "      <td>Diffusion</td>\n",
       "      <td>6</td>\n",
       "      <td>0.666667</td>\n",
       "      <td>0.333333</td>\n",
       "      <td>1.000000</td>\n",
       "      <td>0.000000</td>\n",
       "      <td>0.846197</td>\n",
       "      <td>0.004844</td>\n",
       "    </tr>\n",
       "    <tr>\n",
       "      <th>4</th>\n",
       "      <td>cora</td>\n",
       "      <td>Diffusion</td>\n",
       "      <td>7</td>\n",
       "      <td>0.714286</td>\n",
       "      <td>0.285714</td>\n",
       "      <td>1.000000</td>\n",
       "      <td>0.000000</td>\n",
       "      <td>0.853762</td>\n",
       "      <td>0.014027</td>\n",
       "    </tr>\n",
       "    <tr>\n",
       "      <th>...</th>\n",
       "      <td>...</td>\n",
       "      <td>...</td>\n",
       "      <td>...</td>\n",
       "      <td>...</td>\n",
       "      <td>...</td>\n",
       "      <td>...</td>\n",
       "      <td>...</td>\n",
       "      <td>...</td>\n",
       "      <td>...</td>\n",
       "    </tr>\n",
       "    <tr>\n",
       "      <th>59</th>\n",
       "      <td>cora</td>\n",
       "      <td>PageRank</td>\n",
       "      <td>14</td>\n",
       "      <td>0.857143</td>\n",
       "      <td>0.142857</td>\n",
       "      <td>0.944455</td>\n",
       "      <td>0.002600</td>\n",
       "      <td>0.851741</td>\n",
       "      <td>0.019324</td>\n",
       "    </tr>\n",
       "    <tr>\n",
       "      <th>60</th>\n",
       "      <td>cora</td>\n",
       "      <td>PageRank</td>\n",
       "      <td>15</td>\n",
       "      <td>0.866667</td>\n",
       "      <td>0.133333</td>\n",
       "      <td>0.944041</td>\n",
       "      <td>0.002581</td>\n",
       "      <td>0.852290</td>\n",
       "      <td>0.021916</td>\n",
       "    </tr>\n",
       "    <tr>\n",
       "      <th>61</th>\n",
       "      <td>cora</td>\n",
       "      <td>PageRank</td>\n",
       "      <td>16</td>\n",
       "      <td>0.875000</td>\n",
       "      <td>0.125000</td>\n",
       "      <td>0.943686</td>\n",
       "      <td>0.002369</td>\n",
       "      <td>0.853027</td>\n",
       "      <td>0.021498</td>\n",
       "    </tr>\n",
       "    <tr>\n",
       "      <th>62</th>\n",
       "      <td>cora</td>\n",
       "      <td>PageRank</td>\n",
       "      <td>17</td>\n",
       "      <td>0.882353</td>\n",
       "      <td>0.117647</td>\n",
       "      <td>0.943083</td>\n",
       "      <td>0.002418</td>\n",
       "      <td>0.853575</td>\n",
       "      <td>0.019967</td>\n",
       "    </tr>\n",
       "    <tr>\n",
       "      <th>63</th>\n",
       "      <td>cora</td>\n",
       "      <td>PageRank</td>\n",
       "      <td>18</td>\n",
       "      <td>0.888889</td>\n",
       "      <td>0.111111</td>\n",
       "      <td>0.942763</td>\n",
       "      <td>0.002413</td>\n",
       "      <td>0.856554</td>\n",
       "      <td>0.022155</td>\n",
       "    </tr>\n",
       "  </tbody>\n",
       "</table>\n",
       "<p>64 rows × 9 columns</p>\n",
       "</div>"
      ],
      "text/plain": [
       "   dataset      model   k  train_size  test_size  train_acc_avg   \n",
       "0     cora  Diffusion   3    0.333333   0.666667       1.000000  \\\n",
       "1     cora  Diffusion   4    0.500000   0.500000       1.000000   \n",
       "2     cora  Diffusion   5    0.600000   0.400000       1.000000   \n",
       "3     cora  Diffusion   6    0.666667   0.333333       1.000000   \n",
       "4     cora  Diffusion   7    0.714286   0.285714       1.000000   \n",
       "..     ...        ...  ..         ...        ...            ...   \n",
       "59    cora   PageRank  14    0.857143   0.142857       0.944455   \n",
       "60    cora   PageRank  15    0.866667   0.133333       0.944041   \n",
       "61    cora   PageRank  16    0.875000   0.125000       0.943686   \n",
       "62    cora   PageRank  17    0.882353   0.117647       0.943083   \n",
       "63    cora   PageRank  18    0.888889   0.111111       0.942763   \n",
       "\n",
       "    train_acc_std  test_acc_avg  test_acc_std  \n",
       "0        0.000000      0.807238      0.002528  \n",
       "1        0.000000      0.836965      0.010810  \n",
       "2        0.000000      0.840107      0.009280  \n",
       "3        0.000000      0.846197      0.004844  \n",
       "4        0.000000      0.853762      0.014027  \n",
       "..            ...           ...           ...  \n",
       "59       0.002600      0.851741      0.019324  \n",
       "60       0.002581      0.852290      0.021916  \n",
       "61       0.002369      0.853027      0.021498  \n",
       "62       0.002418      0.853575      0.019967  \n",
       "63       0.002413      0.856554      0.022155  \n",
       "\n",
       "[64 rows x 9 columns]"
      ]
     },
     "execution_count": 82,
     "metadata": {},
     "output_type": "execute_result"
    }
   ],
   "source": [
    "# Compute average and standard deviation according to values of k\n",
    "grouped = df.groupby(['dataset', 'model', 'k', 'train_size', 'test_size'])[['train_acc', 'test_acc']].agg({'train_acc': ['mean', 'std'], 'test_acc': ['mean', 'std']}).reset_index()\n",
    "grouped.columns = ['dataset', 'model', 'k', 'train_size', 'test_size', 'train_acc_avg', 'train_acc_std', 'test_acc_avg', 'test_acc_std', ]\n",
    "grouped"
   ]
  },
  {
   "cell_type": "code",
   "execution_count": 86,
   "metadata": {},
   "outputs": [
    {
     "data": {
      "text/html": [
       "<div>\n",
       "<style scoped>\n",
       "    .dataframe tbody tr th:only-of-type {\n",
       "        vertical-align: middle;\n",
       "    }\n",
       "\n",
       "    .dataframe tbody tr th {\n",
       "        vertical-align: top;\n",
       "    }\n",
       "\n",
       "    .dataframe thead th {\n",
       "        text-align: right;\n",
       "    }\n",
       "</style>\n",
       "<table border=\"1\" class=\"dataframe\">\n",
       "  <thead>\n",
       "    <tr style=\"text-align: right;\">\n",
       "      <th></th>\n",
       "      <th>dataset</th>\n",
       "      <th>model</th>\n",
       "      <th>k</th>\n",
       "      <th>train_size</th>\n",
       "      <th>test_size</th>\n",
       "      <th>train_acc_avg</th>\n",
       "      <th>train_acc_std</th>\n",
       "      <th>test_acc_avg</th>\n",
       "      <th>test_acc_std</th>\n",
       "    </tr>\n",
       "  </thead>\n",
       "  <tbody>\n",
       "    <tr>\n",
       "      <th>48</th>\n",
       "      <td>cora</td>\n",
       "      <td>PageRank</td>\n",
       "      <td>3</td>\n",
       "      <td>0.333333</td>\n",
       "      <td>0.666667</td>\n",
       "      <td>0.981537</td>\n",
       "      <td>0.002778</td>\n",
       "      <td>0.800776</td>\n",
       "      <td>0.004103</td>\n",
       "    </tr>\n",
       "    <tr>\n",
       "      <th>49</th>\n",
       "      <td>cora</td>\n",
       "      <td>PageRank</td>\n",
       "      <td>4</td>\n",
       "      <td>0.500000</td>\n",
       "      <td>0.500000</td>\n",
       "      <td>0.971381</td>\n",
       "      <td>0.004447</td>\n",
       "      <td>0.824225</td>\n",
       "      <td>0.005970</td>\n",
       "    </tr>\n",
       "    <tr>\n",
       "      <th>50</th>\n",
       "      <td>cora</td>\n",
       "      <td>PageRank</td>\n",
       "      <td>5</td>\n",
       "      <td>0.600000</td>\n",
       "      <td>0.400000</td>\n",
       "      <td>0.962951</td>\n",
       "      <td>0.005236</td>\n",
       "      <td>0.828844</td>\n",
       "      <td>0.009299</td>\n",
       "    </tr>\n",
       "    <tr>\n",
       "      <th>51</th>\n",
       "      <td>cora</td>\n",
       "      <td>PageRank</td>\n",
       "      <td>6</td>\n",
       "      <td>0.666667</td>\n",
       "      <td>0.333333</td>\n",
       "      <td>0.958919</td>\n",
       "      <td>0.003112</td>\n",
       "      <td>0.836780</td>\n",
       "      <td>0.007337</td>\n",
       "    </tr>\n",
       "    <tr>\n",
       "      <th>52</th>\n",
       "      <td>cora</td>\n",
       "      <td>PageRank</td>\n",
       "      <td>7</td>\n",
       "      <td>0.714286</td>\n",
       "      <td>0.285714</td>\n",
       "      <td>0.954284</td>\n",
       "      <td>0.003724</td>\n",
       "      <td>0.843239</td>\n",
       "      <td>0.015752</td>\n",
       "    </tr>\n",
       "    <tr>\n",
       "      <th>53</th>\n",
       "      <td>cora</td>\n",
       "      <td>PageRank</td>\n",
       "      <td>8</td>\n",
       "      <td>0.750000</td>\n",
       "      <td>0.250000</td>\n",
       "      <td>0.950702</td>\n",
       "      <td>0.002936</td>\n",
       "      <td>0.844167</td>\n",
       "      <td>0.011755</td>\n",
       "    </tr>\n",
       "    <tr>\n",
       "      <th>54</th>\n",
       "      <td>cora</td>\n",
       "      <td>PageRank</td>\n",
       "      <td>9</td>\n",
       "      <td>0.777778</td>\n",
       "      <td>0.222222</td>\n",
       "      <td>0.949040</td>\n",
       "      <td>0.001975</td>\n",
       "      <td>0.846743</td>\n",
       "      <td>0.018936</td>\n",
       "    </tr>\n",
       "    <tr>\n",
       "      <th>55</th>\n",
       "      <td>cora</td>\n",
       "      <td>PageRank</td>\n",
       "      <td>10</td>\n",
       "      <td>0.800000</td>\n",
       "      <td>0.200000</td>\n",
       "      <td>0.947932</td>\n",
       "      <td>0.002820</td>\n",
       "      <td>0.845076</td>\n",
       "      <td>0.018892</td>\n",
       "    </tr>\n",
       "    <tr>\n",
       "      <th>56</th>\n",
       "      <td>cora</td>\n",
       "      <td>PageRank</td>\n",
       "      <td>11</td>\n",
       "      <td>0.818182</td>\n",
       "      <td>0.181818</td>\n",
       "      <td>0.946332</td>\n",
       "      <td>0.002971</td>\n",
       "      <td>0.848040</td>\n",
       "      <td>0.018170</td>\n",
       "    </tr>\n",
       "    <tr>\n",
       "      <th>57</th>\n",
       "      <td>cora</td>\n",
       "      <td>PageRank</td>\n",
       "      <td>12</td>\n",
       "      <td>0.833333</td>\n",
       "      <td>0.166667</td>\n",
       "      <td>0.945717</td>\n",
       "      <td>0.002906</td>\n",
       "      <td>0.850063</td>\n",
       "      <td>0.014403</td>\n",
       "    </tr>\n",
       "    <tr>\n",
       "      <th>58</th>\n",
       "      <td>cora</td>\n",
       "      <td>PageRank</td>\n",
       "      <td>13</td>\n",
       "      <td>0.846154</td>\n",
       "      <td>0.153846</td>\n",
       "      <td>0.944777</td>\n",
       "      <td>0.003169</td>\n",
       "      <td>0.850441</td>\n",
       "      <td>0.024067</td>\n",
       "    </tr>\n",
       "    <tr>\n",
       "      <th>59</th>\n",
       "      <td>cora</td>\n",
       "      <td>PageRank</td>\n",
       "      <td>14</td>\n",
       "      <td>0.857143</td>\n",
       "      <td>0.142857</td>\n",
       "      <td>0.944455</td>\n",
       "      <td>0.002600</td>\n",
       "      <td>0.851741</td>\n",
       "      <td>0.019324</td>\n",
       "    </tr>\n",
       "    <tr>\n",
       "      <th>60</th>\n",
       "      <td>cora</td>\n",
       "      <td>PageRank</td>\n",
       "      <td>15</td>\n",
       "      <td>0.866667</td>\n",
       "      <td>0.133333</td>\n",
       "      <td>0.944041</td>\n",
       "      <td>0.002581</td>\n",
       "      <td>0.852290</td>\n",
       "      <td>0.021916</td>\n",
       "    </tr>\n",
       "    <tr>\n",
       "      <th>61</th>\n",
       "      <td>cora</td>\n",
       "      <td>PageRank</td>\n",
       "      <td>16</td>\n",
       "      <td>0.875000</td>\n",
       "      <td>0.125000</td>\n",
       "      <td>0.943686</td>\n",
       "      <td>0.002369</td>\n",
       "      <td>0.853027</td>\n",
       "      <td>0.021498</td>\n",
       "    </tr>\n",
       "    <tr>\n",
       "      <th>62</th>\n",
       "      <td>cora</td>\n",
       "      <td>PageRank</td>\n",
       "      <td>17</td>\n",
       "      <td>0.882353</td>\n",
       "      <td>0.117647</td>\n",
       "      <td>0.943083</td>\n",
       "      <td>0.002418</td>\n",
       "      <td>0.853575</td>\n",
       "      <td>0.019967</td>\n",
       "    </tr>\n",
       "    <tr>\n",
       "      <th>63</th>\n",
       "      <td>cora</td>\n",
       "      <td>PageRank</td>\n",
       "      <td>18</td>\n",
       "      <td>0.888889</td>\n",
       "      <td>0.111111</td>\n",
       "      <td>0.942763</td>\n",
       "      <td>0.002413</td>\n",
       "      <td>0.856554</td>\n",
       "      <td>0.022155</td>\n",
       "    </tr>\n",
       "  </tbody>\n",
       "</table>\n",
       "</div>"
      ],
      "text/plain": [
       "   dataset     model   k  train_size  test_size  train_acc_avg  train_acc_std   \n",
       "48    cora  PageRank   3    0.333333   0.666667       0.981537       0.002778  \\\n",
       "49    cora  PageRank   4    0.500000   0.500000       0.971381       0.004447   \n",
       "50    cora  PageRank   5    0.600000   0.400000       0.962951       0.005236   \n",
       "51    cora  PageRank   6    0.666667   0.333333       0.958919       0.003112   \n",
       "52    cora  PageRank   7    0.714286   0.285714       0.954284       0.003724   \n",
       "53    cora  PageRank   8    0.750000   0.250000       0.950702       0.002936   \n",
       "54    cora  PageRank   9    0.777778   0.222222       0.949040       0.001975   \n",
       "55    cora  PageRank  10    0.800000   0.200000       0.947932       0.002820   \n",
       "56    cora  PageRank  11    0.818182   0.181818       0.946332       0.002971   \n",
       "57    cora  PageRank  12    0.833333   0.166667       0.945717       0.002906   \n",
       "58    cora  PageRank  13    0.846154   0.153846       0.944777       0.003169   \n",
       "59    cora  PageRank  14    0.857143   0.142857       0.944455       0.002600   \n",
       "60    cora  PageRank  15    0.866667   0.133333       0.944041       0.002581   \n",
       "61    cora  PageRank  16    0.875000   0.125000       0.943686       0.002369   \n",
       "62    cora  PageRank  17    0.882353   0.117647       0.943083       0.002418   \n",
       "63    cora  PageRank  18    0.888889   0.111111       0.942763       0.002413   \n",
       "\n",
       "    test_acc_avg  test_acc_std  \n",
       "48      0.800776      0.004103  \n",
       "49      0.824225      0.005970  \n",
       "50      0.828844      0.009299  \n",
       "51      0.836780      0.007337  \n",
       "52      0.843239      0.015752  \n",
       "53      0.844167      0.011755  \n",
       "54      0.846743      0.018936  \n",
       "55      0.845076      0.018892  \n",
       "56      0.848040      0.018170  \n",
       "57      0.850063      0.014403  \n",
       "58      0.850441      0.024067  \n",
       "59      0.851741      0.019324  \n",
       "60      0.852290      0.021916  \n",
       "61      0.853027      0.021498  \n",
       "62      0.853575      0.019967  \n",
       "63      0.856554      0.022155  "
      ]
     },
     "execution_count": 86,
     "metadata": {},
     "output_type": "execute_result"
    }
   ],
   "source": [
    "grouped[grouped['model']==\"PageRank\"]"
   ]
  },
  {
   "attachments": {},
   "cell_type": "markdown",
   "metadata": {},
   "source": [
    "## Plot results"
   ]
  },
  {
   "cell_type": "code",
   "execution_count": 87,
   "metadata": {},
   "outputs": [
    {
     "data": {
      "application/vnd.plotly.v1+json": {
       "config": {
        "plotlyServerURL": "https://plot.ly"
       },
       "data": [
        {
         "fill": "toself",
         "fillcolor": "rgba(99,110,250,.3)",
         "hoverinfo": "skip",
         "legendgroup": "Diffusion",
         "line": {
          "color": "rgba(255,255,255,0)"
         },
         "showlegend": false,
         "type": "scatter",
         "x": [
          0.6666666666666666,
          0.5,
          0.4,
          0.3333333333333333,
          0.2857142857142857,
          0.25,
          0.2222222222222222,
          0.2,
          0.18181818181818182,
          0.16666666666666666,
          0.15384615384615385,
          0.14285714285714285,
          0.13333333333333333,
          0.125,
          0.11764705882352941,
          0.1111111111111111,
          0.1111111111111111,
          0.11764705882352941,
          0.125,
          0.13333333333333333,
          0.14285714285714285,
          0.15384615384615385,
          0.16666666666666666,
          0.18181818181818182,
          0.2,
          0.2222222222222222,
          0.25,
          0.2857142857142857,
          0.3333333333333333,
          0.4,
          0.5,
          0.6666666666666666
         ],
         "xaxis": "x",
         "y": [
          1,
          1,
          1,
          1,
          1,
          1,
          1,
          1,
          1,
          1,
          1,
          1,
          1,
          1,
          1,
          1,
          1,
          1,
          1,
          1,
          1,
          1,
          1,
          1,
          1,
          1,
          1,
          1,
          1,
          1,
          1,
          1
         ],
         "yaxis": "y"
        },
        {
         "hovertemplate": "model=Diffusion<br>test_size=%{x}<br>train_acc_avg=%{y}<extra></extra>",
         "legendgroup": "Diffusion",
         "line": {
          "color": "#636efa",
          "dash": "solid"
         },
         "marker": {
          "symbol": "circle"
         },
         "mode": "markers+lines",
         "name": "Diffusion",
         "orientation": "v",
         "showlegend": true,
         "type": "scatter",
         "x": [
          0.6666666666666666,
          0.5,
          0.4,
          0.3333333333333333,
          0.2857142857142857,
          0.25,
          0.2222222222222222,
          0.2,
          0.18181818181818182,
          0.16666666666666666,
          0.15384615384615385,
          0.14285714285714285,
          0.13333333333333333,
          0.125,
          0.11764705882352941,
          0.1111111111111111
         ],
         "xaxis": "x",
         "y": [
          1,
          1,
          1,
          1,
          1,
          1,
          1,
          1,
          1,
          1,
          1,
          1,
          1,
          1,
          1,
          1
         ],
         "yaxis": "y"
        },
        {
         "fill": "toself",
         "fillcolor": "rgba(239,85,59,.3)",
         "hoverinfo": "skip",
         "legendgroup": "KNN",
         "line": {
          "color": "rgba(255,255,255,0)"
         },
         "showlegend": false,
         "type": "scatter",
         "x": [
          0.6666666666666666,
          0.5,
          0.4,
          0.3333333333333333,
          0.2857142857142857,
          0.25,
          0.2222222222222222,
          0.2,
          0.18181818181818182,
          0.16666666666666666,
          0.15384615384615385,
          0.14285714285714285,
          0.13333333333333333,
          0.125,
          0.11764705882352941,
          0.1111111111111111,
          0.1111111111111111,
          0.11764705882352941,
          0.125,
          0.13333333333333333,
          0.14285714285714285,
          0.15384615384615385,
          0.16666666666666666,
          0.18181818181818182,
          0.2,
          0.2222222222222222,
          0.25,
          0.2857142857142857,
          0.3333333333333333,
          0.4,
          0.5,
          0.6666666666666666
         ],
         "xaxis": "x",
         "y": [
          1,
          1,
          1,
          1,
          1,
          1,
          1,
          1,
          1,
          1,
          1,
          1,
          1,
          1,
          1,
          1,
          1,
          1,
          1,
          1,
          1,
          1,
          1,
          1,
          1,
          1,
          1,
          1,
          1,
          1,
          1,
          1
         ],
         "yaxis": "y"
        },
        {
         "hovertemplate": "model=KNN<br>test_size=%{x}<br>train_acc_avg=%{y}<extra></extra>",
         "legendgroup": "KNN",
         "line": {
          "color": "#EF553B",
          "dash": "solid"
         },
         "marker": {
          "symbol": "circle"
         },
         "mode": "markers+lines",
         "name": "KNN",
         "orientation": "v",
         "showlegend": true,
         "type": "scatter",
         "x": [
          0.6666666666666666,
          0.5,
          0.4,
          0.3333333333333333,
          0.2857142857142857,
          0.25,
          0.2222222222222222,
          0.2,
          0.18181818181818182,
          0.16666666666666666,
          0.15384615384615385,
          0.14285714285714285,
          0.13333333333333333,
          0.125,
          0.11764705882352941,
          0.1111111111111111
         ],
         "xaxis": "x",
         "y": [
          1,
          1,
          1,
          1,
          1,
          1,
          1,
          1,
          1,
          1,
          1,
          1,
          1,
          1,
          1,
          1
         ],
         "yaxis": "y"
        },
        {
         "fill": "toself",
         "fillcolor": "rgba(0,204,150,.3)",
         "hoverinfo": "skip",
         "legendgroup": "LabelPropagation",
         "line": {
          "color": "rgba(255,255,255,0)"
         },
         "showlegend": false,
         "type": "scatter",
         "x": [
          0.6666666666666666,
          0.5,
          0.4,
          0.3333333333333333,
          0.2857142857142857,
          0.25,
          0.2222222222222222,
          0.2,
          0.18181818181818182,
          0.16666666666666666,
          0.15384615384615385,
          0.14285714285714285,
          0.13333333333333333,
          0.125,
          0.11764705882352941,
          0.1111111111111111,
          0.1111111111111111,
          0.11764705882352941,
          0.125,
          0.13333333333333333,
          0.14285714285714285,
          0.15384615384615385,
          0.16666666666666666,
          0.18181818181818182,
          0.2,
          0.2222222222222222,
          0.25,
          0.2857142857142857,
          0.3333333333333333,
          0.4,
          0.5,
          0.6666666666666666
         ],
         "xaxis": "x",
         "y": [
          1,
          1,
          1,
          1,
          1,
          1,
          1,
          1,
          1,
          1,
          1,
          1,
          1,
          1,
          1,
          1,
          1,
          1,
          1,
          1,
          1,
          1,
          1,
          1,
          1,
          1,
          1,
          1,
          1,
          1,
          1,
          1
         ],
         "yaxis": "y"
        },
        {
         "hovertemplate": "model=LabelPropagation<br>test_size=%{x}<br>train_acc_avg=%{y}<extra></extra>",
         "legendgroup": "LabelPropagation",
         "line": {
          "color": "#00cc96",
          "dash": "solid"
         },
         "marker": {
          "symbol": "circle"
         },
         "mode": "markers+lines",
         "name": "LabelPropagation",
         "orientation": "v",
         "showlegend": true,
         "type": "scatter",
         "x": [
          0.6666666666666666,
          0.5,
          0.4,
          0.3333333333333333,
          0.2857142857142857,
          0.25,
          0.2222222222222222,
          0.2,
          0.18181818181818182,
          0.16666666666666666,
          0.15384615384615385,
          0.14285714285714285,
          0.13333333333333333,
          0.125,
          0.11764705882352941,
          0.1111111111111111
         ],
         "xaxis": "x",
         "y": [
          1,
          1,
          1,
          1,
          1,
          1,
          1,
          1,
          1,
          1,
          1,
          1,
          1,
          1,
          1,
          1
         ],
         "yaxis": "y"
        },
        {
         "fill": "toself",
         "fillcolor": "rgba(171,99,250,.3)",
         "hoverinfo": "skip",
         "legendgroup": "PageRank",
         "line": {
          "color": "rgba(255,255,255,0)"
         },
         "showlegend": false,
         "type": "scatter",
         "x": [
          0.6666666666666666,
          0.5,
          0.4,
          0.3333333333333333,
          0.2857142857142857,
          0.25,
          0.2222222222222222,
          0.2,
          0.18181818181818182,
          0.16666666666666666,
          0.15384615384615385,
          0.14285714285714285,
          0.13333333333333333,
          0.125,
          0.11764705882352941,
          0.1111111111111111,
          0.1111111111111111,
          0.11764705882352941,
          0.125,
          0.13333333333333333,
          0.14285714285714285,
          0.15384615384615385,
          0.16666666666666666,
          0.18181818181818182,
          0.2,
          0.2222222222222222,
          0.25,
          0.2857142857142857,
          0.3333333333333333,
          0.4,
          0.5,
          0.6666666666666666
         ],
         "xaxis": "x",
         "y": [
          0.9843151167112375,
          0.9758277675697163,
          0.9681871151703242,
          0.9620302815017536,
          0.9580077618642434,
          0.9536379877921629,
          0.9510152305825007,
          0.9507517573826165,
          0.9493032085274334,
          0.9486230927750325,
          0.947946217753219,
          0.9470555874102589,
          0.9466220455578455,
          0.9460551474570322,
          0.9455009241962947,
          0.9451751301431612,
          0.9403498854457699,
          0.9406645844565941,
          0.9413166511734914,
          0.9414592321386902,
          0.9418546253924143,
          0.9416077888552941,
          0.9428102397069449,
          0.9433610370132314,
          0.9451122880702867,
          0.9470642954040017,
          0.9477665168825858,
          0.950559834065369,
          0.9558071440298408,
          0.9577141987848389,
          0.9669344185454977,
          0.9787594339980269
         ],
         "yaxis": "y"
        },
        {
         "hovertemplate": "model=PageRank<br>test_size=%{x}<br>train_acc_avg=%{y}<extra></extra>",
         "legendgroup": "PageRank",
         "line": {
          "color": "#ab63fa",
          "dash": "solid"
         },
         "marker": {
          "symbol": "circle"
         },
         "mode": "markers+lines",
         "name": "PageRank",
         "orientation": "v",
         "showlegend": true,
         "type": "scatter",
         "x": [
          0.6666666666666666,
          0.5,
          0.4,
          0.3333333333333333,
          0.2857142857142857,
          0.25,
          0.2222222222222222,
          0.2,
          0.18181818181818182,
          0.16666666666666666,
          0.15384615384615385,
          0.14285714285714285,
          0.13333333333333333,
          0.125,
          0.11764705882352941,
          0.1111111111111111
         ],
         "xaxis": "x",
         "y": [
          0.9815372753546322,
          0.971381093057607,
          0.9629506569775815,
          0.9589187127657972,
          0.9542837979648062,
          0.9507022523373744,
          0.9490397629932512,
          0.9479320227264516,
          0.9463321227703324,
          0.9457166662409887,
          0.9447770033042565,
          0.9444551064013366,
          0.9440406388482678,
          0.9436858993152618,
          0.9430827543264444,
          0.9427625077944656
         ],
         "yaxis": "y"
        }
       ],
       "layout": {
        "legend": {
         "title": {
          "text": "model"
         },
         "tracegroupgap": 0
        },
        "template": {
         "data": {
          "bar": [
           {
            "error_x": {
             "color": "#2a3f5f"
            },
            "error_y": {
             "color": "#2a3f5f"
            },
            "marker": {
             "line": {
              "color": "#E5ECF6",
              "width": 0.5
             },
             "pattern": {
              "fillmode": "overlay",
              "size": 10,
              "solidity": 0.2
             }
            },
            "type": "bar"
           }
          ],
          "barpolar": [
           {
            "marker": {
             "line": {
              "color": "#E5ECF6",
              "width": 0.5
             },
             "pattern": {
              "fillmode": "overlay",
              "size": 10,
              "solidity": 0.2
             }
            },
            "type": "barpolar"
           }
          ],
          "carpet": [
           {
            "aaxis": {
             "endlinecolor": "#2a3f5f",
             "gridcolor": "white",
             "linecolor": "white",
             "minorgridcolor": "white",
             "startlinecolor": "#2a3f5f"
            },
            "baxis": {
             "endlinecolor": "#2a3f5f",
             "gridcolor": "white",
             "linecolor": "white",
             "minorgridcolor": "white",
             "startlinecolor": "#2a3f5f"
            },
            "type": "carpet"
           }
          ],
          "choropleth": [
           {
            "colorbar": {
             "outlinewidth": 0,
             "ticks": ""
            },
            "type": "choropleth"
           }
          ],
          "contour": [
           {
            "colorbar": {
             "outlinewidth": 0,
             "ticks": ""
            },
            "colorscale": [
             [
              0,
              "#0d0887"
             ],
             [
              0.1111111111111111,
              "#46039f"
             ],
             [
              0.2222222222222222,
              "#7201a8"
             ],
             [
              0.3333333333333333,
              "#9c179e"
             ],
             [
              0.4444444444444444,
              "#bd3786"
             ],
             [
              0.5555555555555556,
              "#d8576b"
             ],
             [
              0.6666666666666666,
              "#ed7953"
             ],
             [
              0.7777777777777778,
              "#fb9f3a"
             ],
             [
              0.8888888888888888,
              "#fdca26"
             ],
             [
              1,
              "#f0f921"
             ]
            ],
            "type": "contour"
           }
          ],
          "contourcarpet": [
           {
            "colorbar": {
             "outlinewidth": 0,
             "ticks": ""
            },
            "type": "contourcarpet"
           }
          ],
          "heatmap": [
           {
            "colorbar": {
             "outlinewidth": 0,
             "ticks": ""
            },
            "colorscale": [
             [
              0,
              "#0d0887"
             ],
             [
              0.1111111111111111,
              "#46039f"
             ],
             [
              0.2222222222222222,
              "#7201a8"
             ],
             [
              0.3333333333333333,
              "#9c179e"
             ],
             [
              0.4444444444444444,
              "#bd3786"
             ],
             [
              0.5555555555555556,
              "#d8576b"
             ],
             [
              0.6666666666666666,
              "#ed7953"
             ],
             [
              0.7777777777777778,
              "#fb9f3a"
             ],
             [
              0.8888888888888888,
              "#fdca26"
             ],
             [
              1,
              "#f0f921"
             ]
            ],
            "type": "heatmap"
           }
          ],
          "heatmapgl": [
           {
            "colorbar": {
             "outlinewidth": 0,
             "ticks": ""
            },
            "colorscale": [
             [
              0,
              "#0d0887"
             ],
             [
              0.1111111111111111,
              "#46039f"
             ],
             [
              0.2222222222222222,
              "#7201a8"
             ],
             [
              0.3333333333333333,
              "#9c179e"
             ],
             [
              0.4444444444444444,
              "#bd3786"
             ],
             [
              0.5555555555555556,
              "#d8576b"
             ],
             [
              0.6666666666666666,
              "#ed7953"
             ],
             [
              0.7777777777777778,
              "#fb9f3a"
             ],
             [
              0.8888888888888888,
              "#fdca26"
             ],
             [
              1,
              "#f0f921"
             ]
            ],
            "type": "heatmapgl"
           }
          ],
          "histogram": [
           {
            "marker": {
             "pattern": {
              "fillmode": "overlay",
              "size": 10,
              "solidity": 0.2
             }
            },
            "type": "histogram"
           }
          ],
          "histogram2d": [
           {
            "colorbar": {
             "outlinewidth": 0,
             "ticks": ""
            },
            "colorscale": [
             [
              0,
              "#0d0887"
             ],
             [
              0.1111111111111111,
              "#46039f"
             ],
             [
              0.2222222222222222,
              "#7201a8"
             ],
             [
              0.3333333333333333,
              "#9c179e"
             ],
             [
              0.4444444444444444,
              "#bd3786"
             ],
             [
              0.5555555555555556,
              "#d8576b"
             ],
             [
              0.6666666666666666,
              "#ed7953"
             ],
             [
              0.7777777777777778,
              "#fb9f3a"
             ],
             [
              0.8888888888888888,
              "#fdca26"
             ],
             [
              1,
              "#f0f921"
             ]
            ],
            "type": "histogram2d"
           }
          ],
          "histogram2dcontour": [
           {
            "colorbar": {
             "outlinewidth": 0,
             "ticks": ""
            },
            "colorscale": [
             [
              0,
              "#0d0887"
             ],
             [
              0.1111111111111111,
              "#46039f"
             ],
             [
              0.2222222222222222,
              "#7201a8"
             ],
             [
              0.3333333333333333,
              "#9c179e"
             ],
             [
              0.4444444444444444,
              "#bd3786"
             ],
             [
              0.5555555555555556,
              "#d8576b"
             ],
             [
              0.6666666666666666,
              "#ed7953"
             ],
             [
              0.7777777777777778,
              "#fb9f3a"
             ],
             [
              0.8888888888888888,
              "#fdca26"
             ],
             [
              1,
              "#f0f921"
             ]
            ],
            "type": "histogram2dcontour"
           }
          ],
          "mesh3d": [
           {
            "colorbar": {
             "outlinewidth": 0,
             "ticks": ""
            },
            "type": "mesh3d"
           }
          ],
          "parcoords": [
           {
            "line": {
             "colorbar": {
              "outlinewidth": 0,
              "ticks": ""
             }
            },
            "type": "parcoords"
           }
          ],
          "pie": [
           {
            "automargin": true,
            "type": "pie"
           }
          ],
          "scatter": [
           {
            "fillpattern": {
             "fillmode": "overlay",
             "size": 10,
             "solidity": 0.2
            },
            "type": "scatter"
           }
          ],
          "scatter3d": [
           {
            "line": {
             "colorbar": {
              "outlinewidth": 0,
              "ticks": ""
             }
            },
            "marker": {
             "colorbar": {
              "outlinewidth": 0,
              "ticks": ""
             }
            },
            "type": "scatter3d"
           }
          ],
          "scattercarpet": [
           {
            "marker": {
             "colorbar": {
              "outlinewidth": 0,
              "ticks": ""
             }
            },
            "type": "scattercarpet"
           }
          ],
          "scattergeo": [
           {
            "marker": {
             "colorbar": {
              "outlinewidth": 0,
              "ticks": ""
             }
            },
            "type": "scattergeo"
           }
          ],
          "scattergl": [
           {
            "marker": {
             "colorbar": {
              "outlinewidth": 0,
              "ticks": ""
             }
            },
            "type": "scattergl"
           }
          ],
          "scattermapbox": [
           {
            "marker": {
             "colorbar": {
              "outlinewidth": 0,
              "ticks": ""
             }
            },
            "type": "scattermapbox"
           }
          ],
          "scatterpolar": [
           {
            "marker": {
             "colorbar": {
              "outlinewidth": 0,
              "ticks": ""
             }
            },
            "type": "scatterpolar"
           }
          ],
          "scatterpolargl": [
           {
            "marker": {
             "colorbar": {
              "outlinewidth": 0,
              "ticks": ""
             }
            },
            "type": "scatterpolargl"
           }
          ],
          "scatterternary": [
           {
            "marker": {
             "colorbar": {
              "outlinewidth": 0,
              "ticks": ""
             }
            },
            "type": "scatterternary"
           }
          ],
          "surface": [
           {
            "colorbar": {
             "outlinewidth": 0,
             "ticks": ""
            },
            "colorscale": [
             [
              0,
              "#0d0887"
             ],
             [
              0.1111111111111111,
              "#46039f"
             ],
             [
              0.2222222222222222,
              "#7201a8"
             ],
             [
              0.3333333333333333,
              "#9c179e"
             ],
             [
              0.4444444444444444,
              "#bd3786"
             ],
             [
              0.5555555555555556,
              "#d8576b"
             ],
             [
              0.6666666666666666,
              "#ed7953"
             ],
             [
              0.7777777777777778,
              "#fb9f3a"
             ],
             [
              0.8888888888888888,
              "#fdca26"
             ],
             [
              1,
              "#f0f921"
             ]
            ],
            "type": "surface"
           }
          ],
          "table": [
           {
            "cells": {
             "fill": {
              "color": "#EBF0F8"
             },
             "line": {
              "color": "white"
             }
            },
            "header": {
             "fill": {
              "color": "#C8D4E3"
             },
             "line": {
              "color": "white"
             }
            },
            "type": "table"
           }
          ]
         },
         "layout": {
          "annotationdefaults": {
           "arrowcolor": "#2a3f5f",
           "arrowhead": 0,
           "arrowwidth": 1
          },
          "autotypenumbers": "strict",
          "coloraxis": {
           "colorbar": {
            "outlinewidth": 0,
            "ticks": ""
           }
          },
          "colorscale": {
           "diverging": [
            [
             0,
             "#8e0152"
            ],
            [
             0.1,
             "#c51b7d"
            ],
            [
             0.2,
             "#de77ae"
            ],
            [
             0.3,
             "#f1b6da"
            ],
            [
             0.4,
             "#fde0ef"
            ],
            [
             0.5,
             "#f7f7f7"
            ],
            [
             0.6,
             "#e6f5d0"
            ],
            [
             0.7,
             "#b8e186"
            ],
            [
             0.8,
             "#7fbc41"
            ],
            [
             0.9,
             "#4d9221"
            ],
            [
             1,
             "#276419"
            ]
           ],
           "sequential": [
            [
             0,
             "#0d0887"
            ],
            [
             0.1111111111111111,
             "#46039f"
            ],
            [
             0.2222222222222222,
             "#7201a8"
            ],
            [
             0.3333333333333333,
             "#9c179e"
            ],
            [
             0.4444444444444444,
             "#bd3786"
            ],
            [
             0.5555555555555556,
             "#d8576b"
            ],
            [
             0.6666666666666666,
             "#ed7953"
            ],
            [
             0.7777777777777778,
             "#fb9f3a"
            ],
            [
             0.8888888888888888,
             "#fdca26"
            ],
            [
             1,
             "#f0f921"
            ]
           ],
           "sequentialminus": [
            [
             0,
             "#0d0887"
            ],
            [
             0.1111111111111111,
             "#46039f"
            ],
            [
             0.2222222222222222,
             "#7201a8"
            ],
            [
             0.3333333333333333,
             "#9c179e"
            ],
            [
             0.4444444444444444,
             "#bd3786"
            ],
            [
             0.5555555555555556,
             "#d8576b"
            ],
            [
             0.6666666666666666,
             "#ed7953"
            ],
            [
             0.7777777777777778,
             "#fb9f3a"
            ],
            [
             0.8888888888888888,
             "#fdca26"
            ],
            [
             1,
             "#f0f921"
            ]
           ]
          },
          "colorway": [
           "#636efa",
           "#EF553B",
           "#00cc96",
           "#ab63fa",
           "#FFA15A",
           "#19d3f3",
           "#FF6692",
           "#B6E880",
           "#FF97FF",
           "#FECB52"
          ],
          "font": {
           "color": "#2a3f5f"
          },
          "geo": {
           "bgcolor": "white",
           "lakecolor": "white",
           "landcolor": "#E5ECF6",
           "showlakes": true,
           "showland": true,
           "subunitcolor": "white"
          },
          "hoverlabel": {
           "align": "left"
          },
          "hovermode": "closest",
          "mapbox": {
           "style": "light"
          },
          "paper_bgcolor": "white",
          "plot_bgcolor": "#E5ECF6",
          "polar": {
           "angularaxis": {
            "gridcolor": "white",
            "linecolor": "white",
            "ticks": ""
           },
           "bgcolor": "#E5ECF6",
           "radialaxis": {
            "gridcolor": "white",
            "linecolor": "white",
            "ticks": ""
           }
          },
          "scene": {
           "xaxis": {
            "backgroundcolor": "#E5ECF6",
            "gridcolor": "white",
            "gridwidth": 2,
            "linecolor": "white",
            "showbackground": true,
            "ticks": "",
            "zerolinecolor": "white"
           },
           "yaxis": {
            "backgroundcolor": "#E5ECF6",
            "gridcolor": "white",
            "gridwidth": 2,
            "linecolor": "white",
            "showbackground": true,
            "ticks": "",
            "zerolinecolor": "white"
           },
           "zaxis": {
            "backgroundcolor": "#E5ECF6",
            "gridcolor": "white",
            "gridwidth": 2,
            "linecolor": "white",
            "showbackground": true,
            "ticks": "",
            "zerolinecolor": "white"
           }
          },
          "shapedefaults": {
           "line": {
            "color": "#2a3f5f"
           }
          },
          "ternary": {
           "aaxis": {
            "gridcolor": "white",
            "linecolor": "white",
            "ticks": ""
           },
           "baxis": {
            "gridcolor": "white",
            "linecolor": "white",
            "ticks": ""
           },
           "bgcolor": "#E5ECF6",
           "caxis": {
            "gridcolor": "white",
            "linecolor": "white",
            "ticks": ""
           }
          },
          "title": {
           "x": 0.05
          },
          "xaxis": {
           "automargin": true,
           "gridcolor": "white",
           "linecolor": "white",
           "ticks": "",
           "title": {
            "standoff": 15
           },
           "zerolinecolor": "white",
           "zerolinewidth": 2
          },
          "yaxis": {
           "automargin": true,
           "gridcolor": "white",
           "linecolor": "white",
           "ticks": "",
           "title": {
            "standoff": 15
           },
           "zerolinecolor": "white",
           "zerolinewidth": 2
          }
         }
        },
        "title": {
         "text": "Training accuracy"
        },
        "xaxis": {
         "anchor": "y",
         "domain": [
          0,
          1
         ],
         "title": {
          "text": "test_size"
         }
        },
        "yaxis": {
         "anchor": "x",
         "domain": [
          0,
          1
         ],
         "title": {
          "text": "train_acc_avg"
         }
        }
       }
      }
     },
     "metadata": {},
     "output_type": "display_data"
    }
   ],
   "source": [
    "for error_y_mode in {'band'}:\n",
    "    fig = line(\n",
    "        data_frame = grouped,\n",
    "        x = 'test_size',\n",
    "        y = 'train_acc_avg',\n",
    "        error_y = 'train_acc_std',\n",
    "        error_y_mode = error_y_mode,\n",
    "        color = 'model',\n",
    "        title = f'Training accuracy',\n",
    "        markers = '.',\n",
    "    )\n",
    "    fig.show()"
   ]
  },
  {
   "cell_type": "code",
   "execution_count": 84,
   "metadata": {},
   "outputs": [
    {
     "data": {
      "application/vnd.plotly.v1+json": {
       "config": {
        "plotlyServerURL": "https://plot.ly"
       },
       "data": [
        {
         "fill": "toself",
         "fillcolor": "rgba(99,110,250,.3)",
         "hoverinfo": "skip",
         "legendgroup": "Diffusion",
         "line": {
          "color": "rgba(255,255,255,0)"
         },
         "showlegend": false,
         "type": "scatter",
         "x": [
          0.6666666666666666,
          0.5,
          0.4,
          0.3333333333333333,
          0.2857142857142857,
          0.25,
          0.2222222222222222,
          0.2,
          0.18181818181818182,
          0.16666666666666666,
          0.15384615384615385,
          0.14285714285714285,
          0.13333333333333333,
          0.125,
          0.11764705882352941,
          0.1111111111111111,
          0.1111111111111111,
          0.11764705882352941,
          0.125,
          0.13333333333333333,
          0.14285714285714285,
          0.15384615384615385,
          0.16666666666666666,
          0.18181818181818182,
          0.2,
          0.2222222222222222,
          0.25,
          0.2857142857142857,
          0.3333333333333333,
          0.4,
          0.5,
          0.6666666666666666
         ],
         "xaxis": "x",
         "y": [
          0.80976577363293,
          0.8477749491641835,
          0.8493869241953161,
          0.8510409438060409,
          0.8677884091942573,
          0.8662315149118853,
          0.8693024006563387,
          0.8739111567844725,
          0.8736958977289684,
          0.8742424067074914,
          0.8800934411365698,
          0.8799139733921373,
          0.8803273053381838,
          0.8798878527314252,
          0.8798830170063888,
          0.8817211996184656,
          0.8394896037130831,
          0.8387031759731985,
          0.8387036812534835,
          0.8408700371505377,
          0.8398118616037651,
          0.8377694461533266,
          0.8458217211528807,
          0.8404737536970606,
          0.8384001118611776,
          0.8378498846022034,
          0.8413067024147913,
          0.8397353115067551,
          0.8413536661284373,
          0.8308268081471776,
          0.8261541498018432,
          0.8047100323651333
         ],
         "yaxis": "y"
        },
        {
         "hovertemplate": "model=Diffusion<br>test_size=%{x}<br>test_acc_avg=%{y}<extra></extra>",
         "legendgroup": "Diffusion",
         "line": {
          "color": "#636efa",
          "dash": "solid"
         },
         "marker": {
          "symbol": "circle"
         },
         "mode": "markers+lines",
         "name": "Diffusion",
         "orientation": "v",
         "showlegend": true,
         "type": "scatter",
         "x": [
          0.6666666666666666,
          0.5,
          0.4,
          0.3333333333333333,
          0.2857142857142857,
          0.25,
          0.2222222222222222,
          0.2,
          0.18181818181818182,
          0.16666666666666666,
          0.15384615384615385,
          0.14285714285714285,
          0.13333333333333333,
          0.125,
          0.11764705882352941,
          0.1111111111111111
         ],
         "xaxis": "x",
         "y": [
          0.8072379029990316,
          0.8369645494830134,
          0.8401068661712469,
          0.8461973049672391,
          0.8537618603505062,
          0.8537691086633383,
          0.8535761426292711,
          0.856155634322825,
          0.8570848257130145,
          0.860032063930186,
          0.8589314436449482,
          0.8598629174979512,
          0.8605986712443607,
          0.8592957669924544,
          0.8592930964897937,
          0.8606054016657744
         ],
         "yaxis": "y"
        },
        {
         "fill": "toself",
         "fillcolor": "rgba(239,85,59,.3)",
         "hoverinfo": "skip",
         "legendgroup": "KNN",
         "line": {
          "color": "rgba(255,255,255,0)"
         },
         "showlegend": false,
         "type": "scatter",
         "x": [
          0.6666666666666666,
          0.5,
          0.4,
          0.3333333333333333,
          0.2857142857142857,
          0.25,
          0.2222222222222222,
          0.2,
          0.18181818181818182,
          0.16666666666666666,
          0.15384615384615385,
          0.14285714285714285,
          0.13333333333333333,
          0.125,
          0.11764705882352941,
          0.1111111111111111,
          0.1111111111111111,
          0.11764705882352941,
          0.125,
          0.13333333333333333,
          0.14285714285714285,
          0.15384615384615385,
          0.16666666666666666,
          0.18181818181818182,
          0.2,
          0.2222222222222222,
          0.25,
          0.2857142857142857,
          0.3333333333333333,
          0.4,
          0.5,
          0.6666666666666666
         ],
         "xaxis": "x",
         "y": [
          0.693206570771736,
          0.7664492474513201,
          0.7642688879050652,
          0.7658973429400379,
          0.7747378995600225,
          0.7754221315286058,
          0.78352077871542,
          0.7910771675175037,
          0.7920941061291952,
          0.7887567263796904,
          0.7944457301948163,
          0.7981567549689826,
          0.8023643090109807,
          0.7972502880059443,
          0.8085469001106592,
          0.809816715947761,
          0.7526574340729777,
          0.7575167923267464,
          0.7558947817463112,
          0.7548870226071345,
          0.753208837891176,
          0.7550321756603359,
          0.7548268793008286,
          0.7566433332101757,
          0.7521300598720839,
          0.7534107166574328,
          0.7552384766257731,
          0.7359759921821791,
          0.7411279760315564,
          0.728736581880612,
          0.7029008264039235,
          0.6454270389563787
         ],
         "yaxis": "y"
        },
        {
         "hovertemplate": "model=KNN<br>test_size=%{x}<br>test_acc_avg=%{y}<extra></extra>",
         "legendgroup": "KNN",
         "line": {
          "color": "#EF553B",
          "dash": "solid"
         },
         "marker": {
          "symbol": "circle"
         },
         "mode": "markers+lines",
         "name": "KNN",
         "orientation": "v",
         "showlegend": true,
         "type": "scatter",
         "x": [
          0.6666666666666666,
          0.5,
          0.4,
          0.3333333333333333,
          0.2857142857142857,
          0.25,
          0.2222222222222222,
          0.2,
          0.18181818181818182,
          0.16666666666666666,
          0.15384615384615385,
          0.14285714285714285,
          0.13333333333333333,
          0.125,
          0.11764705882352941,
          0.1111111111111111
         ],
         "xaxis": "x",
         "y": [
          0.6693168048640573,
          0.7346750369276218,
          0.7465027348928386,
          0.7535126594857972,
          0.7553569458711008,
          0.7653303040771895,
          0.7684657476864264,
          0.7716036136947938,
          0.7743687196696855,
          0.7717918028402595,
          0.7747389529275761,
          0.7756827964300793,
          0.7786256658090576,
          0.7765725348761278,
          0.7830318462187028,
          0.7812370750103693
         ],
         "yaxis": "y"
        },
        {
         "fill": "toself",
         "fillcolor": "rgba(0,204,150,.3)",
         "hoverinfo": "skip",
         "legendgroup": "LabelPropagation",
         "line": {
          "color": "rgba(255,255,255,0)"
         },
         "showlegend": false,
         "type": "scatter",
         "x": [
          0.6666666666666666,
          0.5,
          0.4,
          0.3333333333333333,
          0.2857142857142857,
          0.25,
          0.2222222222222222,
          0.2,
          0.18181818181818182,
          0.16666666666666666,
          0.15384615384615385,
          0.14285714285714285,
          0.13333333333333333,
          0.125,
          0.11764705882352941,
          0.1111111111111111,
          0.1111111111111111,
          0.11764705882352941,
          0.125,
          0.13333333333333333,
          0.14285714285714285,
          0.15384615384615385,
          0.16666666666666666,
          0.18181818181818182,
          0.2,
          0.2222222222222222,
          0.25,
          0.2857142857142857,
          0.3333333333333333,
          0.4,
          0.5,
          0.6666666666666666
         ],
         "xaxis": "x",
         "y": [
          0.7984246558703147,
          0.8271701051876447,
          0.8345583415401802,
          0.8517280700860794,
          0.861549979196344,
          0.863492255552526,
          0.8689731264028885,
          0.8705651037025801,
          0.8705994613793028,
          0.8693683113141703,
          0.877570987674646,
          0.877342099553161,
          0.879582141094411,
          0.8788537265578041,
          0.8777523009219045,
          0.8808624624037057,
          0.8351815475475889,
          0.8352891197334223,
          0.8334518968488084,
          0.8342251842364602,
          0.833521459488293,
          0.8343818177942373,
          0.8400001484471235,
          0.8361859473097791,
          0.8328832328756717,
          0.8326346897814086,
          0.8329698425567227,
          0.8267708258247229,
          0.8262647588662464,
          0.8231243486911591,
          0.8179554487266832,
          0.7817086639653821
         ],
         "yaxis": "y"
        },
        {
         "hovertemplate": "model=LabelPropagation<br>test_size=%{x}<br>test_acc_avg=%{y}<extra></extra>",
         "legendgroup": "LabelPropagation",
         "line": {
          "color": "#00cc96",
          "dash": "solid"
         },
         "marker": {
          "symbol": "circle"
         },
         "mode": "markers+lines",
         "name": "LabelPropagation",
         "orientation": "v",
         "showlegend": true,
         "type": "scatter",
         "x": [
          0.6666666666666666,
          0.5,
          0.4,
          0.3333333333333333,
          0.2857142857142857,
          0.25,
          0.2222222222222222,
          0.2,
          0.18181818181818182,
          0.16666666666666666,
          0.15384615384615385,
          0.14285714285714285,
          0.13333333333333333,
          0.125,
          0.11764705882352941,
          0.1111111111111111
         ],
         "xaxis": "x",
         "y": [
          0.7900666599178484,
          0.822562776957164,
          0.8288413451156696,
          0.8389964144761629,
          0.8441604025105335,
          0.8482310490546243,
          0.8508039080921486,
          0.8517241682891259,
          0.853392704344541,
          0.8546842298806469,
          0.8559764027344416,
          0.855431779520727,
          0.8569036626654356,
          0.8561528117033063,
          0.8565207103276634,
          0.8580220049756473
         ],
         "yaxis": "y"
        },
        {
         "fill": "toself",
         "fillcolor": "rgba(171,99,250,.3)",
         "hoverinfo": "skip",
         "legendgroup": "PageRank",
         "line": {
          "color": "rgba(255,255,255,0)"
         },
         "showlegend": false,
         "type": "scatter",
         "x": [
          0.6666666666666666,
          0.5,
          0.4,
          0.3333333333333333,
          0.2857142857142857,
          0.25,
          0.2222222222222222,
          0.2,
          0.18181818181818182,
          0.16666666666666666,
          0.15384615384615385,
          0.14285714285714285,
          0.13333333333333333,
          0.125,
          0.11764705882352941,
          0.1111111111111111,
          0.1111111111111111,
          0.11764705882352941,
          0.125,
          0.13333333333333333,
          0.14285714285714285,
          0.15384615384615385,
          0.16666666666666666,
          0.18181818181818182,
          0.2,
          0.2222222222222222,
          0.25,
          0.2857142857142857,
          0.3333333333333333,
          0.4,
          0.5,
          0.6666666666666666
         ],
         "xaxis": "x",
         "y": [
          0.8048795643178498,
          0.8301941682190952,
          0.8381426952941592,
          0.8441165608314124,
          0.8589910693754503,
          0.8559219079702993,
          0.8656792617842091,
          0.8639682780393114,
          0.8662102683447965,
          0.8644654612317222,
          0.8745074054582767,
          0.8710652802209357,
          0.8742062327583368,
          0.8745249684206214,
          0.8735426706548364,
          0.8787091026969105,
          0.8343989330632122,
          0.8336083150721569,
          0.8315285052283553,
          0.8303735642836204,
          0.8324173539461183,
          0.8263737499837243,
          0.835660156409544,
          0.8298701993703927,
          0.8261836533629354,
          0.8278074765115684,
          0.8324111759818589,
          0.8274873789189372,
          0.8294433134937002,
          0.8195454490344555,
          0.8182548716627365,
          0.7966728683754706
         ],
         "yaxis": "y"
        },
        {
         "hovertemplate": "model=PageRank<br>test_size=%{x}<br>test_acc_avg=%{y}<extra></extra>",
         "legendgroup": "PageRank",
         "line": {
          "color": "#ab63fa",
          "dash": "solid"
         },
         "marker": {
          "symbol": "circle"
         },
         "mode": "markers+lines",
         "name": "PageRank",
         "orientation": "v",
         "showlegend": true,
         "type": "scatter",
         "x": [
          0.6666666666666666,
          0.5,
          0.4,
          0.3333333333333333,
          0.2857142857142857,
          0.25,
          0.2222222222222222,
          0.2,
          0.18181818181818182,
          0.16666666666666666,
          0.15384615384615385,
          0.14285714285714285,
          0.13333333333333333,
          0.125,
          0.11764705882352941,
          0.1111111111111111
         ],
         "xaxis": "x",
         "y": [
          0.8007762163466602,
          0.8242245199409158,
          0.8288440721643073,
          0.8367799371625563,
          0.8432392241471938,
          0.8441665419760791,
          0.8467433691478887,
          0.8450759657011234,
          0.8480402338575946,
          0.8500628088206331,
          0.8504405777210005,
          0.851741317083527,
          0.8522898985209786,
          0.8530267368244884,
          0.8535754928634967,
          0.8565540178800614
         ],
         "yaxis": "y"
        }
       ],
       "layout": {
        "legend": {
         "title": {
          "text": "model"
         },
         "tracegroupgap": 0
        },
        "template": {
         "data": {
          "bar": [
           {
            "error_x": {
             "color": "#2a3f5f"
            },
            "error_y": {
             "color": "#2a3f5f"
            },
            "marker": {
             "line": {
              "color": "#E5ECF6",
              "width": 0.5
             },
             "pattern": {
              "fillmode": "overlay",
              "size": 10,
              "solidity": 0.2
             }
            },
            "type": "bar"
           }
          ],
          "barpolar": [
           {
            "marker": {
             "line": {
              "color": "#E5ECF6",
              "width": 0.5
             },
             "pattern": {
              "fillmode": "overlay",
              "size": 10,
              "solidity": 0.2
             }
            },
            "type": "barpolar"
           }
          ],
          "carpet": [
           {
            "aaxis": {
             "endlinecolor": "#2a3f5f",
             "gridcolor": "white",
             "linecolor": "white",
             "minorgridcolor": "white",
             "startlinecolor": "#2a3f5f"
            },
            "baxis": {
             "endlinecolor": "#2a3f5f",
             "gridcolor": "white",
             "linecolor": "white",
             "minorgridcolor": "white",
             "startlinecolor": "#2a3f5f"
            },
            "type": "carpet"
           }
          ],
          "choropleth": [
           {
            "colorbar": {
             "outlinewidth": 0,
             "ticks": ""
            },
            "type": "choropleth"
           }
          ],
          "contour": [
           {
            "colorbar": {
             "outlinewidth": 0,
             "ticks": ""
            },
            "colorscale": [
             [
              0,
              "#0d0887"
             ],
             [
              0.1111111111111111,
              "#46039f"
             ],
             [
              0.2222222222222222,
              "#7201a8"
             ],
             [
              0.3333333333333333,
              "#9c179e"
             ],
             [
              0.4444444444444444,
              "#bd3786"
             ],
             [
              0.5555555555555556,
              "#d8576b"
             ],
             [
              0.6666666666666666,
              "#ed7953"
             ],
             [
              0.7777777777777778,
              "#fb9f3a"
             ],
             [
              0.8888888888888888,
              "#fdca26"
             ],
             [
              1,
              "#f0f921"
             ]
            ],
            "type": "contour"
           }
          ],
          "contourcarpet": [
           {
            "colorbar": {
             "outlinewidth": 0,
             "ticks": ""
            },
            "type": "contourcarpet"
           }
          ],
          "heatmap": [
           {
            "colorbar": {
             "outlinewidth": 0,
             "ticks": ""
            },
            "colorscale": [
             [
              0,
              "#0d0887"
             ],
             [
              0.1111111111111111,
              "#46039f"
             ],
             [
              0.2222222222222222,
              "#7201a8"
             ],
             [
              0.3333333333333333,
              "#9c179e"
             ],
             [
              0.4444444444444444,
              "#bd3786"
             ],
             [
              0.5555555555555556,
              "#d8576b"
             ],
             [
              0.6666666666666666,
              "#ed7953"
             ],
             [
              0.7777777777777778,
              "#fb9f3a"
             ],
             [
              0.8888888888888888,
              "#fdca26"
             ],
             [
              1,
              "#f0f921"
             ]
            ],
            "type": "heatmap"
           }
          ],
          "heatmapgl": [
           {
            "colorbar": {
             "outlinewidth": 0,
             "ticks": ""
            },
            "colorscale": [
             [
              0,
              "#0d0887"
             ],
             [
              0.1111111111111111,
              "#46039f"
             ],
             [
              0.2222222222222222,
              "#7201a8"
             ],
             [
              0.3333333333333333,
              "#9c179e"
             ],
             [
              0.4444444444444444,
              "#bd3786"
             ],
             [
              0.5555555555555556,
              "#d8576b"
             ],
             [
              0.6666666666666666,
              "#ed7953"
             ],
             [
              0.7777777777777778,
              "#fb9f3a"
             ],
             [
              0.8888888888888888,
              "#fdca26"
             ],
             [
              1,
              "#f0f921"
             ]
            ],
            "type": "heatmapgl"
           }
          ],
          "histogram": [
           {
            "marker": {
             "pattern": {
              "fillmode": "overlay",
              "size": 10,
              "solidity": 0.2
             }
            },
            "type": "histogram"
           }
          ],
          "histogram2d": [
           {
            "colorbar": {
             "outlinewidth": 0,
             "ticks": ""
            },
            "colorscale": [
             [
              0,
              "#0d0887"
             ],
             [
              0.1111111111111111,
              "#46039f"
             ],
             [
              0.2222222222222222,
              "#7201a8"
             ],
             [
              0.3333333333333333,
              "#9c179e"
             ],
             [
              0.4444444444444444,
              "#bd3786"
             ],
             [
              0.5555555555555556,
              "#d8576b"
             ],
             [
              0.6666666666666666,
              "#ed7953"
             ],
             [
              0.7777777777777778,
              "#fb9f3a"
             ],
             [
              0.8888888888888888,
              "#fdca26"
             ],
             [
              1,
              "#f0f921"
             ]
            ],
            "type": "histogram2d"
           }
          ],
          "histogram2dcontour": [
           {
            "colorbar": {
             "outlinewidth": 0,
             "ticks": ""
            },
            "colorscale": [
             [
              0,
              "#0d0887"
             ],
             [
              0.1111111111111111,
              "#46039f"
             ],
             [
              0.2222222222222222,
              "#7201a8"
             ],
             [
              0.3333333333333333,
              "#9c179e"
             ],
             [
              0.4444444444444444,
              "#bd3786"
             ],
             [
              0.5555555555555556,
              "#d8576b"
             ],
             [
              0.6666666666666666,
              "#ed7953"
             ],
             [
              0.7777777777777778,
              "#fb9f3a"
             ],
             [
              0.8888888888888888,
              "#fdca26"
             ],
             [
              1,
              "#f0f921"
             ]
            ],
            "type": "histogram2dcontour"
           }
          ],
          "mesh3d": [
           {
            "colorbar": {
             "outlinewidth": 0,
             "ticks": ""
            },
            "type": "mesh3d"
           }
          ],
          "parcoords": [
           {
            "line": {
             "colorbar": {
              "outlinewidth": 0,
              "ticks": ""
             }
            },
            "type": "parcoords"
           }
          ],
          "pie": [
           {
            "automargin": true,
            "type": "pie"
           }
          ],
          "scatter": [
           {
            "fillpattern": {
             "fillmode": "overlay",
             "size": 10,
             "solidity": 0.2
            },
            "type": "scatter"
           }
          ],
          "scatter3d": [
           {
            "line": {
             "colorbar": {
              "outlinewidth": 0,
              "ticks": ""
             }
            },
            "marker": {
             "colorbar": {
              "outlinewidth": 0,
              "ticks": ""
             }
            },
            "type": "scatter3d"
           }
          ],
          "scattercarpet": [
           {
            "marker": {
             "colorbar": {
              "outlinewidth": 0,
              "ticks": ""
             }
            },
            "type": "scattercarpet"
           }
          ],
          "scattergeo": [
           {
            "marker": {
             "colorbar": {
              "outlinewidth": 0,
              "ticks": ""
             }
            },
            "type": "scattergeo"
           }
          ],
          "scattergl": [
           {
            "marker": {
             "colorbar": {
              "outlinewidth": 0,
              "ticks": ""
             }
            },
            "type": "scattergl"
           }
          ],
          "scattermapbox": [
           {
            "marker": {
             "colorbar": {
              "outlinewidth": 0,
              "ticks": ""
             }
            },
            "type": "scattermapbox"
           }
          ],
          "scatterpolar": [
           {
            "marker": {
             "colorbar": {
              "outlinewidth": 0,
              "ticks": ""
             }
            },
            "type": "scatterpolar"
           }
          ],
          "scatterpolargl": [
           {
            "marker": {
             "colorbar": {
              "outlinewidth": 0,
              "ticks": ""
             }
            },
            "type": "scatterpolargl"
           }
          ],
          "scatterternary": [
           {
            "marker": {
             "colorbar": {
              "outlinewidth": 0,
              "ticks": ""
             }
            },
            "type": "scatterternary"
           }
          ],
          "surface": [
           {
            "colorbar": {
             "outlinewidth": 0,
             "ticks": ""
            },
            "colorscale": [
             [
              0,
              "#0d0887"
             ],
             [
              0.1111111111111111,
              "#46039f"
             ],
             [
              0.2222222222222222,
              "#7201a8"
             ],
             [
              0.3333333333333333,
              "#9c179e"
             ],
             [
              0.4444444444444444,
              "#bd3786"
             ],
             [
              0.5555555555555556,
              "#d8576b"
             ],
             [
              0.6666666666666666,
              "#ed7953"
             ],
             [
              0.7777777777777778,
              "#fb9f3a"
             ],
             [
              0.8888888888888888,
              "#fdca26"
             ],
             [
              1,
              "#f0f921"
             ]
            ],
            "type": "surface"
           }
          ],
          "table": [
           {
            "cells": {
             "fill": {
              "color": "#EBF0F8"
             },
             "line": {
              "color": "white"
             }
            },
            "header": {
             "fill": {
              "color": "#C8D4E3"
             },
             "line": {
              "color": "white"
             }
            },
            "type": "table"
           }
          ]
         },
         "layout": {
          "annotationdefaults": {
           "arrowcolor": "#2a3f5f",
           "arrowhead": 0,
           "arrowwidth": 1
          },
          "autotypenumbers": "strict",
          "coloraxis": {
           "colorbar": {
            "outlinewidth": 0,
            "ticks": ""
           }
          },
          "colorscale": {
           "diverging": [
            [
             0,
             "#8e0152"
            ],
            [
             0.1,
             "#c51b7d"
            ],
            [
             0.2,
             "#de77ae"
            ],
            [
             0.3,
             "#f1b6da"
            ],
            [
             0.4,
             "#fde0ef"
            ],
            [
             0.5,
             "#f7f7f7"
            ],
            [
             0.6,
             "#e6f5d0"
            ],
            [
             0.7,
             "#b8e186"
            ],
            [
             0.8,
             "#7fbc41"
            ],
            [
             0.9,
             "#4d9221"
            ],
            [
             1,
             "#276419"
            ]
           ],
           "sequential": [
            [
             0,
             "#0d0887"
            ],
            [
             0.1111111111111111,
             "#46039f"
            ],
            [
             0.2222222222222222,
             "#7201a8"
            ],
            [
             0.3333333333333333,
             "#9c179e"
            ],
            [
             0.4444444444444444,
             "#bd3786"
            ],
            [
             0.5555555555555556,
             "#d8576b"
            ],
            [
             0.6666666666666666,
             "#ed7953"
            ],
            [
             0.7777777777777778,
             "#fb9f3a"
            ],
            [
             0.8888888888888888,
             "#fdca26"
            ],
            [
             1,
             "#f0f921"
            ]
           ],
           "sequentialminus": [
            [
             0,
             "#0d0887"
            ],
            [
             0.1111111111111111,
             "#46039f"
            ],
            [
             0.2222222222222222,
             "#7201a8"
            ],
            [
             0.3333333333333333,
             "#9c179e"
            ],
            [
             0.4444444444444444,
             "#bd3786"
            ],
            [
             0.5555555555555556,
             "#d8576b"
            ],
            [
             0.6666666666666666,
             "#ed7953"
            ],
            [
             0.7777777777777778,
             "#fb9f3a"
            ],
            [
             0.8888888888888888,
             "#fdca26"
            ],
            [
             1,
             "#f0f921"
            ]
           ]
          },
          "colorway": [
           "#636efa",
           "#EF553B",
           "#00cc96",
           "#ab63fa",
           "#FFA15A",
           "#19d3f3",
           "#FF6692",
           "#B6E880",
           "#FF97FF",
           "#FECB52"
          ],
          "font": {
           "color": "#2a3f5f"
          },
          "geo": {
           "bgcolor": "white",
           "lakecolor": "white",
           "landcolor": "#E5ECF6",
           "showlakes": true,
           "showland": true,
           "subunitcolor": "white"
          },
          "hoverlabel": {
           "align": "left"
          },
          "hovermode": "closest",
          "mapbox": {
           "style": "light"
          },
          "paper_bgcolor": "white",
          "plot_bgcolor": "#E5ECF6",
          "polar": {
           "angularaxis": {
            "gridcolor": "white",
            "linecolor": "white",
            "ticks": ""
           },
           "bgcolor": "#E5ECF6",
           "radialaxis": {
            "gridcolor": "white",
            "linecolor": "white",
            "ticks": ""
           }
          },
          "scene": {
           "xaxis": {
            "backgroundcolor": "#E5ECF6",
            "gridcolor": "white",
            "gridwidth": 2,
            "linecolor": "white",
            "showbackground": true,
            "ticks": "",
            "zerolinecolor": "white"
           },
           "yaxis": {
            "backgroundcolor": "#E5ECF6",
            "gridcolor": "white",
            "gridwidth": 2,
            "linecolor": "white",
            "showbackground": true,
            "ticks": "",
            "zerolinecolor": "white"
           },
           "zaxis": {
            "backgroundcolor": "#E5ECF6",
            "gridcolor": "white",
            "gridwidth": 2,
            "linecolor": "white",
            "showbackground": true,
            "ticks": "",
            "zerolinecolor": "white"
           }
          },
          "shapedefaults": {
           "line": {
            "color": "#2a3f5f"
           }
          },
          "ternary": {
           "aaxis": {
            "gridcolor": "white",
            "linecolor": "white",
            "ticks": ""
           },
           "baxis": {
            "gridcolor": "white",
            "linecolor": "white",
            "ticks": ""
           },
           "bgcolor": "#E5ECF6",
           "caxis": {
            "gridcolor": "white",
            "linecolor": "white",
            "ticks": ""
           }
          },
          "title": {
           "x": 0.05
          },
          "xaxis": {
           "automargin": true,
           "gridcolor": "white",
           "linecolor": "white",
           "ticks": "",
           "title": {
            "standoff": 15
           },
           "zerolinecolor": "white",
           "zerolinewidth": 2
          },
          "yaxis": {
           "automargin": true,
           "gridcolor": "white",
           "linecolor": "white",
           "ticks": "",
           "title": {
            "standoff": 15
           },
           "zerolinecolor": "white",
           "zerolinewidth": 2
          }
         }
        },
        "title": {
         "text": "Test accuracy"
        },
        "xaxis": {
         "anchor": "y",
         "domain": [
          0,
          1
         ],
         "title": {
          "text": "test_size"
         }
        },
        "yaxis": {
         "anchor": "x",
         "domain": [
          0,
          1
         ],
         "title": {
          "text": "test_acc_avg"
         }
        }
       }
      }
     },
     "metadata": {},
     "output_type": "display_data"
    }
   ],
   "source": [
    "for error_y_mode in {'band'}:\n",
    "    fig = line(\n",
    "        data_frame = grouped,\n",
    "        x = 'test_size',\n",
    "        y = 'test_acc_avg',\n",
    "        error_y = 'test_acc_std',\n",
    "        error_y_mode = error_y_mode,\n",
    "        color = 'model',\n",
    "        title = f'Test accuracy',\n",
    "        markers = '.',\n",
    "    )\n",
    "    fig.show()"
   ]
  },
  {
   "attachments": {},
   "cell_type": "markdown",
   "metadata": {},
   "source": [
    "## Annexes\n",
    "---"
   ]
  },
  {
   "cell_type": "code",
   "execution_count": 21,
   "metadata": {},
   "outputs": [],
   "source": [
    "import plotly.express as px\n",
    "import plotly.graph_objs as go\n",
    "\n",
    "def line(error_y_mode=None, **kwargs):\n",
    "    \"\"\"Extension of `plotly.express.line` to use error bands.\"\"\"\n",
    "    ERROR_MODES = {'bar','band','bars','bands',None}\n",
    "    if error_y_mode not in ERROR_MODES:\n",
    "        raise ValueError(f\"'error_y_mode' must be one of {ERROR_MODES}, received {repr(error_y_mode)}.\")\n",
    "    if error_y_mode in {'bar','bars',None}:\n",
    "        fig = px.line(**kwargs)\n",
    "    elif error_y_mode in {'band','bands'}:\n",
    "        if 'error_y' not in kwargs:\n",
    "            raise ValueError(f\"If you provide argument 'error_y_mode' you must also provide 'error_y'.\")\n",
    "        figure_with_error_bars = px.line(**kwargs)\n",
    "        fig = px.line(**{arg: val for arg,val in kwargs.items() if arg != 'error_y'})\n",
    "        for data in figure_with_error_bars.data:\n",
    "            x = list(data['x'])\n",
    "            y_upper = list(data['y'] + data['error_y']['array'])\n",
    "            y_lower = list(data['y'] - data['error_y']['array'] if data['error_y']['arrayminus'] is None else data['y'] - data['error_y']['arrayminus'])\n",
    "            color = f\"rgba({tuple(int(data['line']['color'].lstrip('#')[i:i+2], 16) for i in (0, 2, 4))},.3)\".replace('((','(').replace('),',',').replace(' ','')\n",
    "            fig.add_trace(\n",
    "                go.Scatter(\n",
    "                    x = x+x[::-1],\n",
    "                    y = y_upper+y_lower[::-1],\n",
    "                    fill = 'toself',\n",
    "                    fillcolor = color,\n",
    "                    line = dict(\n",
    "                        color = 'rgba(255,255,255,0)'\n",
    "                    ),\n",
    "                    hoverinfo = \"skip\",\n",
    "                    showlegend = False,\n",
    "                    legendgroup = data['legendgroup'],\n",
    "                    xaxis = data['xaxis'],\n",
    "                    yaxis = data['yaxis'],\n",
    "                )\n",
    "            )\n",
    "        # Reorder data as said here: https://stackoverflow.com/a/66854398/8849755\n",
    "        reordered_data = []\n",
    "        for i in range(int(len(fig.data)/2)):\n",
    "            reordered_data.append(fig.data[i+int(len(fig.data)/2)])\n",
    "            reordered_data.append(fig.data[i])\n",
    "        fig.data = tuple(reordered_data)\n",
    "    return fig"
   ]
  },
  {
   "cell_type": "code",
   "execution_count": null,
   "metadata": {},
   "outputs": [],
   "source": []
  }
 ],
 "metadata": {
  "kernelspec": {
   "display_name": "GNNPerf",
   "language": "python",
   "name": "gnnperf"
  },
  "language_info": {
   "codemirror_mode": {
    "name": "ipython",
    "version": 3
   },
   "file_extension": ".py",
   "mimetype": "text/x-python",
   "name": "python",
   "nbconvert_exporter": "python",
   "pygments_lexer": "ipython3",
   "version": "3.9.16"
  },
  "orig_nbformat": 4
 },
 "nbformat": 4,
 "nbformat_minor": 2
}
